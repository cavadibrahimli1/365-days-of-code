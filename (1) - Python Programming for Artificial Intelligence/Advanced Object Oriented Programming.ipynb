{
 "cells": [
  {
   "cell_type": "markdown",
   "source": [
    "# Advanced Object Oriented Programming\n",
    "\n",
    "This notebook is created by Eda AYDIN through by Udemy, DATAI Team."
   ],
   "metadata": {
    "collapsed": false
   }
  },
  {
   "cell_type": "markdown",
   "source": [
    "## Classes"
   ],
   "metadata": {
    "collapsed": false
   }
  },
  {
   "cell_type": "code",
   "execution_count": 1,
   "metadata": {
    "collapsed": true
   },
   "outputs": [],
   "source": [
    "# While writing the class name, you should use capital letter for the first letter.\n",
    "class Employee(object): # object: Object is created to use inside Employee (We don't write this, because Python creates it automatically.)\n",
    "    pass # If we do not write anything in the class, but we do not want to see the Syntax Error while running the whole, we use pass.\n",
    "    # attribute : age, address, name\n",
    "    # behavior : pass, run\n",
    "\n",
    "employee1 = Employee()"
   ]
  },
  {
   "cell_type": "code",
   "execution_count": 2,
   "outputs": [
    {
     "name": "stdout",
     "output_type": "stream",
     "text": [
      "<__main__.Employee object at 0x000001BCC991C640>\n"
     ]
    }
   ],
   "source": [
    "print(employee1) # We created object for Employee class"
   ],
   "metadata": {
    "collapsed": false,
    "pycharm": {
     "name": "#%%\n"
    }
   }
  },
  {
   "cell_type": "markdown",
   "source": [
    "## Attributes"
   ],
   "metadata": {
    "collapsed": false
   }
  },
  {
   "cell_type": "code",
   "execution_count": 3,
   "outputs": [
    {
     "name": "stdout",
     "output_type": "stream",
     "text": [
      "<__main__.FootballPlayers object at 0x000001BCC9D5D760>\n"
     ]
    }
   ],
   "source": [
    "class FootballPlayers:\n",
    "\n",
    "   football_club = \"Barcelona\"\n",
    "   age = 30\n",
    "\n",
    "f1 = FootballPlayers()\n",
    "print(f1) # print the object we created"
   ],
   "metadata": {
    "collapsed": false,
    "pycharm": {
     "name": "#%%\n"
    }
   }
  },
  {
   "cell_type": "code",
   "execution_count": 4,
   "outputs": [
    {
     "name": "stdout",
     "output_type": "stream",
     "text": [
      "30\n"
     ]
    }
   ],
   "source": [
    "print(f1.age)"
   ],
   "metadata": {
    "collapsed": false,
    "pycharm": {
     "name": "#%%\n"
    }
   }
  },
  {
   "cell_type": "code",
   "execution_count": 5,
   "outputs": [
    {
     "name": "stdout",
     "output_type": "stream",
     "text": [
      "Barcelona\n"
     ]
    }
   ],
   "source": [
    "print(f1.football_club)"
   ],
   "metadata": {
    "collapsed": false,
    "pycharm": {
     "name": "#%%\n"
    }
   }
  },
  {
   "cell_type": "code",
   "execution_count": 6,
   "outputs": [],
   "source": [
    "f1.football_club = \"Real Madrid\""
   ],
   "metadata": {
    "collapsed": false,
    "pycharm": {
     "name": "#%%\n"
    }
   }
  },
  {
   "cell_type": "code",
   "execution_count": 7,
   "outputs": [
    {
     "name": "stdout",
     "output_type": "stream",
     "text": [
      "Real Madrid\n"
     ]
    }
   ],
   "source": [
    "print(f1.football_club)"
   ],
   "metadata": {
    "collapsed": false,
    "pycharm": {
     "name": "#%%\n"
    }
   }
  },
  {
   "cell_type": "markdown",
   "source": [],
   "metadata": {
    "collapsed": false
   }
  },
  {
   "cell_type": "markdown",
   "source": [
    "It may not always be correct to change it in any way, normally in code written by someone else. In this section, I created a class in this way to explain what the Attribute expression is and how it works."
   ],
   "metadata": {
    "collapsed": false,
    "pycharm": {
     "name": "#%% md\n"
    }
   }
  },
  {
   "cell_type": "markdown",
   "source": [
    "## Methods"
   ],
   "metadata": {
    "collapsed": false
   }
  },
  {
   "cell_type": "code",
   "execution_count": 8,
   "outputs": [
    {
     "name": "stdout",
     "output_type": "stream",
     "text": [
      "Circumference of square : 28 and Area of square: 49\n"
     ]
    }
   ],
   "source": [
    "class Square:\n",
    "    def __init__(self, edge):\n",
    "        self.edge = edge\n",
    "\n",
    "    def calculateCircumference(self):\n",
    "        return self.edge * 4\n",
    "\n",
    "    def calculateArea(self):\n",
    "        return self.edge ** 2\n",
    "\n",
    "\n",
    "square = Square(int(input(\"Enter the number:\")))\n",
    "print(\"Circumference of square : {} and Area of square: {}\".format(square.calculateCircumference(),square.calculateArea()))"
   ],
   "metadata": {
    "collapsed": false,
    "pycharm": {
     "name": "#%%\n"
    }
   }
  },
  {
   "cell_type": "markdown",
   "source": [
    "## Methods and Functions"
   ],
   "metadata": {
    "collapsed": false
   }
  },
  {
   "cell_type": "code",
   "execution_count": 9,
   "outputs": [
    {
     "data": {
      "text/plain": "0.07428571428571429"
     },
     "execution_count": 9,
     "metadata": {},
     "output_type": "execute_result"
    }
   ],
   "source": [
    "class Employee2:\n",
    "    def __init__(self,age,salary):\n",
    "        self.age = age\n",
    "        self.salary = salary\n",
    "\n",
    "    def ageSalaryRatio(self): # This is a method. This takes objects not variable.\n",
    "        return self.age / self.salary\n",
    "\n",
    "\n",
    "def ageSalaryRatio2(age,salary): # This is a function. This function does not depend on any class. So, this takes just variable, not object.\n",
    "    return age / salary\n",
    "\n",
    "age = int(input())\n",
    "salary = int(input())\n",
    "employee = Employee2(age,salary)\n",
    "employee.ageSalaryRatio()\n"
   ],
   "metadata": {
    "collapsed": false,
    "pycharm": {
     "name": "#%%\n"
    }
   }
  },
  {
   "cell_type": "code",
   "execution_count": 10,
   "outputs": [
    {
     "data": {
      "text/plain": "0.07428571428571429"
     },
     "execution_count": 10,
     "metadata": {},
     "output_type": "execute_result"
    }
   ],
   "source": [
    "ageSalaryRatio2(age,salary)"
   ],
   "metadata": {
    "collapsed": false,
    "pycharm": {
     "name": "#%%\n"
    }
   }
  },
  {
   "cell_type": "code",
   "execution_count": 11,
   "outputs": [],
   "source": [
    "import math\n",
    "\n",
    "class Area:\n",
    "    def __init__(self,radius,a,b):\n",
    "        self.radius = radius\n",
    "        self.a = a\n",
    "        self.b = b\n",
    "        self.pi = math.pi\n",
    "\n",
    "    def circleArea(self):\n",
    "        print(\"Radius is : {}\".format(self.radius))\n",
    "        return self.pi * self.radius **2\n",
    "\n",
    "    def squareArea(self):\n",
    "        print(\"Edge is : {}\".format(self.a))\n",
    "        return self.a ** 2\n",
    "\n",
    "    def rectangularArea(self):\n",
    "        print(\"Edges are : {} and {}\".format(self.a, self.b))\n",
    "        return self.a * self.b"
   ],
   "metadata": {
    "collapsed": false,
    "pycharm": {
     "name": "#%%\n"
    }
   }
  },
  {
   "cell_type": "code",
   "execution_count": 12,
   "outputs": [
    {
     "name": "stdout",
     "output_type": "stream",
     "text": [
      "Edge is : 4\n"
     ]
    },
    {
     "data": {
      "text/plain": "16"
     },
     "execution_count": 12,
     "metadata": {},
     "output_type": "execute_result"
    }
   ],
   "source": [
    "square = Area(0,int(input()),0)\n",
    "square.squareArea()"
   ],
   "metadata": {
    "collapsed": false,
    "pycharm": {
     "name": "#%%\n"
    }
   }
  },
  {
   "cell_type": "code",
   "execution_count": 13,
   "outputs": [
    {
     "name": "stdout",
     "output_type": "stream",
     "text": [
      "Edges are : 4 and 5\n"
     ]
    },
    {
     "data": {
      "text/plain": "20"
     },
     "execution_count": 13,
     "metadata": {},
     "output_type": "execute_result"
    }
   ],
   "source": [
    "rectangular = Area(0, int(input()), int(input()))\n",
    "rectangular.rectangularArea()"
   ],
   "metadata": {
    "collapsed": false,
    "pycharm": {
     "name": "#%%\n"
    }
   }
  },
  {
   "cell_type": "code",
   "execution_count": 14,
   "outputs": [
    {
     "name": "stdout",
     "output_type": "stream",
     "text": [
      "Radius is : 4\n"
     ]
    },
    {
     "data": {
      "text/plain": "50.26548245743669"
     },
     "execution_count": 14,
     "metadata": {},
     "output_type": "execute_result"
    }
   ],
   "source": [
    "radius = Area(int(input()),0,0)\n",
    "radius.circleArea()"
   ],
   "metadata": {
    "collapsed": false,
    "pycharm": {
     "name": "#%%\n"
    }
   }
  },
  {
   "cell_type": "markdown",
   "source": [
    "## Constructor / Initializer"
   ],
   "metadata": {
    "collapsed": false
   }
  },
  {
   "cell_type": "code",
   "execution_count": 18,
   "outputs": [],
   "source": [
    "class Animal:\n",
    "\n",
    "    def __init__(self,breed,age):\n",
    "        self.breed = breed\n",
    "        self.age = age\n",
    "\n",
    "    def getAge(self):\n",
    "        return self.age\n",
    "\n",
    "    def getBreed(self):\n",
    "        return self.breed"
   ],
   "metadata": {
    "collapsed": false,
    "pycharm": {
     "name": "#%%\n"
    }
   }
  },
  {
   "cell_type": "code",
   "execution_count": 19,
   "outputs": [
    {
     "data": {
      "text/plain": "4"
     },
     "execution_count": 19,
     "metadata": {},
     "output_type": "execute_result"
    }
   ],
   "source": [
    "animal1 = Animal(input(),int(input())) #If you use just input(), the Python understand that you write a string. Remember in each coding part.\n",
    "animal1.getAge()"
   ],
   "metadata": {
    "collapsed": false,
    "pycharm": {
     "name": "#%%\n"
    }
   }
  },
  {
   "cell_type": "code",
   "execution_count": 20,
   "outputs": [
    {
     "data": {
      "text/plain": "'Golden Retriever'"
     },
     "execution_count": 20,
     "metadata": {},
     "output_type": "execute_result"
    }
   ],
   "source": [
    "animal1.getBreed()"
   ],
   "metadata": {
    "collapsed": false,
    "pycharm": {
     "name": "#%%\n"
    }
   }
  },
  {
   "cell_type": "markdown",
   "source": [
    "## Calculator Project"
   ],
   "metadata": {
    "collapsed": false
   }
  },
  {
   "cell_type": "code",
   "execution_count": 21,
   "outputs": [],
   "source": [
    "class Calculator:\n",
    "    \"\"\"Calculator\"\"\"\n",
    "\n",
    "    def __init__(self,x, y,operation):\n",
    "        \"\"\"Initialize values\"\"\"\n",
    "        self.x = x\n",
    "        self.y = y\n",
    "        self.operation = operation\n",
    "\n",
    "    def printResult(self,result):\n",
    "        print(\"You entered: {} and {} numbers, and {} mathematical operation. Your result is {} {} {} = {}\".format(\n",
    "            self.x,self.y,self.operation,self.x,self.operation,self.y,result))\n",
    "\n",
    "    def determineOperation(self):\n",
    "        \"\"\"Get the user 2 integer input with 1 string operation sign and calculate the result according to operation sign.\n",
    "        If user enter the wrong operation sign, the code will ask it again.\"\"\"\n",
    "\n",
    "        if self.operation == \"+\": self.printResult(self.x + self.y)\n",
    "        elif self.operation == \"-\": self.printResult(self.x - self.y)\n",
    "        elif self.operation == \"*\": self.printResult(self.x * self.y)\n",
    "        elif self.operation == \"/\": self.printResult(self.x / self.y)\n",
    "        elif self.operation == \"%\": self.printResult(self.x % self.y)\n",
    "        elif self.operation == \"**\": self.printResult(self.x ** self.y)\n",
    "        elif self.operation == \"//\": self.printResult(self.x // self.y)\n",
    "        else:\n",
    "            print(\"You entered {} operation.This operation is not define in the mathematics. Try again.\".format(self.operation))\n",
    "            time.sleep(1)\n",
    "            input2 = Calculator(int(input(\"Enter the first number: \")),\n",
    "                                int(input(\"Enter the second number: \")),\n",
    "                                input(\"Enter the operation sign: \"))\n",
    "            return input2.determineOperation()\n",
    "\n",
    "\n"
   ],
   "metadata": {
    "collapsed": false,
    "pycharm": {
     "name": "#%%\n"
    }
   }
  },
  {
   "cell_type": "code",
   "execution_count": 22,
   "outputs": [
    {
     "name": "stdout",
     "output_type": "stream",
     "text": [
      "You entered -- operation.This operation is not define in the mathematics. Try again.\n",
      "You entered: 4 and 5 numbers, and - mathematical operation. Your result is 4 - 5 = -1\n"
     ]
    }
   ],
   "source": [
    "input1 = Calculator(int(input(\"Enter the first number: \")),\n",
    "                    int(input(\"Enter the second number: \")),\n",
    "                    input(\"Enter the operation sign: \"))\n",
    "input1.determineOperation()"
   ],
   "metadata": {
    "collapsed": false,
    "pycharm": {
     "name": "#%%\n"
    }
   }
  },
  {
   "cell_type": "markdown",
   "source": [
    "## Encapsulation\n",
    "\n",
    "Restricting external access to variables defined in any class is called **encapsulation**."
   ],
   "metadata": {
    "collapsed": false
   }
  },
  {
   "cell_type": "code",
   "execution_count": 11,
   "outputs": [],
   "source": [
    "import time\n",
    "import pandas as pd\n",
    "\n",
    "class BankAccount:\n",
    "\n",
    "    def __init__(self,name, money, address):\n",
    "        self.name = name # global variable\n",
    "        self.__money = money # private variable\n",
    "        self.address = address # global variable\n",
    "\n",
    "    def getMoney(self):\n",
    "        return self.__money\n",
    "\n",
    "    def setMoney(self,money):\n",
    "        self.__money = money\n",
    "\n",
    "    # private\n",
    "    def __increase(self):\n",
    "        self.__money = self.__money + 500\n",
    "\n",
    "if __name__ == '__main__':\n",
    "    n = int(input(\"Enter the number as the number of people your want to add: \"))\n",
    "    for i in range(1,n+1):\n",
    "        globals()['person{}'.format(i)] =  BankAccount(input(\"Enter the name:\"),\n",
    "                                                       int(input(\"Enter the money:\")),\n",
    "                                                       input(\"Enter the address:\"))"
   ],
   "metadata": {
    "collapsed": false,
    "pycharm": {
     "name": "#%%\n"
    }
   }
  },
  {
   "cell_type": "code",
   "execution_count": 12,
   "outputs": [
    {
     "data": {
      "text/plain": "100"
     },
     "execution_count": 12,
     "metadata": {},
     "output_type": "execute_result"
    }
   ],
   "source": [
    "person1.getMoney()"
   ],
   "metadata": {
    "collapsed": false,
    "pycharm": {
     "name": "#%%\n"
    }
   }
  },
  {
   "cell_type": "code",
   "execution_count": 13,
   "outputs": [
    {
     "data": {
      "text/plain": "200"
     },
     "execution_count": 13,
     "metadata": {},
     "output_type": "execute_result"
    }
   ],
   "source": [
    "person2.getMoney()"
   ],
   "metadata": {
    "collapsed": false,
    "pycharm": {
     "name": "#%%\n"
    }
   }
  },
  {
   "cell_type": "code",
   "execution_count": 14,
   "outputs": [
    {
     "name": "stdout",
     "output_type": "stream",
     "text": [
      "get method: 100\n"
     ]
    }
   ],
   "source": [
    "print(\"get method:\",person1.getMoney())"
   ],
   "metadata": {
    "collapsed": false,
    "pycharm": {
     "name": "#%%\n"
    }
   }
  },
  {
   "cell_type": "code",
   "execution_count": 15,
   "outputs": [],
   "source": [
    "person1.setMoney(500)"
   ],
   "metadata": {
    "collapsed": false,
    "pycharm": {
     "name": "#%%\n"
    }
   }
  },
  {
   "cell_type": "code",
   "execution_count": 16,
   "outputs": [
    {
     "name": "stdout",
     "output_type": "stream",
     "text": [
      "after set method: 500\n"
     ]
    }
   ],
   "source": [
    "print(\"after set method:\",person1.getMoney())"
   ],
   "metadata": {
    "collapsed": false,
    "pycharm": {
     "name": "#%%\n"
    }
   }
  },
  {
   "cell_type": "code",
   "execution_count": 17,
   "outputs": [
    {
     "ename": "AttributeError",
     "evalue": "'BankAccount' object has no attribute '__increase'",
     "output_type": "error",
     "traceback": [
      "\u001B[1;31m---------------------------------------------------------------------------\u001B[0m",
      "\u001B[1;31mAttributeError\u001B[0m                            Traceback (most recent call last)",
      "\u001B[1;32m<ipython-input-17-f3083936160d>\u001B[0m in \u001B[0;36m<module>\u001B[1;34m\u001B[0m\n\u001B[1;32m----> 1\u001B[1;33m \u001B[0mperson1\u001B[0m\u001B[1;33m.\u001B[0m\u001B[0m__increase\u001B[0m\u001B[1;33m(\u001B[0m\u001B[1;33m)\u001B[0m\u001B[1;33m\u001B[0m\u001B[1;33m\u001B[0m\u001B[0m\n\u001B[0m",
      "\u001B[1;31mAttributeError\u001B[0m: 'BankAccount' object has no attribute '__increase'"
     ]
    }
   ],
   "source": [
    "person1.__increase()"
   ],
   "metadata": {
    "collapsed": false,
    "pycharm": {
     "name": "#%%\n"
    }
   }
  },
  {
   "cell_type": "code",
   "execution_count": 18,
   "outputs": [
    {
     "name": "stdout",
     "output_type": "stream",
     "text": [
      "after raise: 500\n"
     ]
    }
   ],
   "source": [
    "print(\"after raise:\",person1.getMoney())"
   ],
   "metadata": {
    "collapsed": false,
    "pycharm": {
     "name": "#%%\n"
    }
   }
  },
  {
   "cell_type": "markdown",
   "source": [
    "Since the __increase() method is a private method, it cannot be accessed by any means from the outside."
   ],
   "metadata": {
    "collapsed": false
   }
  },
  {
   "cell_type": "markdown",
   "source": [
    "## Inheritance\n",
    "\n",
    "Creating a new class using the variables or methods of a previously created class is called **inheritance**."
   ],
   "metadata": {
    "collapsed": false
   }
  },
  {
   "cell_type": "code",
   "execution_count": 24,
   "outputs": [],
   "source": [
    "# Parent class\n",
    "class Animal:\n",
    "    def __init__(self):\n",
    "        print(\"Animal is created.\")\n",
    "\n",
    "    def toString(self):\n",
    "        print(\"This is animal.\")\n",
    "\n",
    "    def walk(self):\n",
    "        print(\"Animal can walk.\")"
   ],
   "metadata": {
    "collapsed": false,
    "pycharm": {
     "name": "#%%\n"
    }
   }
  },
  {
   "cell_type": "code",
   "execution_count": 25,
   "outputs": [],
   "source": [
    "# Child class\n",
    "class Monkey(Animal):\n",
    "    def __init__(self):\n",
    "        super().__init__() #get the variables from Animal. I can use init of (animal) class\n",
    "        print(\"Monkey is created\")\n",
    "\n",
    "    def toString(self):\n",
    "        print(\"This is monkey.\")\n",
    "\n",
    "    def climb(self):\n",
    "        print(\"Monkey can climb.\")"
   ],
   "metadata": {
    "collapsed": false,
    "pycharm": {
     "name": "#%%\n"
    }
   }
  },
  {
   "cell_type": "code",
   "execution_count": 26,
   "outputs": [
    {
     "name": "stdout",
     "output_type": "stream",
     "text": [
      "Animal is created.\n",
      "Monkey is created\n"
     ]
    }
   ],
   "source": [
    "m1 = Monkey()"
   ],
   "metadata": {
    "collapsed": false,
    "pycharm": {
     "name": "#%%\n"
    }
   }
  },
  {
   "cell_type": "code",
   "execution_count": 27,
   "outputs": [
    {
     "name": "stdout",
     "output_type": "stream",
     "text": [
      "This is monkey.\n"
     ]
    }
   ],
   "source": [
    "m1.toString()"
   ],
   "metadata": {
    "collapsed": false,
    "pycharm": {
     "name": "#%%\n"
    }
   }
  },
  {
   "cell_type": "code",
   "execution_count": 28,
   "outputs": [
    {
     "name": "stdout",
     "output_type": "stream",
     "text": [
      "Animal can walk.\n"
     ]
    }
   ],
   "source": [
    "m1.walk()"
   ],
   "metadata": {
    "collapsed": false,
    "pycharm": {
     "name": "#%%\n"
    }
   }
  },
  {
   "cell_type": "code",
   "execution_count": 29,
   "outputs": [
    {
     "name": "stdout",
     "output_type": "stream",
     "text": [
      "Monkey can climb.\n"
     ]
    }
   ],
   "source": [
    "m1.climb()"
   ],
   "metadata": {
    "collapsed": false,
    "pycharm": {
     "name": "#%%\n"
    }
   }
  },
  {
   "cell_type": "code",
   "execution_count": 30,
   "outputs": [],
   "source": [
    "class Bird(Animal):\n",
    "    def __init__(self):\n",
    "        super().__init__()\n",
    "        print(\"Bird is created\")\n",
    "\n",
    "    def toString(self):\n",
    "        print(\"This is bird.\")\n",
    "\n",
    "    def fly(self):\n",
    "        print(\"Monkey can fly.\")"
   ],
   "metadata": {
    "collapsed": false,
    "pycharm": {
     "name": "#%%\n"
    }
   }
  },
  {
   "cell_type": "code",
   "execution_count": 32,
   "outputs": [
    {
     "name": "stdout",
     "output_type": "stream",
     "text": [
      "Animal is created.\n",
      "Bird is created\n"
     ]
    }
   ],
   "source": [
    "b1 = Bird()"
   ],
   "metadata": {
    "collapsed": false,
    "pycharm": {
     "name": "#%%\n"
    }
   }
  },
  {
   "cell_type": "code",
   "execution_count": 33,
   "outputs": [
    {
     "name": "stdout",
     "output_type": "stream",
     "text": [
      "This is bird.\n"
     ]
    }
   ],
   "source": [
    "b1.toString()"
   ],
   "metadata": {
    "collapsed": false,
    "pycharm": {
     "name": "#%%\n"
    }
   }
  },
  {
   "cell_type": "code",
   "execution_count": 34,
   "outputs": [
    {
     "name": "stdout",
     "output_type": "stream",
     "text": [
      "Animal can walk.\n"
     ]
    }
   ],
   "source": [
    "b1.walk()"
   ],
   "metadata": {
    "collapsed": false,
    "pycharm": {
     "name": "#%%\n"
    }
   }
  },
  {
   "cell_type": "code",
   "execution_count": 35,
   "outputs": [
    {
     "name": "stdout",
     "output_type": "stream",
     "text": [
      "Monkey can fly.\n"
     ]
    }
   ],
   "source": [
    "b1.fly()"
   ],
   "metadata": {
    "collapsed": false,
    "pycharm": {
     "name": "#%%\n"
    }
   }
  },
  {
   "cell_type": "code",
   "execution_count": 36,
   "outputs": [
    {
     "ename": "AttributeError",
     "evalue": "'Bird' object has no attribute 'climb'",
     "output_type": "error",
     "traceback": [
      "\u001B[1;31m---------------------------------------------------------------------------\u001B[0m",
      "\u001B[1;31mAttributeError\u001B[0m                            Traceback (most recent call last)",
      "\u001B[1;32m<ipython-input-36-39cc5630cefb>\u001B[0m in \u001B[0;36m<module>\u001B[1;34m\u001B[0m\n\u001B[1;32m----> 1\u001B[1;33m \u001B[0mb1\u001B[0m\u001B[1;33m.\u001B[0m\u001B[0mclimb\u001B[0m\u001B[1;33m(\u001B[0m\u001B[1;33m)\u001B[0m\u001B[1;33m\u001B[0m\u001B[1;33m\u001B[0m\u001B[0m\n\u001B[0m",
      "\u001B[1;31mAttributeError\u001B[0m: 'Bird' object has no attribute 'climb'"
     ]
    }
   ],
   "source": [
    "b1.climb() # This climb method is ony a method that belongs to the Monkey class."
   ],
   "metadata": {
    "collapsed": false,
    "pycharm": {
     "name": "#%%\n"
    }
   }
  },
  {
   "cell_type": "markdown",
   "source": [
    "### Inheritance Project"
   ],
   "metadata": {
    "collapsed": false
   }
  },
  {
   "cell_type": "code",
   "execution_count": 1,
   "outputs": [],
   "source": [
    "class Website:\n",
    "    def __init__(self,name, surname):\n",
    "        self.name = name\n",
    "        self.surname = surname\n",
    "\n",
    "    def loginInfo(self):\n",
    "        return self.name, self.surname"
   ],
   "metadata": {
    "collapsed": false,
    "pycharm": {
     "name": "#%%\n"
    }
   }
  },
  {
   "cell_type": "code",
   "execution_count": 2,
   "outputs": [],
   "source": [
    "class Website1(Website):\n",
    "    def __init__(self, name, surname, ids, email):\n",
    "        Website.__init__(self,name, surname)\n",
    "        self.ids = ids\n",
    "        self.email = email\n",
    "\n",
    "    def LoginId(self):\n",
    "        print(\"Name: {} Surname: {}, Id: {}\".format(self.name, self.surname, self.ids))\n",
    "\n",
    "    def loginEmail(self):\n",
    "        print(\"Name: {} Surname: {}, Email: {}\".format(self.name, self.surname, self.email))"
   ],
   "metadata": {
    "collapsed": false,
    "pycharm": {
     "name": "#%%\n"
    }
   }
  },
  {
   "cell_type": "code",
   "execution_count": 3,
   "outputs": [],
   "source": [
    "if __name__ == '__main__':\n",
    "    n = int(input(\"Enter the number as the number of people your want to add: \"))\n",
    "    for i in range(1,n+1):\n",
    "        globals()['person{}'.format(i)] =  Website(input(\"Enter the person{} name:\".format(i)),\n",
    "                                                   input(\"Enter the person{} surname:\".format(i)))\n",
    "\n",
    "    for i in range(1,n+1):\n",
    "        globals()['person{}'.format(i)] =  Website1(globals()['person{}'.format(i)].name,\n",
    "                                                   globals()[\"person{}\".format(i)].surname,\n",
    "                                                    input(\"Enter the id of person{}:\".format(i)),\n",
    "                                                    input(\"Enter the email of person{}:\".format(i)))"
   ],
   "metadata": {
    "collapsed": false,
    "pycharm": {
     "name": "#%%\n"
    }
   }
  },
  {
   "cell_type": "code",
   "execution_count": 5,
   "outputs": [
    {
     "name": "stdout",
     "output_type": "stream",
     "text": [
      "Name: Eda Surname: AYDIN, Id: 123\n"
     ]
    }
   ],
   "source": [
    "person1.LoginId()"
   ],
   "metadata": {
    "collapsed": false,
    "pycharm": {
     "name": "#%%\n"
    }
   }
  },
  {
   "cell_type": "code",
   "execution_count": 8,
   "outputs": [
    {
     "name": "stdout",
     "output_type": "stream",
     "text": [
      "Name: Eda Surname: AYDIN, Email: edaaydin@hotmail.com\n"
     ]
    }
   ],
   "source": [
    "person1.loginEmail()"
   ],
   "metadata": {
    "collapsed": false,
    "pycharm": {
     "name": "#%%\n"
    }
   }
  },
  {
   "cell_type": "code",
   "execution_count": 6,
   "outputs": [
    {
     "name": "stdout",
     "output_type": "stream",
     "text": [
      "Name: Alpay Surname: DEMİRKAN, Id: 456\n"
     ]
    }
   ],
   "source": [
    "person2.LoginId()"
   ],
   "metadata": {
    "collapsed": false,
    "pycharm": {
     "name": "#%%\n"
    }
   }
  },
  {
   "cell_type": "code",
   "execution_count": 9,
   "outputs": [
    {
     "name": "stdout",
     "output_type": "stream",
     "text": [
      "Name: Alpay Surname: DEMİRKAN, Email: alpaydemirkan@hotmail.com\n"
     ]
    }
   ],
   "source": [
    "person2.loginEmail()"
   ],
   "metadata": {
    "collapsed": false,
    "pycharm": {
     "name": "#%%\n"
    }
   }
  },
  {
   "cell_type": "markdown",
   "source": [
    "## Abstract Classes\n",
    "\n",
    "- The abstract classes can't create an instance.\n",
    "- All methods defined as Abstract must be used in other classes defined as inheritance over this class. In other words, Abstract methods must be used by subclasses."
   ],
   "metadata": {
    "collapsed": false
   }
  },
  {
   "cell_type": "code",
   "execution_count": 10,
   "outputs": [],
   "source": [
    "from abc import ABC, abstractmethod"
   ],
   "metadata": {
    "collapsed": false,
    "pycharm": {
     "name": "#%%\n"
    }
   }
  },
  {
   "cell_type": "code",
   "execution_count": 11,
   "outputs": [],
   "source": [
    "class Animal2(ABC): # super class\n",
    "\n",
    "    @abstractmethod\n",
    "    def walk(self): pass\n",
    "\n",
    "    @abstractmethod\n",
    "    def run(self): pass\n"
   ],
   "metadata": {
    "collapsed": false,
    "pycharm": {
     "name": "#%%\n"
    }
   }
  },
  {
   "cell_type": "code",
   "execution_count": 12,
   "outputs": [
    {
     "ename": "TypeError",
     "evalue": "Can't instantiate abstract class Animal2 with abstract methods run, walk",
     "output_type": "error",
     "traceback": [
      "\u001B[1;31m---------------------------------------------------------------------------\u001B[0m",
      "\u001B[1;31mTypeError\u001B[0m                                 Traceback (most recent call last)",
      "\u001B[1;32m<ipython-input-12-65a0f6c481b5>\u001B[0m in \u001B[0;36m<module>\u001B[1;34m\u001B[0m\n\u001B[1;32m----> 1\u001B[1;33m \u001B[0ma\u001B[0m \u001B[1;33m=\u001B[0m \u001B[0mAnimal2\u001B[0m\u001B[1;33m(\u001B[0m\u001B[1;33m)\u001B[0m\u001B[1;33m\u001B[0m\u001B[1;33m\u001B[0m\u001B[0m\n\u001B[0m",
      "\u001B[1;31mTypeError\u001B[0m: Can't instantiate abstract class Animal2 with abstract methods run, walk"
     ]
    }
   ],
   "source": [
    "a = Animal2()"
   ],
   "metadata": {
    "collapsed": false,
    "pycharm": {
     "name": "#%%\n"
    }
   }
  },
  {
   "cell_type": "markdown",
   "source": [
    "I was expecting to get this error because I created an abstract class."
   ],
   "metadata": {
    "collapsed": false
   }
  },
  {
   "cell_type": "code",
   "execution_count": 14,
   "outputs": [],
   "source": [
    "class Bird2(Animal2):\n",
    "    def __init__(self):\n",
    "        print(\"Bird\")"
   ],
   "metadata": {
    "collapsed": false,
    "pycharm": {
     "name": "#%%\n"
    }
   }
  },
  {
   "cell_type": "code",
   "execution_count": 15,
   "outputs": [
    {
     "ename": "TypeError",
     "evalue": "Can't instantiate abstract class Bird2 with abstract methods run, walk",
     "output_type": "error",
     "traceback": [
      "\u001B[1;31m---------------------------------------------------------------------------\u001B[0m",
      "\u001B[1;31mTypeError\u001B[0m                                 Traceback (most recent call last)",
      "\u001B[1;32m<ipython-input-15-ec8d1e38021c>\u001B[0m in \u001B[0;36m<module>\u001B[1;34m\u001B[0m\n\u001B[1;32m----> 1\u001B[1;33m \u001B[0mb2\u001B[0m \u001B[1;33m=\u001B[0m \u001B[0mBird2\u001B[0m\u001B[1;33m(\u001B[0m\u001B[1;33m)\u001B[0m\u001B[1;33m\u001B[0m\u001B[1;33m\u001B[0m\u001B[0m\n\u001B[0m",
      "\u001B[1;31mTypeError\u001B[0m: Can't instantiate abstract class Bird2 with abstract methods run, walk"
     ]
    }
   ],
   "source": [
    "b2 = Bird2()"
   ],
   "metadata": {
    "collapsed": false,
    "pycharm": {
     "name": "#%%\n"
    }
   }
  },
  {
   "cell_type": "code",
   "execution_count": 16,
   "outputs": [],
   "source": [
    "class Bird3(Animal2):\n",
    "    def __init__(self):\n",
    "        print(\"Bird\")\n",
    "\n",
    "    def walk(self):\n",
    "        print(\"walk\")\n",
    "\n",
    "    def run(self):\n",
    "        print(\"run\")"
   ],
   "metadata": {
    "collapsed": false,
    "pycharm": {
     "name": "#%%\n"
    }
   }
  },
  {
   "cell_type": "code",
   "execution_count": 18,
   "outputs": [
    {
     "name": "stdout",
     "output_type": "stream",
     "text": [
      "Bird\n"
     ]
    }
   ],
   "source": [
    "b3 = Bird3() # I didn't get any error while creating an instance where I used both walk and run methods defined as abstract in the Bird3 class inherited by Animal2."
   ],
   "metadata": {
    "collapsed": false,
    "pycharm": {
     "name": "#%%\n"
    }
   }
  },
  {
   "cell_type": "markdown",
   "source": [
    "## Overriding\n",
    "\n",
    "- If I have two different methods with the same name in both the parent class and the subclass, then the subclass executes its own function using the overriding property."
   ],
   "metadata": {
    "collapsed": false
   }
  },
  {
   "cell_type": "code",
   "execution_count": 19,
   "outputs": [],
   "source": [
    "class Animal3: #parent\n",
    "    def toString(self):\n",
    "        print(\"Animal\")"
   ],
   "metadata": {
    "collapsed": false,
    "pycharm": {
     "name": "#%%\n"
    }
   }
  },
  {
   "cell_type": "code",
   "execution_count": 20,
   "outputs": [],
   "source": [
    "class Monkey3(Animal3): #subclass\n",
    "    def toString(self):\n",
    "        print(\"Monkey\")"
   ],
   "metadata": {
    "collapsed": false,
    "pycharm": {
     "name": "#%%\n"
    }
   }
  },
  {
   "cell_type": "code",
   "execution_count": 21,
   "outputs": [
    {
     "name": "stdout",
     "output_type": "stream",
     "text": [
      "Animal\n"
     ]
    }
   ],
   "source": [
    "a3 = Animal3()\n",
    "a3.toString()"
   ],
   "metadata": {
    "collapsed": false,
    "pycharm": {
     "name": "#%%\n"
    }
   }
  },
  {
   "cell_type": "code",
   "execution_count": 23,
   "outputs": [
    {
     "name": "stdout",
     "output_type": "stream",
     "text": [
      "Monkey\n"
     ]
    }
   ],
   "source": [
    "m1 = Monkey3()\n",
    "m1.toString() # Monkey3 calls overriding method"
   ],
   "metadata": {
    "collapsed": false,
    "pycharm": {
     "name": "#%%\n"
    }
   }
  },
  {
   "cell_type": "code",
   "execution_count": 24,
   "outputs": [
    {
     "name": "stdout",
     "output_type": "stream",
     "text": [
      "16  is area of square\n",
      "8  is area of rectangle\n"
     ]
    }
   ],
   "source": [
    "class Rectangle():\n",
    "    def __init__(self,length,breadth):\n",
    "        self.length = length\n",
    "        self.breadth = breadth\n",
    "    def getArea(self):\n",
    "        print(self.length*self.breadth,\" is area of rectangle\")\n",
    "class Square(Rectangle):\n",
    "    def __init__(self,side):\n",
    "        self.side = side\n",
    "        Rectangle.__init__(self,side,side)\n",
    "    def getArea(self):\n",
    "        print(self.side*self.side,\" is area of square\")\n",
    "s = Square(4)\n",
    "r = Rectangle(2,4)\n",
    "s.getArea()\n",
    "r.getArea()"
   ],
   "metadata": {
    "collapsed": false,
    "pycharm": {
     "name": "#%%\n"
    }
   }
  },
  {
   "cell_type": "markdown",
   "source": [
    "## Polymorphism\n",
    "\n",
    "- Using methods transferred from superclass via subclass inherit in a different way is called Polymorphism.\n",
    "- Overriding is the sample of this situation."
   ],
   "metadata": {
    "collapsed": false
   }
  },
  {
   "cell_type": "code",
   "execution_count": 1,
   "outputs": [],
   "source": [
    "class FinancialTransaction:\n",
    "\n",
    "    def __init__(self,name, surname,id, money,profession):\n",
    "        self.name = name\n",
    "        self.surname = surname\n",
    "        self.money = money\n",
    "        self.id = id\n",
    "        self.profession = profession\n",
    "\n",
    "    def getMoney(self):\n",
    "        return self.money\n",
    "\n",
    "    def getID(self):\n",
    "        return self.id"
   ],
   "metadata": {
    "collapsed": false,
    "pycharm": {
     "name": "#%%\n"
    }
   }
  },
  {
   "cell_type": "code",
   "execution_count": 2,
   "outputs": [],
   "source": [
    "class NonEngineer(FinancialTransaction):\n",
    "\n",
    "    def __init__(self,name, surname,id, money,profession):\n",
    "        FinancialTransaction.__init__(self,name, surname,id, money,profession)\n",
    "        self.raisemoney = 0\n",
    "\n",
    "    def getMoney(self):\n",
    "        return self.money\n",
    "\n",
    "    def raiseMoney(self):\n",
    "        raise_rate = 0.6\n",
    "        return self.money + self.money * raise_rate"
   ],
   "metadata": {
    "collapsed": false,
    "pycharm": {
     "name": "#%%\n"
    }
   }
  },
  {
   "cell_type": "code",
   "execution_count": 3,
   "outputs": [],
   "source": [
    "class ComputerEngineer(FinancialTransaction):\n",
    "\n",
    "    def __init__(self,name, surname,id, money,profession):\n",
    "        FinancialTransaction.__init__(self,name, surname,id, money,profession)\n",
    "        self.raisemoney = 0\n",
    "\n",
    "    def getMoney(self):\n",
    "        return self.money\n",
    "\n",
    "    def raiseMoney(self):\n",
    "        raise_rate = 0.3\n",
    "        return self.money + self.money * raise_rate\n"
   ],
   "metadata": {
    "collapsed": false,
    "pycharm": {
     "name": "#%%\n"
    }
   }
  },
  {
   "cell_type": "code",
   "execution_count": 4,
   "outputs": [],
   "source": [
    "class DataScientist(FinancialTransaction):\n",
    "\n",
    "    def __init__(self,name, surname,id, money,profession):\n",
    "        FinancialTransaction.__init__(self,name, surname,id, money,profession)\n",
    "\n",
    "    def getMoney(self):\n",
    "        return self.money\n",
    "\n",
    "    def raiseMoney(self):\n",
    "        raise_rate = 0.6\n",
    "        return self.money + self.money * raise_rate\n"
   ],
   "metadata": {
    "collapsed": false,
    "pycharm": {
     "name": "#%%\n"
    }
   }
  },
  {
   "cell_type": "code",
   "execution_count": 18,
   "outputs": [],
   "source": [
    "if __name__ == '__main__':\n",
    "    n = int(input(\"Enter the number as the number of people your want to add: \"))\n",
    "\n",
    "    for i in range(1,n+1):\n",
    "        globals()['person{}'.format(i)] =  FinancialTransaction(input(\"Enter the person{} name:\".format(i)),\n",
    "                                                                input(\"Enter the person{} surname:\".format(i)),\n",
    "                                                                int(input(\"Enter the person{} id:\".format(i))),\n",
    "                                                                int(input(\"Enter the person{} money:\".format(i))),\n",
    "                                                                int(input(\"Enter the person{} profession: (Non-engineer: 0 - Computer Engineer: 1, Data Scientist: 2)\".format(i))))\n",
    "\n",
    "        for j in range(1, n+1):\n",
    "            if str(globals()['person{}'.format(i)].profession) == \"0\":\n",
    "                globals()['person_neng{}'.format(j)] =  NonEngineer(globals()['person{}'.format(i)].name,\n",
    "                                                                    globals()['person{}'.format(i)].surname,\n",
    "                                                                    globals()['person{}'.format(i)].id,\n",
    "                                                                    globals()['person{}'.format(i)].money,\n",
    "                                                                    globals()['person{}'.format(i)].profession)\n",
    "\n",
    "            elif str(globals()['person{}'.format(i)].profession) == \"1\":\n",
    "                globals()['personcs{}'.format(j)] =  ComputerEngineer(globals()['person{}'.format(i)].name,\n",
    "                                                                    globals()['person{}'.format(i)].surname,\n",
    "                                                                    globals()['person{}'.format(i)].id,\n",
    "                                                                    globals()['person{}'.format(i)].money,\n",
    "                                                                    globals()['person{}'.format(i)].profession)\n",
    "\n",
    "\n",
    "            elif str(globals()['person{}'.format(i)].profession) == \"2\":\n",
    "                globals()['personds{}'.format(j)] =  DataScientist(globals()['person{}'.format(i)].name,\n",
    "                                                                    globals()['person{}'.format(i)].surname,\n",
    "                                                                    globals()['person{}'.format(i)].id,\n",
    "                                                                    globals()['person{}'.format(i)].money,\n",
    "                                                                    globals()['person{}'.format(i)].profession)\n"
   ],
   "metadata": {
    "collapsed": false,
    "pycharm": {
     "name": "#%%\n"
    }
   }
  },
  {
   "cell_type": "code",
   "execution_count": 19,
   "outputs": [
    {
     "name": "stdout",
     "output_type": "stream",
     "text": [
      "Previous salary of non-engineer with 456 id number: 350 Salary after raise: 560.0\n"
     ]
    }
   ],
   "source": [
    "for i in range(1,n+1):\n",
    "    if str(globals()['person{}'.format(i)].profession) == \"0\":\n",
    "        print(\"Previous salary of non-engineer with {} id number: {} Salary after raise: {}\".format(globals()[\"person_neng{}\".format(i)].id,\n",
    "                                                                                                    globals()[\"person_neng{}\".format(i)].money,\n",
    "                                                                                                    globals()[\"person_neng{}\".format(i)].raiseMoney()))"
   ],
   "metadata": {
    "collapsed": false,
    "pycharm": {
     "name": "#%%\n"
    }
   }
  },
  {
   "cell_type": "code",
   "execution_count": 16,
   "outputs": [
    {
     "name": "stdout",
     "output_type": "stream",
     "text": [
      "Previous salary of computer engineer with 789 id number: 350 Salary after raise: 455.0\n"
     ]
    }
   ],
   "source": [
    "for i in range(1,n+1):\n",
    "    if str(globals()['person{}'.format(i)].profession) == \"1\":\n",
    "        print(\"Previous salary of computer engineer with {} id number: {} Salary after raise: {}\".format(globals()[\"personcs{}\".format(i)].id,\n",
    "                                                                                                 globals()[\"personcs{}\".format(i)].money,\n",
    "                                                                                                 globals()[\"personcs{}\".format(i)].raiseMoney()))"
   ],
   "metadata": {
    "collapsed": false,
    "pycharm": {
     "name": "#%%\n"
    }
   }
  },
  {
   "cell_type": "code",
   "execution_count": 15,
   "outputs": [
    {
     "name": "stdout",
     "output_type": "stream",
     "text": [
      "Previous salary of data scientist with 123 id number: 450 Salary after raise: 720.0\n"
     ]
    }
   ],
   "source": [
    "for i in range(1,n+1):\n",
    "    if str(globals()['person{}'.format(i)].profession) == \"2\":\n",
    "        print(\"Previous salary of data scientist with {} id number: {} Salary after raise: {}\".format(globals()[\"personds{}\".format(i)].id,\n",
    "                                                                                              globals()[\"personds{}\".format(i)].money,\n",
    "                                                                                              globals()[\"personds{}\".format(i)].raiseMoney()))"
   ],
   "metadata": {
    "collapsed": false,
    "pycharm": {
     "name": "#%%\n"
    }
   }
  }
 ],
 "metadata": {
  "kernelspec": {
   "display_name": "Python 3",
   "language": "python",
   "name": "python3"
  },
  "language_info": {
   "codemirror_mode": {
    "name": "ipython",
    "version": 2
   },
   "file_extension": ".py",
   "mimetype": "text/x-python",
   "name": "python",
   "nbconvert_exporter": "python",
   "pygments_lexer": "ipython2",
   "version": "2.7.6"
  }
 },
 "nbformat": 4,
 "nbformat_minor": 0
}