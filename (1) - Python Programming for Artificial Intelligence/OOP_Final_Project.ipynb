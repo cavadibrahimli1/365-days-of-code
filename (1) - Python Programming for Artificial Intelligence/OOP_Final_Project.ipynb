{
 "cells": [
  {
   "cell_type": "markdown",
   "source": [
    "# Calculation of Area and Perimeter of Different Shapes\n",
    "\n",
    "*Author: Eda AYDIN*\n",
    "\n",
    "A program was written by dealing with subjects such as encapsulation, inheritance, abstract classes, overriding, polymorphism in object-oriented programming with the values obtained from the user within the specified calculations.\n",
    "\n"
   ],
   "metadata": {
    "collapsed": false
   }
  },
  {
   "cell_type": "code",
   "execution_count": 6,
   "metadata": {
    "collapsed": true,
    "pycharm": {
     "name": "#%%\n"
    }
   },
   "outputs": [
    {
     "name": "stdout",
     "output_type": "stream",
     "text": [
      "Square edge: 4\n",
      "Square area: 16\n",
      "Square perimeter: 16\n",
      "---\n",
      "Square edge: 5\n",
      "Square area: 25\n",
      "Square perimeter: 20\n",
      "---\n",
      "Circle radius: 6\n",
      "Circle area: 113.09733552923255\n",
      "Circle perimeter: 37.69911184307752\n",
      "---\n",
      "Circle radius: 7\n",
      "Circle area: 153.93804002589985\n",
      "Circle perimeter: 43.982297150257104\n",
      "---\n"
     ]
    }
   ],
   "source": [
    "from abc import ABC, abstractmethod\n",
    "import math\n",
    "\n",
    "\n",
    "# Super Class\n",
    "class Shape(ABC):\n",
    "\n",
    "    def __init__(self):\n",
    "        pass\n",
    "\n",
    "    @abstractmethod\n",
    "    def area(self):  # abstract method\n",
    "        pass\n",
    "\n",
    "    @abstractmethod\n",
    "    def perimeter(self):  # abstract method\n",
    "        pass\n",
    "\n",
    "    def toString(self):\n",
    "        pass\n",
    "\n",
    "class Type:\n",
    "    def __init__(self,type):\n",
    "        self.type = type\n",
    "\n",
    "\n",
    "# Subclass\n",
    "class Square(Shape):\n",
    "\n",
    "    def __init__(self, edge):\n",
    "        super().__init__()\n",
    "        self.__edge = edge  # encapsulation private attribute\n",
    "\n",
    "    def area(self):\n",
    "        result = self.__edge ** 2\n",
    "        print(\"Square area: {}\".format(result))\n",
    "\n",
    "    def perimeter(self):\n",
    "        result = self.__edge * 4\n",
    "        print(\"Square perimeter: {}\".format(result))\n",
    "\n",
    "    def toString(self):  # override and polymorphism\n",
    "        print(\"Square edge: {}\".format(self.__edge))\n",
    "\n",
    "\n",
    "# Subclass\n",
    "class Circle(Shape):\n",
    "\n",
    "    def __init__(self, radius):\n",
    "        super().__init__()\n",
    "        self.__radius = radius\n",
    "\n",
    "    def area(self):\n",
    "        result = math.pi * self.__radius ** 2\n",
    "        print(\"Circle area: {}\".format(result))\n",
    "\n",
    "    def perimeter(self):\n",
    "        result = 2 * math.pi * self.__radius\n",
    "        print(\"Circle perimeter: {}\".format(result))\n",
    "\n",
    "    def toString(self):  # override and polymorphism\n",
    "        print(\"Circle radius: {}\".format(self.__radius))\n",
    "\n",
    "\n",
    "if __name__ == '__main__':\n",
    "\n",
    "    n = int(input(\"Enter the number of calculation: \"))\n",
    "\n",
    "    for i in range(1, n + 1):\n",
    "        globals()['type{}'.format(i)] = Type(int(input(\"Enter the number: (1 : Square, 2: Circle) \")))\n",
    "\n",
    "    for i in range(1, n+ 1):\n",
    "            if str(globals()['type{}'.format(i)].type) == \"1\":\n",
    "                globals()['square{}'.format(i)] = Square(int(input(\"Enter the edge: \")))\n",
    "\n",
    "                globals()['square{}'.format(i)].toString()\n",
    "                globals()['square{}'.format(i)].area()\n",
    "                globals()['square{}'.format(i)].perimeter()\n",
    "                print(\"---\")\n",
    "\n",
    "            elif str(globals()['type{}'.format(i)].type) == \"2\":\n",
    "                globals()['circle{}'.format(i)] = Circle(int(input(\"Enter the radius: \")))\n",
    "\n",
    "                globals()['circle{}'.format(i)].toString()\n",
    "                globals()['circle{}'.format(i)].area()\n",
    "                globals()['circle{}'.format(i)].perimeter()\n",
    "                print(\"---\")"
   ]
  }
 ],
 "metadata": {
  "kernelspec": {
   "display_name": "Python 3",
   "language": "python",
   "name": "python3"
  },
  "language_info": {
   "codemirror_mode": {
    "name": "ipython",
    "version": 2
   },
   "file_extension": ".py",
   "mimetype": "text/x-python",
   "name": "python",
   "nbconvert_exporter": "python",
   "pygments_lexer": "ipython2",
   "version": "2.7.6"
  }
 },
 "nbformat": 4,
 "nbformat_minor": 0
}