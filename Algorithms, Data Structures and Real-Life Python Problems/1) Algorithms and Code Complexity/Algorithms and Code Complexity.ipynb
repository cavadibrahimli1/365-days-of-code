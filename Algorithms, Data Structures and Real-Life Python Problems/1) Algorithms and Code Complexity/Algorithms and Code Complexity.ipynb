{
 "cells": [
  {
   "cell_type": "markdown",
   "source": [
    "# Algorithms and Code Complexity\n",
    "\n",
    "This notebook is created by Eda AYDIN through by DATAI Team, Udemy."
   ],
   "metadata": {
    "collapsed": false
   }
  },
  {
   "cell_type": "markdown",
   "source": [
    "## Table of Content\n",
    "\n",
    "* [Algorithms](#1)\n",
    "* [Algorithms and Code Complexity](#2)\n",
    "* [Big-0 Notation](#3)\n",
    "* [Big-O | Omega | Theta](#4)\n",
    "* [Big-0 Examples](#5)\n",
    "    *  [O(1) Constant](#5_1)"
   ],
   "metadata": {
    "collapsed": false
   }
  },
  {
   "cell_type": "markdown",
   "source": [
    "<a class=\"anchor\" id=\"chapter1\"></a>\n",
    "### Algorithms\n",
    "\n",
    "- It is a formula written to solve a problem."
   ],
   "metadata": {
    "collapsed": false
   }
  },
  {
   "cell_type": "code",
   "execution_count": 6,
   "metadata": {
    "collapsed": true
   },
   "outputs": [
    {
     "name": "stdout",
     "output_type": "stream",
     "text": [
      "You have to pay 250TL\n"
     ]
    }
   ],
   "source": [
    "def calculation(book_number, average_price):\n",
    "    return book_number * average_price\n",
    "\n",
    "print(\"You have to pay {}TL\".format(calculation(5,50)))"
   ]
  },
  {
   "cell_type": "markdown",
   "source": [
    "<a id=\"2\"></a> <br>\n",
    "### Algorithms and Code Complexity\n",
    "\n",
    "Problem: Arranging numbers from smallest to largest\n",
    "Algorithms: Sorting\n",
    "\n",
    "We can solve this problem by using Bubble Sort or Selection Sort algorithms. But, the main question is in here which algorithm works effectively. Here we come across the concept of code complexity.\n",
    "\n",
    "Example: Square the numbers from 1 to n and add them all up.\n",
    "\n",
    "$$\\sum_{k=1}^{n} k^{2} = 1^{2} + 2^{2} + 3^{2} + 4^{2} + ... n^{2} = \\frac{n(n+1)(2n+1))}{6}$$\n"
   ],
   "metadata": {
    "collapsed": false
   }
  },
  {
   "cell_type": "code",
   "execution_count": 7,
   "outputs": [],
   "source": [
    "def square_sum1(n):\n",
    "    # Take an input of n and return the sum of the squares of numbers from 0 to n.\n",
    "\n",
    "    total = 0\n",
    "    for i in range(n+1):\n",
    "        total += i**2\n",
    "\n",
    "    return total"
   ],
   "metadata": {
    "collapsed": false,
    "pycharm": {
     "name": "#%%\n"
    }
   }
  },
  {
   "cell_type": "code",
   "source": [
    "square_sum1(6)"
   ],
   "metadata": {
    "collapsed": false,
    "pycharm": {
     "name": "#%%\n"
    }
   },
   "execution_count": 8,
   "outputs": [
    {
     "data": {
      "text/plain": "91"
     },
     "execution_count": 8,
     "metadata": {},
     "output_type": "execute_result"
    }
   ]
  },
  {
   "cell_type": "code",
   "execution_count": 11,
   "outputs": [],
   "source": [
    "def square_sum2(n):\n",
    "    # Take an input of n and return the sum of the squares of numbers from 0 to n with formula\n",
    "\n",
    "    return int((n * ( n + 1 )*( 2 * n + 1))/6)"
   ],
   "metadata": {
    "collapsed": false,
    "pycharm": {
     "name": "#%%\n"
    }
   }
  },
  {
   "cell_type": "code",
   "execution_count": 12,
   "outputs": [
    {
     "data": {
      "text/plain": "91"
     },
     "execution_count": 12,
     "metadata": {},
     "output_type": "execute_result"
    }
   ],
   "source": [
    "square_sum2(6)"
   ],
   "metadata": {
    "collapsed": false,
    "pycharm": {
     "name": "#%%\n"
    }
   }
  },
  {
   "cell_type": "markdown",
   "source": [
    "**%timeit :** Python timeit() is a method in Python library to measure the execution time taken by the given code snippet."
   ],
   "metadata": {
    "collapsed": false
   }
  },
  {
   "cell_type": "code",
   "execution_count": 13,
   "outputs": [
    {
     "name": "stdout",
     "output_type": "stream",
     "text": [
      "2.41 µs ± 40.5 ns per loop (mean ± std. dev. of 7 runs, 100000 loops each)\n"
     ]
    }
   ],
   "source": [
    "%timeit square_sum1(6)"
   ],
   "metadata": {
    "collapsed": false,
    "pycharm": {
     "name": "#%%\n"
    }
   }
  },
  {
   "cell_type": "code",
   "execution_count": 14,
   "outputs": [
    {
     "name": "stdout",
     "output_type": "stream",
     "text": [
      "335 ns ± 8.75 ns per loop (mean ± std. dev. of 7 runs, 1000000 loops each)\n"
     ]
    }
   ],
   "source": [
    "%timeit square_sum2(6) # More fastly"
   ],
   "metadata": {
    "collapsed": false,
    "pycharm": {
     "name": "#%%\n"
    }
   }
  },
  {
   "cell_type": "markdown",
   "source": [
    "The results give different results on each computer. The reason is that computers hardware and CPU are different. Also, because runtime is hardware dependent, **Big O notation** is used to compare these two methods, not the concept of time."
   ],
   "metadata": {
    "collapsed": false
   }
  },
  {
   "cell_type": "markdown",
   "source": [
    "<a id=\"3\"></a> <br>\n",
    "### Big O Notation\n",
    "\n",
    "* Don't compare by runtime when comparing two algorithms.\n",
    "* The concept of Big-O Notation refers to the growth of a function.\n",
    "* Big-O notation analysis is also called asymptotic analysis.\n",
    "* n refers to size of an input."
   ],
   "metadata": {
    "collapsed": false
   }
  },
  {
   "cell_type": "markdown",
   "source": [
    "\\begin{matrix}\n",
    "\\mathbf{Big-O }& \\mathbf{Name} \\\\\n",
    "1 & Constant\\\\\n",
    "log(n) & Logarithmic\\\\\n",
    "n & Linear\\\\\n",
    "nlog(n) & Log Linear\\\\\n",
    "n^2 & Quadratic\\\\\n",
    "n^3 & Cubic\\\\\n",
    "2^n & Exponential\n",
    "\\end{matrix}"
   ],
   "metadata": {
    "collapsed": false
   }
  },
  {
   "cell_type": "markdown",
   "source": [
    "<center><img src=\"plot_big_o.png\"/></center>"
   ],
   "metadata": {
    "collapsed": false
   }
  },
  {
   "cell_type": "markdown",
   "source": [
    "<a id=\"4\"></a> <br>\n",
    "### Big O | Omega | Theta\n",
    "\n",
    "* **Big-O:** To test how the code we wrote works in the **worst** case\n",
    "* **Omega:** To test how the code we wrote works in the **best** case\n",
    "* **Theta:** To test how the code we wrote works in the **mid** case scenario."
   ],
   "metadata": {
    "collapsed": false
   }
  },
  {
   "cell_type": "code",
   "execution_count": 15,
   "outputs": [],
   "source": [
    "a = [2,3,4]\n",
    "b = [3,2,4]\n",
    "c = [4,3,2]"
   ],
   "metadata": {
    "collapsed": false,
    "pycharm": {
     "name": "#%%\n"
    }
   }
  },
  {
   "cell_type": "code",
   "execution_count": 27,
   "outputs": [
    {
     "name": "stdout",
     "output_type": "stream",
     "text": [
      "525 ns ± 13.4 ns per loop (mean ± std. dev. of 7 runs, 1000000 loops each)\n"
     ]
    }
   ],
   "source": [
    "%timeit  next((i for i in a if i == 2), None)  # Omega"
   ],
   "metadata": {
    "collapsed": false,
    "pycharm": {
     "name": "#%%\n"
    }
   }
  },
  {
   "cell_type": "code",
   "execution_count": 28,
   "outputs": [
    {
     "name": "stdout",
     "output_type": "stream",
     "text": [
      "559 ns ± 6.95 ns per loop (mean ± std. dev. of 7 runs, 1000000 loops each)\n"
     ]
    }
   ],
   "source": [
    "%timeit  next((i for i in b if i == 2), None)  # Theta"
   ],
   "metadata": {
    "collapsed": false,
    "pycharm": {
     "name": "#%%\n"
    }
   }
  },
  {
   "cell_type": "code",
   "execution_count": 29,
   "outputs": [
    {
     "name": "stdout",
     "output_type": "stream",
     "text": [
      "585 ns ± 5.16 ns per loop (mean ± std. dev. of 7 runs, 1000000 loops each)\n"
     ]
    }
   ],
   "source": [
    "%timeit  next((i for i in c if i == 2), None) # Big - O"
   ],
   "metadata": {
    "collapsed": false,
    "pycharm": {
     "name": "#%%\n"
    }
   }
  },
  {
   "cell_type": "markdown",
   "source": [
    "<a id=\"5\"></a> <br>\n",
    "### Big-O Examples"
   ],
   "metadata": {
    "collapsed": false
   }
  },
  {
   "cell_type": "markdown",
   "source": [
    "<a id=\"5_1\"></a> <br>\n",
    "#### O(1) Constant\n",
    "\n",
    "- It doesn't depend on input size.\n",
    "- If the input size is large, the time complexity doesn't change."
   ],
   "metadata": {
    "collapsed": false
   }
  },
  {
   "cell_type": "code",
   "execution_count": 2,
   "outputs": [
    {
     "name": "stdout",
     "output_type": "stream",
     "text": [
      "-5\n"
     ]
    }
   ],
   "source": [
    "def constant_big_O(list):\n",
    "    print(list[0])\n",
    "\n",
    "lst = [-5,0,1,2,3,4,5,6]\n",
    "constant_big_O(lst)"
   ],
   "metadata": {
    "collapsed": false,
    "pycharm": {
     "name": "#%%\n"
    }
   }
  },
  {
   "cell_type": "markdown",
   "source": [
    "<a id=\"5_2\"></a> <br>\n",
    "#### O(n) Linear\n",
    "\n",
    "- This functions works in linear time. In other words, the number of operations in the algorithm is directly proportional to the input size."
   ],
   "metadata": {
    "collapsed": false
   }
  },
  {
   "cell_type": "code",
   "execution_count": 3,
   "outputs": [
    {
     "name": "stdout",
     "output_type": "stream",
     "text": [
      "-5\n",
      "0\n",
      "1\n",
      "2\n",
      "3\n",
      "4\n",
      "5\n",
      "6\n"
     ]
    }
   ],
   "source": [
    "def linear_big_O(list):\n",
    "    for i in list:\n",
    "        print(i)\n",
    "\n",
    "linear_big_O(lst)"
   ],
   "metadata": {
    "collapsed": false,
    "pycharm": {
     "name": "#%%\n"
    }
   }
  },
  {
   "cell_type": "code",
   "execution_count": null,
   "outputs": [],
   "source": [],
   "metadata": {
    "collapsed": false,
    "pycharm": {
     "name": "#%%\n"
    }
   }
  }
 ],
 "metadata": {
  "kernelspec": {
   "display_name": "Python 3",
   "language": "python",
   "name": "python3"
  },
  "language_info": {
   "codemirror_mode": {
    "name": "ipython",
    "version": 2
   },
   "file_extension": ".py",
   "mimetype": "text/x-python",
   "name": "python",
   "nbconvert_exporter": "python",
   "pygments_lexer": "ipython2",
   "version": "2.7.6"
  }
 },
 "nbformat": 4,
 "nbformat_minor": 0
}