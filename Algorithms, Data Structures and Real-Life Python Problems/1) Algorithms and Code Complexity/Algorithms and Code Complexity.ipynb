{
 "cells": [
  {
   "cell_type": "markdown",
   "metadata": {
    "collapsed": false
   },
   "source": [
    "# Algorithms and Code Complexity\n",
    "\n",
    "This notebook is created by Eda AYDIN through by DATAI Team, Udemy."
   ]
  },
  {
   "cell_type": "markdown",
   "metadata": {
    "collapsed": false
   },
   "source": [
    "## Table of Content\n",
    "\n",
    "* [Algorithms](#1)\n",
    "* [Algorithms and Code Complexity](#2)\n",
    "* [Big-0 Notation](#3)\n",
    "* [Big-O | Omega | Theta](#4)\n",
    "* [Big-0 Examples](#5)\n",
    "    * [O(1) Constant](#5_1)\n",
    "    * [O(n) Linear](#5_2)\n",
    "    * [O(n^3) Cubic](#5_3)\n",
    "* [Calculating Scale of Big-O](#6)\n",
    "* [Interview Questions](#7)\n"
   ]
  },
  {
   "cell_type": "markdown",
   "metadata": {
    "collapsed": false
   },
   "source": [
    "<a class=\"anchor\" id=\"1\"></a>\n",
    "### Algorithms\n",
    "\n",
    "- It is a formula written to solve a problem."
   ]
  },
  {
   "cell_type": "code",
   "execution_count": 6,
   "metadata": {
    "collapsed": true
   },
   "outputs": [
    {
     "name": "stdout",
     "output_type": "stream",
     "text": [
      "You have to pay 250TL\n"
     ]
    }
   ],
   "source": [
    "def calculation(book_number, average_price):\n",
    "    return book_number * average_price\n",
    "\n",
    "print(\"You have to pay {}TL\".format(calculation(5,50)))"
   ]
  },
  {
   "cell_type": "markdown",
   "metadata": {
    "collapsed": false
   },
   "source": [
    "<a class=\"anchor\" id=\"2\"></a>\n",
    "### Algorithms and Code Complexity\n",
    "\n",
    "Problem: Arranging numbers from smallest to largest\n",
    "Algorithms: Sorting\n",
    "\n",
    "We can solve this problem by using Bubble Sort or Selection Sort algorithms. But, the main question is in here which algorithm works effectively. Here we come across the concept of code complexity.\n",
    "\n",
    "Example: Square the numbers from 1 to n and add them all up.\n",
    "\n",
    "$$\\sum_{k=1}^{n} k^{2} = 1^{2} + 2^{2} + 3^{2} + 4^{2} + ... n^{2} = \\frac{n(n+1)(2n+1))}{6}$$\n"
   ]
  },
  {
   "cell_type": "code",
   "execution_count": 7,
   "metadata": {
    "collapsed": false,
    "pycharm": {
     "name": "#%%\n"
    }
   },
   "outputs": [],
   "source": [
    "def square_sum1(n):\n",
    "    # Take an input of n and return the sum of the squares of numbers from 0 to n.\n",
    "\n",
    "    total = 0\n",
    "    for i in range(n+1):\n",
    "        total += i**2\n",
    "\n",
    "    return total"
   ]
  },
  {
   "cell_type": "code",
   "execution_count": 8,
   "metadata": {
    "collapsed": false,
    "pycharm": {
     "name": "#%%\n"
    }
   },
   "outputs": [
    {
     "data": {
      "text/plain": [
       "91"
      ]
     },
     "execution_count": 8,
     "metadata": {},
     "output_type": "execute_result"
    }
   ],
   "source": [
    "square_sum1(6)"
   ]
  },
  {
   "cell_type": "code",
   "execution_count": 11,
   "metadata": {
    "collapsed": false,
    "pycharm": {
     "name": "#%%\n"
    }
   },
   "outputs": [],
   "source": [
    "def square_sum2(n):\n",
    "    # Take an input of n and return the sum of the squares of numbers from 0 to n with formula\n",
    "\n",
    "    return int((n * ( n + 1 )*( 2 * n + 1))/6)"
   ]
  },
  {
   "cell_type": "code",
   "execution_count": 12,
   "metadata": {
    "collapsed": false,
    "pycharm": {
     "name": "#%%\n"
    }
   },
   "outputs": [
    {
     "data": {
      "text/plain": [
       "91"
      ]
     },
     "execution_count": 12,
     "metadata": {},
     "output_type": "execute_result"
    }
   ],
   "source": [
    "square_sum2(6)"
   ]
  },
  {
   "cell_type": "markdown",
   "metadata": {
    "collapsed": false
   },
   "source": [
    "**%timeit :** Python timeit() is a method in Python library to measure the execution time taken by the given code snippet."
   ]
  },
  {
   "cell_type": "code",
   "execution_count": 13,
   "metadata": {
    "collapsed": false,
    "pycharm": {
     "name": "#%%\n"
    }
   },
   "outputs": [
    {
     "name": "stdout",
     "output_type": "stream",
     "text": [
      "2.41 µs ± 40.5 ns per loop (mean ± std. dev. of 7 runs, 100000 loops each)\n"
     ]
    }
   ],
   "source": [
    "%timeit square_sum1(6)"
   ]
  },
  {
   "cell_type": "code",
   "execution_count": 14,
   "metadata": {
    "collapsed": false,
    "pycharm": {
     "name": "#%%\n"
    }
   },
   "outputs": [
    {
     "name": "stdout",
     "output_type": "stream",
     "text": [
      "335 ns ± 8.75 ns per loop (mean ± std. dev. of 7 runs, 1000000 loops each)\n"
     ]
    }
   ],
   "source": [
    "%timeit square_sum2(6) # More fastly"
   ]
  },
  {
   "cell_type": "markdown",
   "metadata": {
    "collapsed": false
   },
   "source": [
    "The results give different results on each computer. The reason is that computers hardware and CPU are different. Also, because runtime is hardware dependent, **Big O notation** is used to compare these two methods, not the concept of time."
   ]
  },
  {
   "cell_type": "markdown",
   "metadata": {
    "collapsed": false
   },
   "source": [
    "<a class=\"anchor\" id=\"3\"></a>\n",
    "### Big O Notation\n",
    "\n",
    "* Don't compare by runtime when comparing two algorithms.\n",
    "* The concept of Big-O Notation refers to the growth of a function.\n",
    "* Big-O notation analysis is also called asymptotic analysis.\n",
    "* n refers to size of an input."
   ]
  },
  {
   "cell_type": "markdown",
   "metadata": {
    "collapsed": false
   },
   "source": [
    "\\begin{matrix}\n",
    "\\mathbf{Big-O }& \\mathbf{Name} \\\\\n",
    "1 & Constant\\\\\n",
    "log(n) & Logarithmic\\\\\n",
    "n & Linear\\\\\n",
    "nlog(n) & Log Linear\\\\\n",
    "n^2 & Quadratic\\\\\n",
    "n^3 & Cubic\\\\\n",
    "2^n & Exponential\n",
    "\\end{matrix}"
   ]
  },
  {
   "cell_type": "markdown",
   "metadata": {
    "collapsed": false
   },
   "source": [
    "<center><img src=\"plot_big_o.png\"/></center>"
   ]
  },
  {
   "cell_type": "markdown",
   "metadata": {
    "collapsed": false
   },
   "source": [
    "<a class=\"anchor\" id=\"4\"></a>\n",
    "### Big O | Omega | Theta\n",
    "\n",
    "* **Big-O:** To test how the code we wrote works in the **worst** case\n",
    "* **Omega:** To test how the code we wrote works in the **best** case\n",
    "* **Theta:** To test how the code we wrote works in the **mid** case scenario."
   ]
  },
  {
   "cell_type": "code",
   "execution_count": 15,
   "metadata": {
    "collapsed": false,
    "pycharm": {
     "name": "#%%\n"
    }
   },
   "outputs": [],
   "source": [
    "a = [2,3,4]\n",
    "b = [3,2,4]\n",
    "c = [4,3,2]"
   ]
  },
  {
   "cell_type": "code",
   "execution_count": 27,
   "metadata": {
    "collapsed": false,
    "pycharm": {
     "name": "#%%\n"
    }
   },
   "outputs": [
    {
     "name": "stdout",
     "output_type": "stream",
     "text": [
      "525 ns ± 13.4 ns per loop (mean ± std. dev. of 7 runs, 1000000 loops each)\n"
     ]
    }
   ],
   "source": [
    "%timeit  next((i for i in a if i == 2), None)  # Omega"
   ]
  },
  {
   "cell_type": "code",
   "execution_count": 28,
   "metadata": {
    "collapsed": false,
    "pycharm": {
     "name": "#%%\n"
    }
   },
   "outputs": [
    {
     "name": "stdout",
     "output_type": "stream",
     "text": [
      "559 ns ± 6.95 ns per loop (mean ± std. dev. of 7 runs, 1000000 loops each)\n"
     ]
    }
   ],
   "source": [
    "%timeit  next((i for i in b if i == 2), None)  # Theta"
   ]
  },
  {
   "cell_type": "code",
   "execution_count": 29,
   "metadata": {
    "collapsed": false,
    "pycharm": {
     "name": "#%%\n"
    }
   },
   "outputs": [
    {
     "name": "stdout",
     "output_type": "stream",
     "text": [
      "585 ns ± 5.16 ns per loop (mean ± std. dev. of 7 runs, 1000000 loops each)\n"
     ]
    }
   ],
   "source": [
    "%timeit  next((i for i in c if i == 2), None) # Big - O"
   ]
  },
  {
   "cell_type": "markdown",
   "metadata": {
    "collapsed": false
   },
   "source": [
    "<a class=\"anchor\" id=\"5\"></a>\n",
    "### Big-O Examples"
   ]
  },
  {
   "cell_type": "markdown",
   "metadata": {
    "collapsed": false
   },
   "source": [
    "<a class=\"anchor\" id=\"5_1\"></a>\n",
    "#### O(1) Constant\n",
    "\n",
    "- It doesn't depend on input size.\n",
    "- If the input size is large, the time complexity doesn't change."
   ]
  },
  {
   "cell_type": "code",
   "execution_count": 2,
   "metadata": {
    "collapsed": false,
    "pycharm": {
     "name": "#%%\n"
    }
   },
   "outputs": [
    {
     "name": "stdout",
     "output_type": "stream",
     "text": [
      "-5\n"
     ]
    }
   ],
   "source": [
    "def constant_big_O(list):\n",
    "    print(list[0])\n",
    "\n",
    "lst = [-5,0,1,2,3,4,5,6]\n",
    "constant_big_O(lst)"
   ]
  },
  {
   "cell_type": "markdown",
   "metadata": {
    "collapsed": false
   },
   "source": [
    "<a class=\"anchor\" id=\"5_2\"></a>\n",
    "#### O(n) Linear\n",
    "\n",
    "- This functions works in linear time. In other words, the number of operations in the algorithm is directly proportional to the input size."
   ]
  },
  {
   "cell_type": "code",
   "execution_count": 3,
   "metadata": {
    "collapsed": false,
    "pycharm": {
     "name": "#%%\n"
    }
   },
   "outputs": [
    {
     "name": "stdout",
     "output_type": "stream",
     "text": [
      "-5\n",
      "0\n",
      "1\n",
      "2\n",
      "3\n",
      "4\n",
      "5\n",
      "6\n"
     ]
    }
   ],
   "source": [
    "def linear_big_O(list):\n",
    "    for i in list:\n",
    "        print(i)\n",
    "\n",
    "linear_big_O(lst)"
   ]
  },
  {
   "cell_type": "markdown",
   "metadata": {
    "collapsed": false,
    "pycharm": {
     "name": "#%% md\n"
    }
   },
   "source": [
    "<a class=\"anchor\" id=\"5_3\"></a>\n",
    "#### O(n^3) Cubic\n",
    "\n",
    "* It includes nested loops."
   ]
  },
  {
   "cell_type": "code",
   "execution_count": 29,
   "outputs": [
    {
     "name": "stdout",
     "output_type": "stream",
     "text": [
      "[[1 1 1]\n",
      " [1 1 2]\n",
      " [1 1 3]\n",
      " [1 2 1]\n",
      " [1 2 2]\n",
      " [1 2 3]\n",
      " [1 3 1]\n",
      " [1 3 2]\n",
      " [1 3 3]\n",
      " [2 1 1]\n",
      " [2 1 2]\n",
      " [2 1 3]\n",
      " [2 2 1]\n",
      " [2 2 2]\n",
      " [2 2 3]\n",
      " [2 3 1]\n",
      " [2 3 2]\n",
      " [2 3 3]\n",
      " [3 1 1]\n",
      " [3 1 2]\n",
      " [3 1 3]\n",
      " [3 2 1]\n",
      " [3 2 2]\n",
      " [3 2 3]\n",
      " [3 3 1]\n",
      " [3 3 2]\n",
      " [3 3 3]]\n"
     ]
    }
   ],
   "source": [
    "import numpy as np\n",
    "lst2 = [1,2,3]\n",
    "def cubic_big_O(list):\n",
    "    a = []\n",
    "\n",
    "    for i in range(0,len(list)):\n",
    "        for j in range(0,len(list)):\n",
    "            for k in range(0,len(list)):\n",
    "                a.append([list[i], list[j],list[k]])\n",
    "\n",
    "    a = np.array(a)\n",
    "    print(a)\n",
    "\n",
    "cubic_big_O(lst2)"
   ],
   "metadata": {
    "collapsed": false,
    "pycharm": {
     "name": "#%%\n"
    }
   }
  },
  {
   "cell_type": "markdown",
   "source": [
    "<a class=\"anchor\" id=\"6\"></a>\n",
    "### Calculating Scale of Big-O\n",
    "\n",
    "* Insignificant constant\n",
    "* Linear Big-O directly proportional with input size.\n",
    "* First example Big-O: O(n)\n",
    "* Second Example Big-O: O(2n)\n",
    "* number( 1,2,3,, etc.) is insignificant constant"
   ],
   "metadata": {
    "collapsed": false,
    "pycharm": {
     "name": "#%% md\n"
    }
   }
  },
  {
   "cell_type": "code",
   "execution_count": 30,
   "outputs": [
    {
     "name": "stdout",
     "output_type": "stream",
     "text": [
      "1\n",
      "3\n"
     ]
    }
   ],
   "source": [
    "def linear_big_O(list):\n",
    "    for i in list:\n",
    "        print(i)\n",
    "\n",
    "linear_big_O([1,3])   # O(n)"
   ],
   "metadata": {
    "collapsed": false,
    "pycharm": {
     "name": "#%%\n"
    }
   }
  },
  {
   "cell_type": "code",
   "execution_count": 31,
   "outputs": [
    {
     "name": "stdout",
     "output_type": "stream",
     "text": [
      "1\n",
      "3\n",
      "1\n",
      "3\n"
     ]
    }
   ],
   "source": [
    "def linear_big_O_2(list):\n",
    "    for i in list:\n",
    "        print(i)\n",
    "    for i in list:\n",
    "        print(i)\n",
    "\n",
    "linear_big_O_2([1,3])   # O(2n)"
   ],
   "metadata": {
    "collapsed": false,
    "pycharm": {
     "name": "#%%\n"
    }
   }
  },
  {
   "cell_type": "code",
   "execution_count": 32,
   "outputs": [
    {
     "name": "stdout",
     "output_type": "stream",
     "text": [
      "1\n",
      "1\n",
      "2\n",
      "3\n",
      "4\n"
     ]
    }
   ],
   "source": [
    "# O(1+n)\n",
    "def example(list):\n",
    "\n",
    "    print(list[0])  # O(1) constant\n",
    "\n",
    "    for i in list:  # O(n) linear\n",
    "        print(i)\n",
    "\n",
    "example([1,2,3,4])"
   ],
   "metadata": {
    "collapsed": false,
    "pycharm": {
     "name": "#%%\n"
    }
   }
  },
  {
   "cell_type": "markdown",
   "source": [
    "<a class=\"anchor\" id=\"7\"></a>\n",
    "### Interview Questions\n",
    "\n",
    "* Why is big-O used instead of runtime?\n",
    "     * It is not easy for us to know the actual runtime of the algorithm due to hardware differences.\n",
    "* What does Big-O simply do?\n",
    "     * It uses for algorithms performance comparison.\n",
    "* Why is input important to you?\n",
    "     * Big-O also uses input size.\n",
    "* Is asymptotic analysis the same as big-O?\n",
    "     *yes :)\n",
    "* Is best case or worst case important when writing algorithms?\n",
    "     * Worst case is important."
   ],
   "metadata": {
    "collapsed": false,
    "pycharm": {
     "name": "#%% md\n"
    }
   }
  }
 ],
 "metadata": {
  "kernelspec": {
   "display_name": "Python 3",
   "language": "python",
   "name": "python3"
  },
  "language_info": {
   "codemirror_mode": {
    "name": "ipython",
    "version": 2
   },
   "file_extension": ".py",
   "mimetype": "text/x-python",
   "name": "python",
   "nbconvert_exporter": "python",
   "pygments_lexer": "ipython2",
   "version": "2.7.6"
  }
 },
 "nbformat": 4,
 "nbformat_minor": 0
}