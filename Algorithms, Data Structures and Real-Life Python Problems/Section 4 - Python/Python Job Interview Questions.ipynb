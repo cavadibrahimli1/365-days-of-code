{
 "cells": [
  {
   "cell_type": "markdown",
   "source": [
    "# Python Job Interview Questions\n",
    "\n",
    "1) What is Python?\n",
    "    - Python is a high-level, interactive and object-oriented language.\n",
    "    - Python is a very readable language.\n",
    "\n",
    "2) What are some key features of Python?\n",
    "    - Object Oriented\n",
    "    - Free - open source\n",
    "    - It has a large community.\n",
    "    - Simple and understandable.\n",
    "\n",
    "3) What is the difference between Deep Copy and Shallow Copy?\n",
    "    - Deep copy copies the original object to another new object, but if the original object is changed, the new object does not change.\n",
    "    - Shallow copy copies the original object to another new object, but if the original object is changed, the new object changes.\n"
   ],
   "metadata": {
    "collapsed": false
   }
  },
  {
   "cell_type": "code",
   "execution_count": 1,
   "metadata": {
    "collapsed": true
   },
   "outputs": [
    {
     "name": "stdout",
     "output_type": "stream",
     "text": [
      "Old list: [[1, 1, 1], [100, 2, 2]]\n",
      "New list: [[1, 1, 1], [2, 2, 2]]\n"
     ]
    }
   ],
   "source": [
    "# Examples of Deep copy\n",
    "import copy\n",
    "old_list = [[1, 1, 1], [2, 2, 2]]\n",
    "new_list = copy.deepcopy(old_list)\n",
    "old_list[1][0] = 100\n",
    "print(\"Old list:\", old_list)\n",
    "print(\"New list:\", new_list)"
   ]
  },
  {
   "cell_type": "code",
   "execution_count": 2,
   "outputs": [
    {
     "name": "stdout",
     "output_type": "stream",
     "text": [
      "Old list: [[1, 1, 1], [2, 100, 2]]\n",
      "New list: [[1, 1, 1], [2, 100, 2]]\n"
     ]
    }
   ],
   "source": [
    "# Example of shallow copy\n",
    "old_list2 = [[1, 1, 1], [2, 2, 2]]\n",
    "new_list2 = copy.copy(old_list2)\n",
    "\n",
    "old_list2[1][1] = 100\n",
    "\n",
    "print(\"Old list:\", old_list2)\n",
    "print(\"New list:\", new_list2)"
   ],
   "metadata": {
    "collapsed": false,
    "pycharm": {
     "name": "#%%\n"
    }
   }
  },
  {
   "cell_type": "markdown",
   "source": [
    "4) What is the difference between list and tuples?\n",
    "    - List can change.\n",
    "    - Tuple can not change."
   ],
   "metadata": {
    "collapsed": false
   }
  },
  {
   "cell_type": "code",
   "execution_count": 3,
   "outputs": [
    {
     "name": "stdout",
     "output_type": "stream",
     "text": [
      "[100, 2, 3]\n"
     ]
    }
   ],
   "source": [
    "lists = [1, 2, 3]\n",
    "lists[0] = 100\n",
    "print(lists)"
   ],
   "metadata": {
    "collapsed": false,
    "pycharm": {
     "name": "#%%\n"
    }
   }
  },
  {
   "cell_type": "code",
   "execution_count": 4,
   "outputs": [
    {
     "ename": "TypeError",
     "evalue": "'tuple' object does not support item assignment",
     "output_type": "error",
     "traceback": [
      "\u001B[1;31m---------------------------------------------------------------------------\u001B[0m",
      "\u001B[1;31mTypeError\u001B[0m                                 Traceback (most recent call last)",
      "\u001B[1;32mC:\\Users\\EDAAYD~1\\AppData\\Local\\Temp/ipykernel_27916/822478596.py\u001B[0m in \u001B[0;36m<module>\u001B[1;34m\u001B[0m\n\u001B[0;32m      1\u001B[0m \u001B[0mtuples\u001B[0m \u001B[1;33m=\u001B[0m \u001B[1;33m(\u001B[0m\u001B[1;36m1\u001B[0m\u001B[1;33m,\u001B[0m \u001B[1;36m2\u001B[0m\u001B[1;33m,\u001B[0m \u001B[1;36m3\u001B[0m\u001B[1;33m)\u001B[0m\u001B[1;33m\u001B[0m\u001B[1;33m\u001B[0m\u001B[0m\n\u001B[1;32m----> 2\u001B[1;33m \u001B[0mtuples\u001B[0m\u001B[1;33m[\u001B[0m\u001B[1;36m0\u001B[0m\u001B[1;33m]\u001B[0m \u001B[1;33m=\u001B[0m \u001B[1;36m100\u001B[0m\u001B[1;33m\u001B[0m\u001B[1;33m\u001B[0m\u001B[0m\n\u001B[0m",
      "\u001B[1;31mTypeError\u001B[0m: 'tuple' object does not support item assignment"
     ]
    }
   ],
   "source": [
    "tuples = (1, 2, 3)\n",
    "tuples[0] = 100"
   ],
   "metadata": {
    "collapsed": false,
    "pycharm": {
     "name": "#%%\n"
    }
   }
  },
  {
   "cell_type": "markdown",
   "source": [
    "5) What is Flask?\n",
    "    * Web framework for python\n",
    "6) How is the Memory Management in Python?\n",
    "    * Python has a special heap-space. That's why we don't hava access.\n",
    "    * But we can access some of its features with the core API.\n",
    "7) What are the differences between help() and dir() function?\n",
    "    * The help() function displays the document as a string\n",
    "    * The dir() function displays all the properties and methods of the desired object."
   ],
   "metadata": {
    "collapsed": false
   }
  },
  {
   "cell_type": "code",
   "execution_count": 5,
   "outputs": [
    {
     "name": "stdout",
     "output_type": "stream",
     "text": [
      "Help on function copy in module copy:\n",
      "\n",
      "copy(x)\n",
      "    Shallow copy operation on arbitrary Python objects.\n",
      "    \n",
      "    See the module's __doc__ string for more info.\n",
      "\n"
     ]
    }
   ],
   "source": [
    "help(copy.copy)"
   ],
   "metadata": {
    "collapsed": false,
    "pycharm": {
     "name": "#%%\n"
    }
   }
  },
  {
   "cell_type": "code",
   "execution_count": 6,
   "outputs": [
    {
     "data": {
      "text/plain": "['__annotations__',\n '__call__',\n '__class__',\n '__closure__',\n '__code__',\n '__defaults__',\n '__delattr__',\n '__dict__',\n '__dir__',\n '__doc__',\n '__eq__',\n '__format__',\n '__ge__',\n '__get__',\n '__getattribute__',\n '__globals__',\n '__gt__',\n '__hash__',\n '__init__',\n '__init_subclass__',\n '__kwdefaults__',\n '__le__',\n '__lt__',\n '__module__',\n '__name__',\n '__ne__',\n '__new__',\n '__qualname__',\n '__reduce__',\n '__reduce_ex__',\n '__repr__',\n '__setattr__',\n '__sizeof__',\n '__str__',\n '__subclasshook__']"
     },
     "execution_count": 6,
     "metadata": {},
     "output_type": "execute_result"
    }
   ],
   "source": [
    "dir(copy.copy)"
   ],
   "metadata": {
    "collapsed": false,
    "pycharm": {
     "name": "#%%\n"
    }
   }
  },
  {
   "cell_type": "markdown",
   "source": [
    "8) What is Monkey Patching?\n",
    "    * It is used to change a class or module while the code is in run-time.\n",
    "    * Generally used for debugging bugs.\n",
    "\n",
    "9) What is Dictionary?\n",
    "    * They are useful structures that contain the key-value pair.\n",
    "    * {key:value} : {Ankara:1000}"
   ],
   "metadata": {
    "collapsed": false,
    "pycharm": {
     "name": "#%% md\n"
    }
   }
  },
  {
   "cell_type": "code",
   "execution_count": 7,
   "outputs": [
    {
     "name": "stdout",
     "output_type": "stream",
     "text": [
      "{'Ankara': 1000, 'istanbul': 2000}\n"
     ]
    }
   ],
   "source": [
    "dictionary = {\"Ankara\":1000,\"istanbul\":2000}\n",
    "print(dictionary)"
   ],
   "metadata": {
    "collapsed": false,
    "pycharm": {
     "name": "#%%\n"
    }
   }
  },
  {
   "cell_type": "markdown",
   "source": [
    "10) What are the concepts of args and kwargs?\n",
    "    * In some cases we don't know how many input parameters functions will take, so we use *args.\n",
    "    * kwargs is used like dictionary."
   ],
   "metadata": {
    "collapsed": false,
    "pycharm": {
     "name": "#%% md\n"
    }
   }
  },
  {
   "cell_type": "code",
   "execution_count": 8,
   "outputs": [
    {
     "name": "stdout",
     "output_type": "stream",
     "text": [
      "10\n",
      "11\n",
      "12\n"
     ]
    }
   ],
   "source": [
    "def function(*args):\n",
    "    for each in args:\n",
    "        print(each)\n",
    "\n",
    "function(10,11,12)"
   ],
   "metadata": {
    "collapsed": false,
    "pycharm": {
     "name": "#%%\n"
    }
   }
  },
  {
   "cell_type": "code",
   "execution_count": 9,
   "outputs": [
    {
     "name": "stdout",
     "output_type": "stream",
     "text": [
      "a 1\n",
      "b 2\n",
      "c 3\n"
     ]
    }
   ],
   "source": [
    "def function2(**kwargs):\n",
    "    for each in kwargs:\n",
    "        print(each,kwargs[each])\n",
    "function2(a=1,b=2,c=3)"
   ],
   "metadata": {
    "collapsed": false,
    "pycharm": {
     "name": "#%%\n"
    }
   }
  },
  {
   "cell_type": "markdown",
   "source": [
    "11) What are negative indexes?\n",
    "    * Normally, the index starts counting from zero and the negative index starts counting in reverse."
   ],
   "metadata": {
    "collapsed": false
   }
  },
  {
   "cell_type": "code",
   "execution_count": 10,
   "outputs": [
    {
     "name": "stdout",
     "output_type": "stream",
     "text": [
      "positive index:  1\n",
      "negative index:  5\n"
     ]
    }
   ],
   "source": [
    "list2 = [1,2,3,4,5]\n",
    "print(\"positive index: \",list2[0])\n",
    "print(\"negative index: \",list2[-1])"
   ],
   "metadata": {
    "collapsed": false,
    "pycharm": {
     "name": "#%%\n"
    }
   }
  },
  {
   "cell_type": "markdown",
   "source": [
    "12) How do you make the list random?"
   ],
   "metadata": {
    "collapsed": false
   }
  },
  {
   "cell_type": "code",
   "execution_count": 11,
   "outputs": [
    {
     "name": "stdout",
     "output_type": "stream",
     "text": [
      "shuffled:  [3, 6, 8, 5, 1, 0, 4, 7, 2]\n",
      "sorted:  [0, 1, 2, 3, 4, 5, 6, 7, 8]\n"
     ]
    }
   ],
   "source": [
    "mylist=[0,1,2,3,4,5,6,7,8]\n",
    "from random import shuffle\n",
    "shuffle(mylist)\n",
    "print(\"shuffled: \", mylist)\n",
    "mylist.sort()\n",
    "print(\"sorted: \",mylist)"
   ],
   "metadata": {
    "collapsed": false,
    "pycharm": {
     "name": "#%%\n"
    }
   }
  },
  {
   "cell_type": "markdown",
   "source": [
    "13) What do the join() and split() functions do?"
   ],
   "metadata": {
    "collapsed": false
   }
  },
  {
   "cell_type": "code",
   "execution_count": 12,
   "outputs": [
    {
     "name": "stdout",
     "output_type": "stream",
     "text": [
      "n.e.w. .f.u.n.c.t.i.o.n\n",
      "['n', 'e', 'w', ' ', 'f', 'u', 'n', 'c', 't', 'i', 'o', 'n']\n",
      "new function\n"
     ]
    }
   ],
   "source": [
    "new = \".\".join(\"new function\")\n",
    "print(new)\n",
    "first = new.split(\".\")\n",
    "print(first)\n",
    "j = \"\".join(first)\n",
    "print(j)"
   ],
   "metadata": {
    "collapsed": false,
    "pycharm": {
     "name": "#%%\n"
    }
   }
  },
  {
   "cell_type": "markdown",
   "source": [
    "14) Is keywords used as a Identifier?\n",
    "    * float is a keyword and is not used as an identifier."
   ],
   "metadata": {
    "collapsed": false
   }
  },
  {
   "cell_type": "code",
   "execution_count": 13,
   "outputs": [],
   "source": [
    "float = 15 # float is a built-in name"
   ],
   "metadata": {
    "collapsed": false,
    "pycharm": {
     "name": "#%%\n"
    }
   }
  },
  {
   "cell_type": "markdown",
   "source": [
    "15) What is the meaning of leading and trailing whitespace?\n",
    "    * Let it be a string \"hello world\"\n",
    "    * This string has spaces at the beginning and at the end.\n",
    "    * The space at the beginning is leading whitespace\n",
    "    * The space at the end is trailing whitespace\n",
    "    * This is how we can delete them."
   ],
   "metadata": {
    "collapsed": false,
    "pycharm": {
     "name": "#%% md\n"
    }
   }
  },
  {
   "cell_type": "code",
   "execution_count": 19,
   "outputs": [],
   "source": [
    "string = \"  hello world    \""
   ],
   "metadata": {
    "collapsed": false,
    "pycharm": {
     "name": "#%%\n"
    }
   }
  },
  {
   "cell_type": "code",
   "execution_count": 20,
   "outputs": [
    {
     "name": "stdout",
     "output_type": "stream",
     "text": [
      "hello world    \n",
      "  hello world\n",
      "hello world\n"
     ]
    }
   ],
   "source": [
    "print(string.lstrip()) # remove the space at the beginning\n",
    "print(string.rstrip()) # remove the space at the end\n",
    "print(string.strip()) # remove the space at the beginning and at the end"
   ],
   "metadata": {
    "collapsed": false,
    "pycharm": {
     "name": "#%%\n"
    }
   }
  },
  {
   "cell_type": "markdown",
   "source": [
    "16) How do you convert a string to to lowercase and uppercase?"
   ],
   "metadata": {
    "collapsed": false,
    "pycharm": {
     "name": "#%% md\n"
    }
   }
  },
  {
   "cell_type": "code",
   "execution_count": 21,
   "outputs": [],
   "source": [
    "string = \"Hello World\""
   ],
   "metadata": {
    "collapsed": false,
    "pycharm": {
     "name": "#%%\n"
    }
   }
  },
  {
   "cell_type": "code",
   "execution_count": 22,
   "outputs": [
    {
     "name": "stdout",
     "output_type": "stream",
     "text": [
      "hello world\n",
      "HELLO WORLD\n"
     ]
    }
   ],
   "source": [
    "print(string.lower())\n",
    "print(string.upper())"
   ],
   "metadata": {
    "collapsed": false,
    "pycharm": {
     "name": "#%%\n"
    }
   }
  },
  {
   "cell_type": "markdown",
   "source": [
    "17) How to use pass, break and continue in Python?"
   ],
   "metadata": {
    "collapsed": false,
    "pycharm": {
     "name": "#%% md\n"
    }
   }
  },
  {
   "cell_type": "code",
   "execution_count": 23,
   "outputs": [],
   "source": [
    "# If you do not know what you should write inside the function, you can use pass.\n",
    "\n",
    "def getResult():\n",
    "    pass"
   ],
   "metadata": {
    "collapsed": false,
    "pycharm": {
     "name": "#%%\n"
    }
   }
  },
  {
   "cell_type": "code",
   "execution_count": 24,
   "outputs": [
    {
     "name": "stdout",
     "output_type": "stream",
     "text": [
      "0\n",
      "1\n",
      "2\n",
      "3\n",
      "4\n"
     ]
    }
   ],
   "source": [
    "# break\n",
    "\n",
    "for each in range(5):\n",
    "    print(each)\n",
    "    if each == 4:\n",
    "        break"
   ],
   "metadata": {
    "collapsed": false,
    "pycharm": {
     "name": "#%%\n"
    }
   }
  },
  {
   "cell_type": "code",
   "execution_count": 25,
   "outputs": [
    {
     "name": "stdout",
     "output_type": "stream",
     "text": [
      "0\n",
      "1\n",
      "2\n",
      "The number is found.\n",
      "3\n",
      "4\n"
     ]
    }
   ],
   "source": [
    "# continue\n",
    "for each in range(5):\n",
    "    print(each)\n",
    "    if each == 2:\n",
    "        print(\"The number is found.\")\n",
    "        continue"
   ],
   "metadata": {
    "collapsed": false,
    "pycharm": {
     "name": "#%%\n"
    }
   }
  },
  {
   "cell_type": "markdown",
   "source": [
    "18) What is the meaning of //, % and ** ?\n",
    "    * // : get integer division\n",
    "    * ** : get the power\n",
    "    * %  : get the remainder"
   ],
   "metadata": {
    "collapsed": false
   }
  },
  {
   "cell_type": "code",
   "execution_count": 27,
   "outputs": [
    {
     "name": "stdout",
     "output_type": "stream",
     "text": [
      "3.3333333333333335\n",
      "3\n"
     ]
    }
   ],
   "source": [
    "print(10/3)\n",
    "print(10//3)"
   ],
   "metadata": {
    "collapsed": false,
    "pycharm": {
     "name": "#%%\n"
    }
   }
  },
  {
   "cell_type": "code",
   "execution_count": 28,
   "outputs": [
    {
     "name": "stdout",
     "output_type": "stream",
     "text": [
      "81\n",
      "81\n"
     ]
    }
   ],
   "source": [
    "print(9 * 9) # multiplication\n",
    "print(9 ** 2) # power"
   ],
   "metadata": {
    "collapsed": false,
    "pycharm": {
     "name": "#%%\n"
    }
   }
  },
  {
   "cell_type": "code",
   "execution_count": 29,
   "outputs": [
    {
     "name": "stdout",
     "output_type": "stream",
     "text": [
      "3.3333333333333335\n",
      "1\n"
     ]
    }
   ],
   "source": [
    "print(10/3) # divison\n",
    "print(10%3) # remainder"
   ],
   "metadata": {
    "collapsed": false,
    "pycharm": {
     "name": "#%%\n"
    }
   }
  },
  {
   "cell_type": "markdown",
   "source": [
    "19) What is the meaning of membership operator?"
   ],
   "metadata": {
    "collapsed": false
   }
  },
  {
   "cell_type": "code",
   "execution_count": 30,
   "outputs": [
    {
     "data": {
      "text/plain": "True"
     },
     "execution_count": 30,
     "metadata": {},
     "output_type": "execute_result"
    }
   ],
   "source": [
    "'lo' in \"Hello World!\""
   ],
   "metadata": {
    "collapsed": false,
    "pycharm": {
     "name": "#%%\n"
    }
   }
  },
  {
   "cell_type": "code",
   "execution_count": 31,
   "outputs": [
    {
     "data": {
      "text/plain": "False"
     },
     "execution_count": 31,
     "metadata": {},
     "output_type": "execute_result"
    }
   ],
   "source": [
    "\"wor\" in \"Hello World!\""
   ],
   "metadata": {
    "collapsed": false,
    "pycharm": {
     "name": "#%%\n"
    }
   }
  },
  {
   "cell_type": "code",
   "execution_count": 32,
   "outputs": [
    {
     "data": {
      "text/plain": "True"
     },
     "execution_count": 32,
     "metadata": {},
     "output_type": "execute_result"
    }
   ],
   "source": [
    "\"Wor\" in \"Hello World!\""
   ],
   "metadata": {
    "collapsed": false,
    "pycharm": {
     "name": "#%%\n"
    }
   }
  }
 ],
 "metadata": {
  "kernelspec": {
   "display_name": "Python 3",
   "language": "python",
   "name": "python3"
  },
  "language_info": {
   "codemirror_mode": {
    "name": "ipython",
    "version": 2
   },
   "file_extension": ".py",
   "mimetype": "text/x-python",
   "name": "python",
   "nbconvert_exporter": "python",
   "pygments_lexer": "ipython2",
   "version": "2.7.6"
  }
 },
 "nbformat": 4,
 "nbformat_minor": 0
}