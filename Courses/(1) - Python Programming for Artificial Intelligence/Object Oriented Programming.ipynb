{
 "cells": [
  {
   "cell_type": "markdown",
   "source": [
    "# Object Oriented Programming\n",
    "\n",
    "This notebook is created by Eda AYDIN through by Udemy, DATAI Team."
   ],
   "metadata": {
    "collapsed": false
   }
  },
  {
   "cell_type": "markdown",
   "source": [
    "## Class and Constructor"
   ],
   "metadata": {
    "collapsed": false
   }
  },
  {
   "cell_type": "code",
   "execution_count": 47,
   "metadata": {
    "collapsed": true
   },
   "outputs": [],
   "source": [
    "class Employee: # create the Employee class\n",
    "\n",
    "    rate_of_rise = 1.8\n",
    "    counter = 0\n",
    "\n",
    "    def __init__(self, name, surname, salary): #constructor method\n",
    "        #Create a new variable to use in the other methods(self.name) = Use the inputs from the user (name)\n",
    "        self.name = name\n",
    "        self.surname = surname\n",
    "        self.salary = salary\n",
    "        self.email = name+\".\"+surname+\"@oop.com\"\n",
    "        Employee.counter = Employee.counter + 1\n",
    "\n",
    "    def givenNameSurname(self):\n",
    "        return self.name + \" \" + self.surname\n",
    "\n",
    "    def increaseSalary(self):\n",
    "        self.salary = self.salary + self.salary * self.rate_of_rise\n"
   ]
  },
  {
   "cell_type": "code",
   "execution_count": 48,
   "outputs": [
    {
     "name": "stdout",
     "output_type": "stream",
     "text": [
      "<__main__.Employee object at 0x0000014B7553E100>\n",
      "Laura Watson\n"
     ]
    }
   ],
   "source": [
    "employee = Employee(\"Laura\",\"Watson\",float(16.000)) # Create a new object for Employee class\n",
    "print(employee) # Now, employee is a object for Employee class\n",
    "print(employee.givenNameSurname())"
   ],
   "metadata": {
    "collapsed": false,
    "pycharm": {
     "name": "#%%\n"
    }
   }
  },
  {
   "cell_type": "markdown",
   "source": [
    "## Class Variables"
   ],
   "metadata": {
    "collapsed": false
   }
  },
  {
   "cell_type": "code",
   "execution_count": 49,
   "outputs": [
    {
     "name": "stdout",
     "output_type": "stream",
     "text": [
      "First salary: $35.000\n"
     ]
    }
   ],
   "source": [
    "employee = Employee(\"Alex\",\"Denmark\",35.000)\n",
    "print(\"First salary: ${:,.3f}\".format(employee.salary))"
   ],
   "metadata": {
    "collapsed": false,
    "pycharm": {
     "name": "#%%\n"
    }
   }
  },
  {
   "cell_type": "markdown",
   "source": [
    "### Increase the salary of employee"
   ],
   "metadata": {
    "collapsed": false
   }
  },
  {
   "cell_type": "code",
   "execution_count": 50,
   "outputs": [
    {
     "name": "stdout",
     "output_type": "stream",
     "text": [
      "New salary: $98.000\n"
     ]
    }
   ],
   "source": [
    "employee.increaseSalary()\n",
    "print(\"New salary: ${:,.3f}\".format(employee.salary))"
   ],
   "metadata": {
    "collapsed": false,
    "pycharm": {
     "name": "#%%\n"
    }
   }
  },
  {
   "cell_type": "markdown",
   "source": [
    "### Calculate the how many employee we have"
   ],
   "metadata": {
    "collapsed": false
   }
  },
  {
   "cell_type": "code",
   "execution_count": 51,
   "outputs": [
    {
     "name": "stdout",
     "output_type": "stream",
     "text": [
      "The number of employee: 2\n"
     ]
    }
   ],
   "source": [
    "print(\"The number of employee: {}\".format(Employee.counter))"
   ],
   "metadata": {
    "collapsed": false,
    "pycharm": {
     "name": "#%%\n"
    }
   }
  },
  {
   "cell_type": "markdown",
   "source": [
    "## Class Example"
   ],
   "metadata": {
    "collapsed": false
   }
  },
  {
   "cell_type": "code",
   "execution_count": 52,
   "outputs": [],
   "source": [
    "employee2 = Employee(\"Marta\",\"Olah\",32.000)\n",
    "employee3 = Employee(\"Dan\",\"Brown\", 56.000)\n",
    "employee4 = Employee(\"Michail\",\"Barkovskiy\", 45.000)"
   ],
   "metadata": {
    "collapsed": false,
    "pycharm": {
     "name": "#%%\n"
    }
   }
  },
  {
   "cell_type": "code",
   "execution_count": 53,
   "outputs": [],
   "source": [
    "list = [employee,employee2,employee3,employee4]"
   ],
   "metadata": {
    "collapsed": false,
    "pycharm": {
     "name": "#%%\n"
    }
   }
  },
  {
   "cell_type": "code",
   "execution_count": 54,
   "outputs": [
    {
     "data": {
      "text/plain": "[<__main__.Employee at 0x14b7553e880>,\n <__main__.Employee at 0x14b7544ed90>,\n <__main__.Employee at 0x14b7544e220>,\n <__main__.Employee at 0x14b7544ef40>]"
     },
     "execution_count": 54,
     "metadata": {},
     "output_type": "execute_result"
    }
   ],
   "source": [
    "list #we have 4 employee in the list"
   ],
   "metadata": {
    "collapsed": false,
    "pycharm": {
     "name": "#%%\n"
    }
   }
  },
  {
   "cell_type": "markdown",
   "source": [
    "### Find the maximum salary in all employees"
   ],
   "metadata": {
    "collapsed": false
   }
  },
  {
   "cell_type": "code",
   "execution_count": 65,
   "outputs": [],
   "source": [
    "def maximum_salary():\n",
    "    max_salary = -1\n",
    "\n",
    "    for each in list:\n",
    "        if each.salary > max_salary:\n",
    "            max_salary = each.salary\n",
    "            index = each\n",
    "    print(\"${:,.3f}\".format(max_salary))\n",
    "    return index"
   ],
   "metadata": {
    "collapsed": false,
    "pycharm": {
     "name": "#%%\n"
    }
   }
  },
  {
   "cell_type": "code",
   "execution_count": 66,
   "outputs": [
    {
     "name": "stdout",
     "output_type": "stream",
     "text": [
      "$98.000\n"
     ]
    },
    {
     "data": {
      "text/plain": "<__main__.Employee at 0x14b7553e880>"
     },
     "execution_count": 66,
     "metadata": {},
     "output_type": "execute_result"
    }
   ],
   "source": [
    "maximum_salary()"
   ],
   "metadata": {
    "collapsed": false,
    "pycharm": {
     "name": "#%%\n"
    }
   }
  },
  {
   "cell_type": "markdown",
   "source": [
    "### Find who has the highest salary."
   ],
   "metadata": {
    "collapsed": false
   }
  },
  {
   "cell_type": "code",
   "execution_count": 67,
   "outputs": [
    {
     "name": "stdout",
     "output_type": "stream",
     "text": [
      "$98.000\n",
      "Alex Denmark\n"
     ]
    }
   ],
   "source": [
    "index = maximum_salary()\n",
    "print(index.givenNameSurname())"
   ],
   "metadata": {
    "collapsed": false,
    "pycharm": {
     "name": "#%%\n"
    }
   }
  }
 ],
 "metadata": {
  "kernelspec": {
   "display_name": "Python 3",
   "language": "python",
   "name": "python3"
  },
  "language_info": {
   "codemirror_mode": {
    "name": "ipython",
    "version": 2
   },
   "file_extension": ".py",
   "mimetype": "text/x-python",
   "name": "python",
   "nbconvert_exporter": "python",
   "pygments_lexer": "ipython2",
   "version": "2.7.6"
  }
 },
 "nbformat": 4,
 "nbformat_minor": 0
}