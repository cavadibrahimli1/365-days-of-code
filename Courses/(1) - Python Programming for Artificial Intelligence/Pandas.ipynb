{
 "cells": [
  {
   "cell_type": "markdown",
   "source": [
    "# Pandas\n",
    "\n",
    "This notebook is created by Eda AYDIN through by Udemy, DATAI Team."
   ],
   "metadata": {
    "collapsed": false
   }
  },
  {
   "cell_type": "markdown",
   "source": [
    "## Introduction to Pandas\n",
    "\n",
    "- It is effective and fast for dataframes.\n",
    "- Switching between files (csv - text) is very easy.\n",
    "- Pandas library makes it easy for us to deal with missing data.\n",
    "- The data can be used more effectively by doing reshape().\n",
    "- In Pandas library, slicing and indexing is simple.\n",
    "- Pandas library is very helpful in time series data analysis.\n",
    "- **The most important thing is Pandas is an optimized fast library.**"
   ],
   "metadata": {
    "collapsed": false
   }
  },
  {
   "cell_type": "code",
   "execution_count": 1,
   "metadata": {
    "collapsed": true
   },
   "outputs": [],
   "source": [
    "import pandas as pd"
   ]
  },
  {
   "cell_type": "code",
   "execution_count": 2,
   "outputs": [],
   "source": [
    "dictionary = {\n",
    "    \"Name\": [\"Laura\",\"Marta\",\"Micheal\",\"Alex\"],\n",
    "    \"Age\":[32,45,30,35],\n",
    "    \"Salary\":[15000,35000,25000,36000]\n",
    "}"
   ],
   "metadata": {
    "collapsed": false,
    "pycharm": {
     "name": "#%%\n"
    }
   }
  },
  {
   "cell_type": "markdown",
   "source": [
    "### pandas.DataFrame\n",
    "\n",
    "Two-dimensional, size-mutable, potentially heterogeneous tabular data.\n",
    "\n",
    "Data structure also contains labeled axes (rows and columns). Arithmetic operations align on both row and column labels. Can be thought of as a dict-like container for Series objects. The primary pandas data structure."
   ],
   "metadata": {
    "collapsed": false
   }
  },
  {
   "cell_type": "code",
   "execution_count": 3,
   "outputs": [],
   "source": [
    "df = pd.DataFrame(dictionary)"
   ],
   "metadata": {
    "collapsed": false,
    "pycharm": {
     "name": "#%%\n"
    }
   }
  },
  {
   "cell_type": "code",
   "execution_count": 4,
   "outputs": [
    {
     "data": {
      "text/plain": "      Name  Age  Salary\n0    Laura   32   15000\n1    Marta   45   35000\n2  Micheal   30   25000\n3     Alex   35   36000",
      "text/html": "<div>\n<style scoped>\n    .dataframe tbody tr th:only-of-type {\n        vertical-align: middle;\n    }\n\n    .dataframe tbody tr th {\n        vertical-align: top;\n    }\n\n    .dataframe thead th {\n        text-align: right;\n    }\n</style>\n<table border=\"1\" class=\"dataframe\">\n  <thead>\n    <tr style=\"text-align: right;\">\n      <th></th>\n      <th>Name</th>\n      <th>Age</th>\n      <th>Salary</th>\n    </tr>\n  </thead>\n  <tbody>\n    <tr>\n      <th>0</th>\n      <td>Laura</td>\n      <td>32</td>\n      <td>15000</td>\n    </tr>\n    <tr>\n      <th>1</th>\n      <td>Marta</td>\n      <td>45</td>\n      <td>35000</td>\n    </tr>\n    <tr>\n      <th>2</th>\n      <td>Micheal</td>\n      <td>30</td>\n      <td>25000</td>\n    </tr>\n    <tr>\n      <th>3</th>\n      <td>Alex</td>\n      <td>35</td>\n      <td>36000</td>\n    </tr>\n  </tbody>\n</table>\n</div>"
     },
     "execution_count": 4,
     "metadata": {},
     "output_type": "execute_result"
    }
   ],
   "source": [
    "df"
   ],
   "metadata": {
    "collapsed": false,
    "pycharm": {
     "name": "#%%\n"
    }
   }
  },
  {
   "cell_type": "markdown",
   "source": [
    "### pandas.DataFrame.head\n",
    "\n",
    "Return the first n rows.(n : int, default = 5)\n",
    "\n",
    "This function returns the first n rows for the object based on position. It is useful for quickly testing if your object has the right type of data in it.\n",
    "\n",
    "For negative values of n, this function returns all rows except the last n rows, equivalent to df[:-n]."
   ],
   "metadata": {
    "collapsed": false
   }
  },
  {
   "cell_type": "code",
   "execution_count": 5,
   "outputs": [
    {
     "data": {
      "text/plain": "    Name  Age  Salary\n0  Laura   32   15000\n1  Marta   45   35000",
      "text/html": "<div>\n<style scoped>\n    .dataframe tbody tr th:only-of-type {\n        vertical-align: middle;\n    }\n\n    .dataframe tbody tr th {\n        vertical-align: top;\n    }\n\n    .dataframe thead th {\n        text-align: right;\n    }\n</style>\n<table border=\"1\" class=\"dataframe\">\n  <thead>\n    <tr style=\"text-align: right;\">\n      <th></th>\n      <th>Name</th>\n      <th>Age</th>\n      <th>Salary</th>\n    </tr>\n  </thead>\n  <tbody>\n    <tr>\n      <th>0</th>\n      <td>Laura</td>\n      <td>32</td>\n      <td>15000</td>\n    </tr>\n    <tr>\n      <th>1</th>\n      <td>Marta</td>\n      <td>45</td>\n      <td>35000</td>\n    </tr>\n  </tbody>\n</table>\n</div>"
     },
     "execution_count": 5,
     "metadata": {},
     "output_type": "execute_result"
    }
   ],
   "source": [
    "df.head(2)"
   ],
   "metadata": {
    "collapsed": false,
    "pycharm": {
     "name": "#%%\n"
    }
   }
  },
  {
   "cell_type": "markdown",
   "source": [
    "### pandas.DataFrame.tail\n",
    "\n",
    "Return the last n rows. (n: int, default = 5)\n",
    "\n",
    "This function returns last n rows from the object based on position. It is useful for quickly verifying data, for example, after sorting or appending rows.\n",
    "\n",
    "For negative values of n, this function returns all rows except the first n rows, equivalent to df[n:]."
   ],
   "metadata": {
    "collapsed": false
   }
  },
  {
   "cell_type": "code",
   "execution_count": 6,
   "outputs": [
    {
     "data": {
      "text/plain": "      Name  Age  Salary\n2  Micheal   30   25000\n3     Alex   35   36000",
      "text/html": "<div>\n<style scoped>\n    .dataframe tbody tr th:only-of-type {\n        vertical-align: middle;\n    }\n\n    .dataframe tbody tr th {\n        vertical-align: top;\n    }\n\n    .dataframe thead th {\n        text-align: right;\n    }\n</style>\n<table border=\"1\" class=\"dataframe\">\n  <thead>\n    <tr style=\"text-align: right;\">\n      <th></th>\n      <th>Name</th>\n      <th>Age</th>\n      <th>Salary</th>\n    </tr>\n  </thead>\n  <tbody>\n    <tr>\n      <th>2</th>\n      <td>Micheal</td>\n      <td>30</td>\n      <td>25000</td>\n    </tr>\n    <tr>\n      <th>3</th>\n      <td>Alex</td>\n      <td>35</td>\n      <td>36000</td>\n    </tr>\n  </tbody>\n</table>\n</div>"
     },
     "execution_count": 6,
     "metadata": {},
     "output_type": "execute_result"
    }
   ],
   "source": [
    "df.tail(2)"
   ],
   "metadata": {
    "collapsed": false,
    "pycharm": {
     "name": "#%%\n"
    }
   }
  },
  {
   "cell_type": "markdown",
   "source": [
    "## Pandas Basic Methods"
   ],
   "metadata": {
    "collapsed": false
   }
  },
  {
   "cell_type": "markdown",
   "source": [
    "### pandas.DataFrame.info\n",
    "\n",
    "This method prints information about a DataFrame including the index dtype and columns, non-null values and memory usage."
   ],
   "metadata": {
    "collapsed": false
   }
  },
  {
   "cell_type": "code",
   "execution_count": 7,
   "outputs": [
    {
     "name": "stdout",
     "output_type": "stream",
     "text": [
      "<class 'pandas.core.frame.DataFrame'>\n",
      "RangeIndex: 4 entries, 0 to 3\n",
      "Data columns (total 3 columns):\n",
      " #   Column  Non-Null Count  Dtype \n",
      "---  ------  --------------  ----- \n",
      " 0   Name    4 non-null      object\n",
      " 1   Age     4 non-null      int64 \n",
      " 2   Salary  4 non-null      int64 \n",
      "dtypes: int64(2), object(1)\n",
      "memory usage: 224.0+ bytes\n"
     ]
    }
   ],
   "source": [
    "df.info()"
   ],
   "metadata": {
    "collapsed": false,
    "pycharm": {
     "name": "#%%\n"
    }
   }
  },
  {
   "cell_type": "markdown",
   "source": [
    "- **4 non-null :** The Name column in the dataframe includes non-empty data.\n",
    "- **object:** It has the same meaning as String.\n",
    "- **dtypes:** It means data types."
   ],
   "metadata": {
    "collapsed": false
   }
  },
  {
   "cell_type": "markdown",
   "source": [
    "### pandas.DataFrame.describe\n",
    "\n",
    "Generate descriptive statistics.\n",
    "\n",
    "Descriptive statistics include those that summarize the central tendency, dispersion and shape of a dataset’s distribution, excluding NaN values.\n",
    "\n",
    "Analyzes both numeric and object series, as well as DataFrame column sets of mixed data types. The output will vary depending on what is provided. Refer to the notes below for more detail."
   ],
   "metadata": {
    "collapsed": false
   }
  },
  {
   "cell_type": "code",
   "execution_count": 8,
   "outputs": [
    {
     "data": {
      "text/plain": "             Age        Salary\ncount   4.000000      4.000000\nmean   35.500000  27750.000000\nstd     6.658328   9844.626284\nmin    30.000000  15000.000000\n25%    31.500000  22500.000000\n50%    33.500000  30000.000000\n75%    37.500000  35250.000000\nmax    45.000000  36000.000000",
      "text/html": "<div>\n<style scoped>\n    .dataframe tbody tr th:only-of-type {\n        vertical-align: middle;\n    }\n\n    .dataframe tbody tr th {\n        vertical-align: top;\n    }\n\n    .dataframe thead th {\n        text-align: right;\n    }\n</style>\n<table border=\"1\" class=\"dataframe\">\n  <thead>\n    <tr style=\"text-align: right;\">\n      <th></th>\n      <th>Age</th>\n      <th>Salary</th>\n    </tr>\n  </thead>\n  <tbody>\n    <tr>\n      <th>count</th>\n      <td>4.000000</td>\n      <td>4.000000</td>\n    </tr>\n    <tr>\n      <th>mean</th>\n      <td>35.500000</td>\n      <td>27750.000000</td>\n    </tr>\n    <tr>\n      <th>std</th>\n      <td>6.658328</td>\n      <td>9844.626284</td>\n    </tr>\n    <tr>\n      <th>min</th>\n      <td>30.000000</td>\n      <td>15000.000000</td>\n    </tr>\n    <tr>\n      <th>25%</th>\n      <td>31.500000</td>\n      <td>22500.000000</td>\n    </tr>\n    <tr>\n      <th>50%</th>\n      <td>33.500000</td>\n      <td>30000.000000</td>\n    </tr>\n    <tr>\n      <th>75%</th>\n      <td>37.500000</td>\n      <td>35250.000000</td>\n    </tr>\n    <tr>\n      <th>max</th>\n      <td>45.000000</td>\n      <td>36000.000000</td>\n    </tr>\n  </tbody>\n</table>\n</div>"
     },
     "execution_count": 8,
     "metadata": {},
     "output_type": "execute_result"
    }
   ],
   "source": [
    "df.describe()"
   ],
   "metadata": {
    "collapsed": false,
    "pycharm": {
     "name": "#%%\n"
    }
   }
  },
  {
   "cell_type": "markdown",
   "source": [
    "In the describe()  method, only the statistical analysis of the columns with **numerical data** takes place."
   ],
   "metadata": {
    "collapsed": false
   }
  },
  {
   "cell_type": "markdown",
   "source": [
    "## Indexing and Slicing Data"
   ],
   "metadata": {
    "collapsed": false
   }
  },
  {
   "cell_type": "code",
   "execution_count": 9,
   "outputs": [
    {
     "data": {
      "text/plain": "0      Laura\n1      Marta\n2    Micheal\n3       Alex\nName: Name, dtype: object"
     },
     "execution_count": 9,
     "metadata": {},
     "output_type": "execute_result"
    }
   ],
   "source": [
    "df[\"Name\"]"
   ],
   "metadata": {
    "collapsed": false,
    "pycharm": {
     "name": "#%%\n"
    }
   }
  },
  {
   "cell_type": "code",
   "execution_count": 10,
   "outputs": [],
   "source": [
    "df[\"Gender\"] = [\"Female\",\"Female\",\"Male\",\"Male\"]"
   ],
   "metadata": {
    "collapsed": false,
    "pycharm": {
     "name": "#%%\n"
    }
   }
  },
  {
   "cell_type": "code",
   "execution_count": 11,
   "outputs": [
    {
     "data": {
      "text/plain": "      Name  Age  Salary  Gender\n0    Laura   32   15000  Female\n1    Marta   45   35000  Female\n2  Micheal   30   25000    Male\n3     Alex   35   36000    Male",
      "text/html": "<div>\n<style scoped>\n    .dataframe tbody tr th:only-of-type {\n        vertical-align: middle;\n    }\n\n    .dataframe tbody tr th {\n        vertical-align: top;\n    }\n\n    .dataframe thead th {\n        text-align: right;\n    }\n</style>\n<table border=\"1\" class=\"dataframe\">\n  <thead>\n    <tr style=\"text-align: right;\">\n      <th></th>\n      <th>Name</th>\n      <th>Age</th>\n      <th>Salary</th>\n      <th>Gender</th>\n    </tr>\n  </thead>\n  <tbody>\n    <tr>\n      <th>0</th>\n      <td>Laura</td>\n      <td>32</td>\n      <td>15000</td>\n      <td>Female</td>\n    </tr>\n    <tr>\n      <th>1</th>\n      <td>Marta</td>\n      <td>45</td>\n      <td>35000</td>\n      <td>Female</td>\n    </tr>\n    <tr>\n      <th>2</th>\n      <td>Micheal</td>\n      <td>30</td>\n      <td>25000</td>\n      <td>Male</td>\n    </tr>\n    <tr>\n      <th>3</th>\n      <td>Alex</td>\n      <td>35</td>\n      <td>36000</td>\n      <td>Male</td>\n    </tr>\n  </tbody>\n</table>\n</div>"
     },
     "execution_count": 11,
     "metadata": {},
     "output_type": "execute_result"
    }
   ],
   "source": [
    "df"
   ],
   "metadata": {
    "collapsed": false,
    "pycharm": {
     "name": "#%%\n"
    }
   }
  },
  {
   "cell_type": "markdown",
   "source": [
    "### pandas.DataFrame.loc\n",
    "\n",
    "Access a group of rows and columns by label(s) or a boolean array.\n",
    "\n",
    "- loc[] is primarily label based, but may also be used with a boolean array.\n",
    "\n",
    "Allowed inputs are:\n",
    "- A single label, e.g. 5 or 'a', (note that 5 is interpreted as a label of the index, and never as an integer position along the index).\n",
    "- A list or array of labels, e.g. ['a', 'b', 'c'].\n",
    "- A slice object with labels, e.g. 'a':'f'.\n",
    "\n",
    "***Warning: Note that contrary to usual python slices, both the start and the stop are included.***\n",
    "\n",
    "- A boolean array of the same length as the axis being sliced, e.g. [True, False, True].\n",
    "- An alignable boolean Series. The index of the key will be aligned before masking.\n",
    "- An alignable Index. The Index of the returned selection will be the input.\n",
    "- A callable function with one argument (the calling Series or DataFrame) and that returns valid output for indexing (one of the above)"
   ],
   "metadata": {
    "collapsed": false
   }
  },
  {
   "cell_type": "code",
   "execution_count": 12,
   "outputs": [
    {
     "data": {
      "text/plain": "0      Laura\n1      Marta\n2    Micheal\n3       Alex\nName: Name, dtype: object"
     },
     "execution_count": 12,
     "metadata": {},
     "output_type": "execute_result"
    }
   ],
   "source": [
    "df.loc[:,\"Name\"]\n",
    "\n",
    "# df.loc[all columns, specific column]"
   ],
   "metadata": {
    "collapsed": false,
    "pycharm": {
     "name": "#%%\n"
    }
   }
  },
  {
   "cell_type": "code",
   "execution_count": 13,
   "outputs": [
    {
     "data": {
      "text/plain": "0      Laura\n1      Marta\n2    Micheal\nName: Name, dtype: object"
     },
     "execution_count": 13,
     "metadata": {},
     "output_type": "execute_result"
    }
   ],
   "source": [
    "df.loc[:2,\"Name\"]\n",
    "\n",
    "# df.loc[start_index:end_index, specific column]\n",
    "# Remember: End_index is inclusive for the pandas library."
   ],
   "metadata": {
    "collapsed": false,
    "pycharm": {
     "name": "#%%\n"
    }
   }
  },
  {
   "cell_type": "code",
   "execution_count": 14,
   "outputs": [
    {
     "data": {
      "text/plain": "      Name  Gender\n0    Laura  Female\n1    Marta  Female\n2  Micheal    Male",
      "text/html": "<div>\n<style scoped>\n    .dataframe tbody tr th:only-of-type {\n        vertical-align: middle;\n    }\n\n    .dataframe tbody tr th {\n        vertical-align: top;\n    }\n\n    .dataframe thead th {\n        text-align: right;\n    }\n</style>\n<table border=\"1\" class=\"dataframe\">\n  <thead>\n    <tr style=\"text-align: right;\">\n      <th></th>\n      <th>Name</th>\n      <th>Gender</th>\n    </tr>\n  </thead>\n  <tbody>\n    <tr>\n      <th>0</th>\n      <td>Laura</td>\n      <td>Female</td>\n    </tr>\n    <tr>\n      <th>1</th>\n      <td>Marta</td>\n      <td>Female</td>\n    </tr>\n    <tr>\n      <th>2</th>\n      <td>Micheal</td>\n      <td>Male</td>\n    </tr>\n  </tbody>\n</table>\n</div>"
     },
     "execution_count": 14,
     "metadata": {},
     "output_type": "execute_result"
    }
   ],
   "source": [
    "df.loc[:2, [\"Name\",\"Gender\"]]"
   ],
   "metadata": {
    "collapsed": false,
    "pycharm": {
     "name": "#%%\n"
    }
   }
  },
  {
   "cell_type": "code",
   "execution_count": 15,
   "outputs": [
    {
     "data": {
      "text/plain": "      Name  Age  Salary  Gender\n0    Laura   32   15000  Female\n1    Marta   45   35000  Female\n2  Micheal   30   25000    Male",
      "text/html": "<div>\n<style scoped>\n    .dataframe tbody tr th:only-of-type {\n        vertical-align: middle;\n    }\n\n    .dataframe tbody tr th {\n        vertical-align: top;\n    }\n\n    .dataframe thead th {\n        text-align: right;\n    }\n</style>\n<table border=\"1\" class=\"dataframe\">\n  <thead>\n    <tr style=\"text-align: right;\">\n      <th></th>\n      <th>Name</th>\n      <th>Age</th>\n      <th>Salary</th>\n      <th>Gender</th>\n    </tr>\n  </thead>\n  <tbody>\n    <tr>\n      <th>0</th>\n      <td>Laura</td>\n      <td>32</td>\n      <td>15000</td>\n      <td>Female</td>\n    </tr>\n    <tr>\n      <th>1</th>\n      <td>Marta</td>\n      <td>45</td>\n      <td>35000</td>\n      <td>Female</td>\n    </tr>\n    <tr>\n      <th>2</th>\n      <td>Micheal</td>\n      <td>30</td>\n      <td>25000</td>\n      <td>Male</td>\n    </tr>\n  </tbody>\n</table>\n</div>"
     },
     "execution_count": 15,
     "metadata": {},
     "output_type": "execute_result"
    }
   ],
   "source": [
    "df.loc[:2,\"Name\":\"Gender\"]"
   ],
   "metadata": {
    "collapsed": false,
    "pycharm": {
     "name": "#%%\n"
    }
   }
  },
  {
   "cell_type": "code",
   "execution_count": 16,
   "outputs": [
    {
     "data": {
      "text/plain": "      Name  Age  Salary  Gender\n3     Alex   35   36000    Male\n2  Micheal   30   25000    Male\n1    Marta   45   35000  Female\n0    Laura   32   15000  Female",
      "text/html": "<div>\n<style scoped>\n    .dataframe tbody tr th:only-of-type {\n        vertical-align: middle;\n    }\n\n    .dataframe tbody tr th {\n        vertical-align: top;\n    }\n\n    .dataframe thead th {\n        text-align: right;\n    }\n</style>\n<table border=\"1\" class=\"dataframe\">\n  <thead>\n    <tr style=\"text-align: right;\">\n      <th></th>\n      <th>Name</th>\n      <th>Age</th>\n      <th>Salary</th>\n      <th>Gender</th>\n    </tr>\n  </thead>\n  <tbody>\n    <tr>\n      <th>3</th>\n      <td>Alex</td>\n      <td>35</td>\n      <td>36000</td>\n      <td>Male</td>\n    </tr>\n    <tr>\n      <th>2</th>\n      <td>Micheal</td>\n      <td>30</td>\n      <td>25000</td>\n      <td>Male</td>\n    </tr>\n    <tr>\n      <th>1</th>\n      <td>Marta</td>\n      <td>45</td>\n      <td>35000</td>\n      <td>Female</td>\n    </tr>\n    <tr>\n      <th>0</th>\n      <td>Laura</td>\n      <td>32</td>\n      <td>15000</td>\n      <td>Female</td>\n    </tr>\n  </tbody>\n</table>\n</div>"
     },
     "execution_count": 16,
     "metadata": {},
     "output_type": "execute_result"
    }
   ],
   "source": [
    "# reverse\n",
    "df.loc[::-1,:]\n",
    "# df.loc[reverse all rows, get the all columns]"
   ],
   "metadata": {
    "collapsed": false,
    "pycharm": {
     "name": "#%%\n"
    }
   }
  },
  {
   "cell_type": "code",
   "execution_count": 17,
   "outputs": [
    {
     "data": {
      "text/plain": "      Name  Age  Salary\n0    Laura   32   15000\n1    Marta   45   35000\n2  Micheal   30   25000\n3     Alex   35   36000",
      "text/html": "<div>\n<style scoped>\n    .dataframe tbody tr th:only-of-type {\n        vertical-align: middle;\n    }\n\n    .dataframe tbody tr th {\n        vertical-align: top;\n    }\n\n    .dataframe thead th {\n        text-align: right;\n    }\n</style>\n<table border=\"1\" class=\"dataframe\">\n  <thead>\n    <tr style=\"text-align: right;\">\n      <th></th>\n      <th>Name</th>\n      <th>Age</th>\n      <th>Salary</th>\n    </tr>\n  </thead>\n  <tbody>\n    <tr>\n      <th>0</th>\n      <td>Laura</td>\n      <td>32</td>\n      <td>15000</td>\n    </tr>\n    <tr>\n      <th>1</th>\n      <td>Marta</td>\n      <td>45</td>\n      <td>35000</td>\n    </tr>\n    <tr>\n      <th>2</th>\n      <td>Micheal</td>\n      <td>30</td>\n      <td>25000</td>\n    </tr>\n    <tr>\n      <th>3</th>\n      <td>Alex</td>\n      <td>35</td>\n      <td>36000</td>\n    </tr>\n  </tbody>\n</table>\n</div>"
     },
     "execution_count": 17,
     "metadata": {},
     "output_type": "execute_result"
    }
   ],
   "source": [
    "df.loc[:,:\"Salary\"]\n",
    "# df.loc[get all rows, get all column until Salary column(inclusive)]"
   ],
   "metadata": {
    "collapsed": false,
    "pycharm": {
     "name": "#%%\n"
    }
   }
  },
  {
   "cell_type": "markdown",
   "source": [
    "### pandas.DataFrame.iloc\n",
    "\n",
    "Purely integer-location based indexing for selection by position.\n",
    "\n",
    ".iloc[] is primarily integer position based (from 0 to length-1 of the axis), but may also be used with a boolean array.\n",
    "\n",
    "Allowed inputs are:\n",
    "- An integer, e.g. 5.\n",
    "- A list or array of integers, e.g. [4, 3, 0].\n",
    "- A slice object with ints, e.g. 1:7.\n",
    "- A boolean array.\n",
    "- A callable function with one argument (the calling Series or DataFrame) and that returns valid output for indexing (one of the above). This is useful in method chains, when you don’t have a reference to the calling object, but would like to base your selection on some value.\n",
    "\n",
    ".iloc will raise IndexError if a requested indexer is out-of-bounds, except slice indexers which allow out-of-bounds indexing (this conforms with python/numpy slice semantics)."
   ],
   "metadata": {
    "collapsed": false
   }
  },
  {
   "cell_type": "code",
   "execution_count": 18,
   "outputs": [
    {
     "data": {
      "text/plain": "0      Laura\n1      Marta\n2    Micheal\n3       Alex\nName: Name, dtype: object"
     },
     "execution_count": 18,
     "metadata": {},
     "output_type": "execute_result"
    }
   ],
   "source": [
    "df.iloc[:,0]\n",
    "# df.iloc[get the all rows, get the data of index 0 column]"
   ],
   "metadata": {
    "collapsed": false,
    "pycharm": {
     "name": "#%%\n"
    }
   }
  },
  {
   "cell_type": "code",
   "execution_count": 19,
   "outputs": [
    {
     "data": {
      "text/plain": "    Name  Age  Salary  Gender\n0  Laura   32   15000  Female\n1  Marta   45   35000  Female",
      "text/html": "<div>\n<style scoped>\n    .dataframe tbody tr th:only-of-type {\n        vertical-align: middle;\n    }\n\n    .dataframe tbody tr th {\n        vertical-align: top;\n    }\n\n    .dataframe thead th {\n        text-align: right;\n    }\n</style>\n<table border=\"1\" class=\"dataframe\">\n  <thead>\n    <tr style=\"text-align: right;\">\n      <th></th>\n      <th>Name</th>\n      <th>Age</th>\n      <th>Salary</th>\n      <th>Gender</th>\n    </tr>\n  </thead>\n  <tbody>\n    <tr>\n      <th>0</th>\n      <td>Laura</td>\n      <td>32</td>\n      <td>15000</td>\n      <td>Female</td>\n    </tr>\n    <tr>\n      <th>1</th>\n      <td>Marta</td>\n      <td>45</td>\n      <td>35000</td>\n      <td>Female</td>\n    </tr>\n  </tbody>\n</table>\n</div>"
     },
     "execution_count": 19,
     "metadata": {},
     "output_type": "execute_result"
    }
   ],
   "source": [
    "df.iloc[[0,1]]"
   ],
   "metadata": {
    "collapsed": false,
    "pycharm": {
     "name": "#%%\n"
    }
   }
  },
  {
   "cell_type": "code",
   "execution_count": 20,
   "outputs": [
    {
     "data": {
      "text/plain": "      Name  Age  Salary  Gender\n0    Laura   32   15000  Female\n1    Marta   45   35000  Female\n2  Micheal   30   25000    Male",
      "text/html": "<div>\n<style scoped>\n    .dataframe tbody tr th:only-of-type {\n        vertical-align: middle;\n    }\n\n    .dataframe tbody tr th {\n        vertical-align: top;\n    }\n\n    .dataframe thead th {\n        text-align: right;\n    }\n</style>\n<table border=\"1\" class=\"dataframe\">\n  <thead>\n    <tr style=\"text-align: right;\">\n      <th></th>\n      <th>Name</th>\n      <th>Age</th>\n      <th>Salary</th>\n      <th>Gender</th>\n    </tr>\n  </thead>\n  <tbody>\n    <tr>\n      <th>0</th>\n      <td>Laura</td>\n      <td>32</td>\n      <td>15000</td>\n      <td>Female</td>\n    </tr>\n    <tr>\n      <th>1</th>\n      <td>Marta</td>\n      <td>45</td>\n      <td>35000</td>\n      <td>Female</td>\n    </tr>\n    <tr>\n      <th>2</th>\n      <td>Micheal</td>\n      <td>30</td>\n      <td>25000</td>\n      <td>Male</td>\n    </tr>\n  </tbody>\n</table>\n</div>"
     },
     "execution_count": 20,
     "metadata": {},
     "output_type": "execute_result"
    }
   ],
   "source": [
    "df.iloc[:3]"
   ],
   "metadata": {
    "collapsed": false,
    "pycharm": {
     "name": "#%%\n"
    }
   }
  },
  {
   "cell_type": "code",
   "execution_count": 21,
   "outputs": [
    {
     "data": {
      "text/plain": "      Name  Age\n0    Laura   32\n1    Marta   45\n2  Micheal   30\n3     Alex   35",
      "text/html": "<div>\n<style scoped>\n    .dataframe tbody tr th:only-of-type {\n        vertical-align: middle;\n    }\n\n    .dataframe tbody tr th {\n        vertical-align: top;\n    }\n\n    .dataframe thead th {\n        text-align: right;\n    }\n</style>\n<table border=\"1\" class=\"dataframe\">\n  <thead>\n    <tr style=\"text-align: right;\">\n      <th></th>\n      <th>Name</th>\n      <th>Age</th>\n    </tr>\n  </thead>\n  <tbody>\n    <tr>\n      <th>0</th>\n      <td>Laura</td>\n      <td>32</td>\n    </tr>\n    <tr>\n      <th>1</th>\n      <td>Marta</td>\n      <td>45</td>\n    </tr>\n    <tr>\n      <th>2</th>\n      <td>Micheal</td>\n      <td>30</td>\n    </tr>\n    <tr>\n      <th>3</th>\n      <td>Alex</td>\n      <td>35</td>\n    </tr>\n  </tbody>\n</table>\n</div>"
     },
     "execution_count": 21,
     "metadata": {},
     "output_type": "execute_result"
    }
   ],
   "source": [
    "df.iloc[:,0:2]"
   ],
   "metadata": {
    "collapsed": false,
    "pycharm": {
     "name": "#%%\n"
    }
   }
  },
  {
   "cell_type": "markdown",
   "source": [
    "## Filtering Pandas Data Frame"
   ],
   "metadata": {
    "collapsed": false
   }
  },
  {
   "cell_type": "code",
   "execution_count": 22,
   "outputs": [
    {
     "data": {
      "text/plain": "0    False\n1     True\n2     True\n3     True\nName: Salary, dtype: bool"
     },
     "execution_count": 22,
     "metadata": {},
     "output_type": "execute_result"
    }
   ],
   "source": [
    "df.Salary > 20000"
   ],
   "metadata": {
    "collapsed": false,
    "pycharm": {
     "name": "#%%\n"
    }
   }
  },
  {
   "cell_type": "code",
   "execution_count": 23,
   "outputs": [
    {
     "data": {
      "text/plain": "pandas.core.series.Series"
     },
     "execution_count": 23,
     "metadata": {},
     "output_type": "execute_result"
    }
   ],
   "source": [
    "type(df.Salary > 20000)"
   ],
   "metadata": {
    "collapsed": false,
    "pycharm": {
     "name": "#%%\n"
    }
   }
  },
  {
   "cell_type": "code",
   "execution_count": 24,
   "outputs": [
    {
     "data": {
      "text/plain": "      Name  Age  Salary  Gender\n1    Marta   45   35000  Female\n2  Micheal   30   25000    Male\n3     Alex   35   36000    Male",
      "text/html": "<div>\n<style scoped>\n    .dataframe tbody tr th:only-of-type {\n        vertical-align: middle;\n    }\n\n    .dataframe tbody tr th {\n        vertical-align: top;\n    }\n\n    .dataframe thead th {\n        text-align: right;\n    }\n</style>\n<table border=\"1\" class=\"dataframe\">\n  <thead>\n    <tr style=\"text-align: right;\">\n      <th></th>\n      <th>Name</th>\n      <th>Age</th>\n      <th>Salary</th>\n      <th>Gender</th>\n    </tr>\n  </thead>\n  <tbody>\n    <tr>\n      <th>1</th>\n      <td>Marta</td>\n      <td>45</td>\n      <td>35000</td>\n      <td>Female</td>\n    </tr>\n    <tr>\n      <th>2</th>\n      <td>Micheal</td>\n      <td>30</td>\n      <td>25000</td>\n      <td>Male</td>\n    </tr>\n    <tr>\n      <th>3</th>\n      <td>Alex</td>\n      <td>35</td>\n      <td>36000</td>\n      <td>Male</td>\n    </tr>\n  </tbody>\n</table>\n</div>"
     },
     "execution_count": 24,
     "metadata": {},
     "output_type": "execute_result"
    }
   ],
   "source": [
    "filter1 = df[df.Salary > 20000]\n",
    "filter1"
   ],
   "metadata": {
    "collapsed": false,
    "pycharm": {
     "name": "#%%\n"
    }
   }
  },
  {
   "cell_type": "code",
   "execution_count": 25,
   "outputs": [
    {
     "data": {
      "text/plain": "pandas.core.frame.DataFrame"
     },
     "execution_count": 25,
     "metadata": {},
     "output_type": "execute_result"
    }
   ],
   "source": [
    "type(filter1)"
   ],
   "metadata": {
    "collapsed": false,
    "pycharm": {
     "name": "#%%\n"
    }
   }
  },
  {
   "cell_type": "code",
   "execution_count": 26,
   "outputs": [
    {
     "data": {
      "text/plain": "      Name  Age  Salary Gender\n2  Micheal   30   25000   Male",
      "text/html": "<div>\n<style scoped>\n    .dataframe tbody tr th:only-of-type {\n        vertical-align: middle;\n    }\n\n    .dataframe tbody tr th {\n        vertical-align: top;\n    }\n\n    .dataframe thead th {\n        text-align: right;\n    }\n</style>\n<table border=\"1\" class=\"dataframe\">\n  <thead>\n    <tr style=\"text-align: right;\">\n      <th></th>\n      <th>Name</th>\n      <th>Age</th>\n      <th>Salary</th>\n      <th>Gender</th>\n    </tr>\n  </thead>\n  <tbody>\n    <tr>\n      <th>2</th>\n      <td>Micheal</td>\n      <td>30</td>\n      <td>25000</td>\n      <td>Male</td>\n    </tr>\n  </tbody>\n</table>\n</div>"
     },
     "execution_count": 26,
     "metadata": {},
     "output_type": "execute_result"
    }
   ],
   "source": [
    "filter2 = df[(df.Salary >20000) & (df.Age <=30)] #don't forget the parentheses.\n",
    "filter2"
   ],
   "metadata": {
    "collapsed": false,
    "pycharm": {
     "name": "#%%\n"
    }
   }
  },
  {
   "cell_type": "code",
   "execution_count": 27,
   "outputs": [
    {
     "data": {
      "text/plain": "    Name  Age  Salary  Gender\n1  Marta   45   35000  Female",
      "text/html": "<div>\n<style scoped>\n    .dataframe tbody tr th:only-of-type {\n        vertical-align: middle;\n    }\n\n    .dataframe tbody tr th {\n        vertical-align: top;\n    }\n\n    .dataframe thead th {\n        text-align: right;\n    }\n</style>\n<table border=\"1\" class=\"dataframe\">\n  <thead>\n    <tr style=\"text-align: right;\">\n      <th></th>\n      <th>Name</th>\n      <th>Age</th>\n      <th>Salary</th>\n      <th>Gender</th>\n    </tr>\n  </thead>\n  <tbody>\n    <tr>\n      <th>1</th>\n      <td>Marta</td>\n      <td>45</td>\n      <td>35000</td>\n      <td>Female</td>\n    </tr>\n  </tbody>\n</table>\n</div>"
     },
     "execution_count": 27,
     "metadata": {},
     "output_type": "execute_result"
    }
   ],
   "source": [
    "df[df.Age > 40]"
   ],
   "metadata": {
    "collapsed": false,
    "pycharm": {
     "name": "#%%\n"
    }
   }
  },
  {
   "cell_type": "markdown",
   "source": [
    "## List Comprehension"
   ],
   "metadata": {
    "collapsed": false
   }
  },
  {
   "cell_type": "markdown",
   "source": [
    "### pandas.DataFrame.mean\n",
    "\n",
    "DataFrame.mean(axis=None, skipna=None, level=None, numeric_only=None, **kwargs)\n",
    "\n",
    "Return the mean of the values over the requested axis."
   ],
   "metadata": {
    "collapsed": false
   }
  },
  {
   "cell_type": "code",
   "execution_count": 28,
   "outputs": [
    {
     "data": {
      "text/plain": "27750.0"
     },
     "execution_count": 28,
     "metadata": {},
     "output_type": "execute_result"
    }
   ],
   "source": [
    "average_salary = df.Salary.mean()\n",
    "average_salary"
   ],
   "metadata": {
    "collapsed": false,
    "pycharm": {
     "name": "#%%\n"
    }
   }
  },
  {
   "cell_type": "markdown",
   "source": [
    "### numpy.mean\n",
    "\n",
    "numpy.mean(a, axis=None, dtype=None, out=None, keepdims=<no value>, *, where=<no value>)[source]\n",
    "\n",
    "Compute the arithmetic mean along the specified axis.\n",
    "\n",
    "Returns the average of the array elements. The average is taken over the flattened array by default, otherwise over the specified axis. float64 intermediate and return values are used for integer inputs."
   ],
   "metadata": {
    "collapsed": false
   }
  },
  {
   "cell_type": "code",
   "execution_count": 29,
   "outputs": [],
   "source": [
    "import numpy as np"
   ],
   "metadata": {
    "collapsed": false,
    "pycharm": {
     "name": "#%%\n"
    }
   }
  },
  {
   "cell_type": "code",
   "execution_count": 30,
   "outputs": [
    {
     "data": {
      "text/plain": "27750.0"
     },
     "execution_count": 30,
     "metadata": {},
     "output_type": "execute_result"
    }
   ],
   "source": [
    "np.mean(df.Salary)"
   ],
   "metadata": {
    "collapsed": false,
    "pycharm": {
     "name": "#%%\n"
    }
   }
  },
  {
   "cell_type": "code",
   "execution_count": 31,
   "outputs": [
    {
     "data": {
      "text/plain": "      Name  Age  Salary  Gender SalaryLevel\n0    Laura   32   15000  Female         low\n1    Marta   45   35000  Female        high\n2  Micheal   30   25000    Male         low\n3     Alex   35   36000    Male        high",
      "text/html": "<div>\n<style scoped>\n    .dataframe tbody tr th:only-of-type {\n        vertical-align: middle;\n    }\n\n    .dataframe tbody tr th {\n        vertical-align: top;\n    }\n\n    .dataframe thead th {\n        text-align: right;\n    }\n</style>\n<table border=\"1\" class=\"dataframe\">\n  <thead>\n    <tr style=\"text-align: right;\">\n      <th></th>\n      <th>Name</th>\n      <th>Age</th>\n      <th>Salary</th>\n      <th>Gender</th>\n      <th>SalaryLevel</th>\n    </tr>\n  </thead>\n  <tbody>\n    <tr>\n      <th>0</th>\n      <td>Laura</td>\n      <td>32</td>\n      <td>15000</td>\n      <td>Female</td>\n      <td>low</td>\n    </tr>\n    <tr>\n      <th>1</th>\n      <td>Marta</td>\n      <td>45</td>\n      <td>35000</td>\n      <td>Female</td>\n      <td>high</td>\n    </tr>\n    <tr>\n      <th>2</th>\n      <td>Micheal</td>\n      <td>30</td>\n      <td>25000</td>\n      <td>Male</td>\n      <td>low</td>\n    </tr>\n    <tr>\n      <th>3</th>\n      <td>Alex</td>\n      <td>35</td>\n      <td>36000</td>\n      <td>Male</td>\n      <td>high</td>\n    </tr>\n  </tbody>\n</table>\n</div>"
     },
     "execution_count": 31,
     "metadata": {},
     "output_type": "execute_result"
    }
   ],
   "source": [
    "df[\"SalaryLevel\"] = [\"high\" if average_salary < i else \"low\" for i in df.Salary]\n",
    "df"
   ],
   "metadata": {
    "collapsed": false,
    "pycharm": {
     "name": "#%%\n"
    }
   }
  },
  {
   "cell_type": "code",
   "execution_count": 32,
   "outputs": [
    {
     "data": {
      "text/plain": "      name  age  salary  gender salarylevel\n0    Laura   32   15000  Female         low\n1    Marta   45   35000  Female        high\n2  Micheal   30   25000    Male         low\n3     Alex   35   36000    Male        high",
      "text/html": "<div>\n<style scoped>\n    .dataframe tbody tr th:only-of-type {\n        vertical-align: middle;\n    }\n\n    .dataframe tbody tr th {\n        vertical-align: top;\n    }\n\n    .dataframe thead th {\n        text-align: right;\n    }\n</style>\n<table border=\"1\" class=\"dataframe\">\n  <thead>\n    <tr style=\"text-align: right;\">\n      <th></th>\n      <th>name</th>\n      <th>age</th>\n      <th>salary</th>\n      <th>gender</th>\n      <th>salarylevel</th>\n    </tr>\n  </thead>\n  <tbody>\n    <tr>\n      <th>0</th>\n      <td>Laura</td>\n      <td>32</td>\n      <td>15000</td>\n      <td>Female</td>\n      <td>low</td>\n    </tr>\n    <tr>\n      <th>1</th>\n      <td>Marta</td>\n      <td>45</td>\n      <td>35000</td>\n      <td>Female</td>\n      <td>high</td>\n    </tr>\n    <tr>\n      <th>2</th>\n      <td>Micheal</td>\n      <td>30</td>\n      <td>25000</td>\n      <td>Male</td>\n      <td>low</td>\n    </tr>\n    <tr>\n      <th>3</th>\n      <td>Alex</td>\n      <td>35</td>\n      <td>36000</td>\n      <td>Male</td>\n      <td>high</td>\n    </tr>\n  </tbody>\n</table>\n</div>"
     },
     "execution_count": 32,
     "metadata": {},
     "output_type": "execute_result"
    }
   ],
   "source": [
    "df.columns = [i.lower() for i in df.columns]\n",
    "df"
   ],
   "metadata": {
    "collapsed": false,
    "pycharm": {
     "name": "#%%\n"
    }
   }
  },
  {
   "cell_type": "code",
   "execution_count": 33,
   "outputs": [
    {
     "data": {
      "text/plain": "      NAME  AGE  SALARY  GENDER SALARYLEVEL\n0    Laura   32   15000  Female         low\n1    Marta   45   35000  Female        high\n2  Micheal   30   25000    Male         low\n3     Alex   35   36000    Male        high",
      "text/html": "<div>\n<style scoped>\n    .dataframe tbody tr th:only-of-type {\n        vertical-align: middle;\n    }\n\n    .dataframe tbody tr th {\n        vertical-align: top;\n    }\n\n    .dataframe thead th {\n        text-align: right;\n    }\n</style>\n<table border=\"1\" class=\"dataframe\">\n  <thead>\n    <tr style=\"text-align: right;\">\n      <th></th>\n      <th>NAME</th>\n      <th>AGE</th>\n      <th>SALARY</th>\n      <th>GENDER</th>\n      <th>SALARYLEVEL</th>\n    </tr>\n  </thead>\n  <tbody>\n    <tr>\n      <th>0</th>\n      <td>Laura</td>\n      <td>32</td>\n      <td>15000</td>\n      <td>Female</td>\n      <td>low</td>\n    </tr>\n    <tr>\n      <th>1</th>\n      <td>Marta</td>\n      <td>45</td>\n      <td>35000</td>\n      <td>Female</td>\n      <td>high</td>\n    </tr>\n    <tr>\n      <th>2</th>\n      <td>Micheal</td>\n      <td>30</td>\n      <td>25000</td>\n      <td>Male</td>\n      <td>low</td>\n    </tr>\n    <tr>\n      <th>3</th>\n      <td>Alex</td>\n      <td>35</td>\n      <td>36000</td>\n      <td>Male</td>\n      <td>high</td>\n    </tr>\n  </tbody>\n</table>\n</div>"
     },
     "execution_count": 33,
     "metadata": {},
     "output_type": "execute_result"
    }
   ],
   "source": [
    "df.columns = [i.upper() for i in df.columns]\n",
    "df"
   ],
   "metadata": {
    "collapsed": false,
    "pycharm": {
     "name": "#%%\n"
    }
   }
  },
  {
   "cell_type": "code",
   "execution_count": 34,
   "outputs": [
    {
     "data": {
      "text/plain": "      Name  Age  Salary  Gender Salarylevel\n0    Laura   32   15000  Female         low\n1    Marta   45   35000  Female        high\n2  Micheal   30   25000    Male         low\n3     Alex   35   36000    Male        high",
      "text/html": "<div>\n<style scoped>\n    .dataframe tbody tr th:only-of-type {\n        vertical-align: middle;\n    }\n\n    .dataframe tbody tr th {\n        vertical-align: top;\n    }\n\n    .dataframe thead th {\n        text-align: right;\n    }\n</style>\n<table border=\"1\" class=\"dataframe\">\n  <thead>\n    <tr style=\"text-align: right;\">\n      <th></th>\n      <th>Name</th>\n      <th>Age</th>\n      <th>Salary</th>\n      <th>Gender</th>\n      <th>Salarylevel</th>\n    </tr>\n  </thead>\n  <tbody>\n    <tr>\n      <th>0</th>\n      <td>Laura</td>\n      <td>32</td>\n      <td>15000</td>\n      <td>Female</td>\n      <td>low</td>\n    </tr>\n    <tr>\n      <th>1</th>\n      <td>Marta</td>\n      <td>45</td>\n      <td>35000</td>\n      <td>Female</td>\n      <td>high</td>\n    </tr>\n    <tr>\n      <th>2</th>\n      <td>Micheal</td>\n      <td>30</td>\n      <td>25000</td>\n      <td>Male</td>\n      <td>low</td>\n    </tr>\n    <tr>\n      <th>3</th>\n      <td>Alex</td>\n      <td>35</td>\n      <td>36000</td>\n      <td>Male</td>\n      <td>high</td>\n    </tr>\n  </tbody>\n</table>\n</div>"
     },
     "execution_count": 34,
     "metadata": {},
     "output_type": "execute_result"
    }
   ],
   "source": [
    "df.columns = [i.capitalize() for i in df.columns]\n",
    "df"
   ],
   "metadata": {
    "collapsed": false,
    "pycharm": {
     "name": "#%%\n"
    }
   }
  },
  {
   "cell_type": "markdown",
   "source": [
    "## Concatenating Data"
   ],
   "metadata": {
    "collapsed": false
   }
  },
  {
   "cell_type": "markdown",
   "source": [
    "### pandas.DataFrame.drop\n",
    "\n",
    "DataFrame.drop(labels=None, axis=0, index=None, columns=None, level=None, inplace=False, errors='raise')[source]\n",
    "\n",
    "Drop specified labels from rows or columns.\n",
    "\n",
    "Remove rows or columns by specifying label names and corresponding axis, or by specifying directly index or column names. When using a multi-index, labels on different levels can be removed by specifying the level. See the user guide <advanced.shown_levels> for more information about the now unused levels."
   ],
   "metadata": {
    "collapsed": false
   }
  },
  {
   "cell_type": "code",
   "execution_count": 35,
   "outputs": [
    {
     "data": {
      "text/plain": "      Name  Age  Salary  Gender Salarylevel SalaryLevel\n0    Laura   32   15000  Female         low         low\n1    Marta   45   35000  Female        high        high\n2  Micheal   30   25000    Male         low         low\n3     Alex   35   36000    Male        high        high",
      "text/html": "<div>\n<style scoped>\n    .dataframe tbody tr th:only-of-type {\n        vertical-align: middle;\n    }\n\n    .dataframe tbody tr th {\n        vertical-align: top;\n    }\n\n    .dataframe thead th {\n        text-align: right;\n    }\n</style>\n<table border=\"1\" class=\"dataframe\">\n  <thead>\n    <tr style=\"text-align: right;\">\n      <th></th>\n      <th>Name</th>\n      <th>Age</th>\n      <th>Salary</th>\n      <th>Gender</th>\n      <th>Salarylevel</th>\n      <th>SalaryLevel</th>\n    </tr>\n  </thead>\n  <tbody>\n    <tr>\n      <th>0</th>\n      <td>Laura</td>\n      <td>32</td>\n      <td>15000</td>\n      <td>Female</td>\n      <td>low</td>\n      <td>low</td>\n    </tr>\n    <tr>\n      <th>1</th>\n      <td>Marta</td>\n      <td>45</td>\n      <td>35000</td>\n      <td>Female</td>\n      <td>high</td>\n      <td>high</td>\n    </tr>\n    <tr>\n      <th>2</th>\n      <td>Micheal</td>\n      <td>30</td>\n      <td>25000</td>\n      <td>Male</td>\n      <td>low</td>\n      <td>low</td>\n    </tr>\n    <tr>\n      <th>3</th>\n      <td>Alex</td>\n      <td>35</td>\n      <td>36000</td>\n      <td>Male</td>\n      <td>high</td>\n      <td>high</td>\n    </tr>\n  </tbody>\n</table>\n</div>"
     },
     "execution_count": 35,
     "metadata": {},
     "output_type": "execute_result"
    }
   ],
   "source": [
    "df[\"SalaryLevel\"] = [\"high\" if average_salary < i else \"low\" for i in df.Salary]\n",
    "df"
   ],
   "metadata": {
    "collapsed": false,
    "pycharm": {
     "name": "#%%\n"
    }
   }
  },
  {
   "cell_type": "code",
   "execution_count": 39,
   "outputs": [
    {
     "data": {
      "text/plain": "      Name  Age  Salary  Gender Salarylevel\n0    Laura   32   15000  Female         low\n1    Marta   45   35000  Female        high\n2  Micheal   30   25000    Male         low\n3     Alex   35   36000    Male        high",
      "text/html": "<div>\n<style scoped>\n    .dataframe tbody tr th:only-of-type {\n        vertical-align: middle;\n    }\n\n    .dataframe tbody tr th {\n        vertical-align: top;\n    }\n\n    .dataframe thead th {\n        text-align: right;\n    }\n</style>\n<table border=\"1\" class=\"dataframe\">\n  <thead>\n    <tr style=\"text-align: right;\">\n      <th></th>\n      <th>Name</th>\n      <th>Age</th>\n      <th>Salary</th>\n      <th>Gender</th>\n      <th>Salarylevel</th>\n    </tr>\n  </thead>\n  <tbody>\n    <tr>\n      <th>0</th>\n      <td>Laura</td>\n      <td>32</td>\n      <td>15000</td>\n      <td>Female</td>\n      <td>low</td>\n    </tr>\n    <tr>\n      <th>1</th>\n      <td>Marta</td>\n      <td>45</td>\n      <td>35000</td>\n      <td>Female</td>\n      <td>high</td>\n    </tr>\n    <tr>\n      <th>2</th>\n      <td>Micheal</td>\n      <td>30</td>\n      <td>25000</td>\n      <td>Male</td>\n      <td>low</td>\n    </tr>\n    <tr>\n      <th>3</th>\n      <td>Alex</td>\n      <td>35</td>\n      <td>36000</td>\n      <td>Male</td>\n      <td>high</td>\n    </tr>\n  </tbody>\n</table>\n</div>"
     },
     "execution_count": 39,
     "metadata": {},
     "output_type": "execute_result"
    }
   ],
   "source": [
    "df = df.drop(columns=\"SalaryLevel\")\n",
    "df"
   ],
   "metadata": {
    "collapsed": false,
    "pycharm": {
     "name": "#%%\n"
    }
   }
  },
  {
   "cell_type": "code",
   "execution_count": 40,
   "outputs": [
    {
     "data": {
      "text/plain": "      Name  Age  Salary  Gender Salarylevel SalaryLevel\n0    Laura   32   15000  Female         low         low\n1    Marta   45   35000  Female        high        high\n2  Micheal   30   25000    Male         low         low\n3     Alex   35   36000    Male        high        high",
      "text/html": "<div>\n<style scoped>\n    .dataframe tbody tr th:only-of-type {\n        vertical-align: middle;\n    }\n\n    .dataframe tbody tr th {\n        vertical-align: top;\n    }\n\n    .dataframe thead th {\n        text-align: right;\n    }\n</style>\n<table border=\"1\" class=\"dataframe\">\n  <thead>\n    <tr style=\"text-align: right;\">\n      <th></th>\n      <th>Name</th>\n      <th>Age</th>\n      <th>Salary</th>\n      <th>Gender</th>\n      <th>Salarylevel</th>\n      <th>SalaryLevel</th>\n    </tr>\n  </thead>\n  <tbody>\n    <tr>\n      <th>0</th>\n      <td>Laura</td>\n      <td>32</td>\n      <td>15000</td>\n      <td>Female</td>\n      <td>low</td>\n      <td>low</td>\n    </tr>\n    <tr>\n      <th>1</th>\n      <td>Marta</td>\n      <td>45</td>\n      <td>35000</td>\n      <td>Female</td>\n      <td>high</td>\n      <td>high</td>\n    </tr>\n    <tr>\n      <th>2</th>\n      <td>Micheal</td>\n      <td>30</td>\n      <td>25000</td>\n      <td>Male</td>\n      <td>low</td>\n      <td>low</td>\n    </tr>\n    <tr>\n      <th>3</th>\n      <td>Alex</td>\n      <td>35</td>\n      <td>36000</td>\n      <td>Male</td>\n      <td>high</td>\n      <td>high</td>\n    </tr>\n  </tbody>\n</table>\n</div>"
     },
     "execution_count": 40,
     "metadata": {},
     "output_type": "execute_result"
    }
   ],
   "source": [
    "df[\"SalaryLevel\"] = [\"high\" if average_salary < i else \"low\" for i in df.Salary]\n",
    "df"
   ],
   "metadata": {
    "collapsed": false,
    "pycharm": {
     "name": "#%%\n"
    }
   }
  },
  {
   "cell_type": "code",
   "execution_count": 41,
   "outputs": [
    {
     "data": {
      "text/plain": "      Name  Age  Salary  Gender Salarylevel\n0    Laura   32   15000  Female         low\n1    Marta   45   35000  Female        high\n2  Micheal   30   25000    Male         low\n3     Alex   35   36000    Male        high",
      "text/html": "<div>\n<style scoped>\n    .dataframe tbody tr th:only-of-type {\n        vertical-align: middle;\n    }\n\n    .dataframe tbody tr th {\n        vertical-align: top;\n    }\n\n    .dataframe thead th {\n        text-align: right;\n    }\n</style>\n<table border=\"1\" class=\"dataframe\">\n  <thead>\n    <tr style=\"text-align: right;\">\n      <th></th>\n      <th>Name</th>\n      <th>Age</th>\n      <th>Salary</th>\n      <th>Gender</th>\n      <th>Salarylevel</th>\n    </tr>\n  </thead>\n  <tbody>\n    <tr>\n      <th>0</th>\n      <td>Laura</td>\n      <td>32</td>\n      <td>15000</td>\n      <td>Female</td>\n      <td>low</td>\n    </tr>\n    <tr>\n      <th>1</th>\n      <td>Marta</td>\n      <td>45</td>\n      <td>35000</td>\n      <td>Female</td>\n      <td>high</td>\n    </tr>\n    <tr>\n      <th>2</th>\n      <td>Micheal</td>\n      <td>30</td>\n      <td>25000</td>\n      <td>Male</td>\n      <td>low</td>\n    </tr>\n    <tr>\n      <th>3</th>\n      <td>Alex</td>\n      <td>35</td>\n      <td>36000</td>\n      <td>Male</td>\n      <td>high</td>\n    </tr>\n  </tbody>\n</table>\n</div>"
     },
     "execution_count": 41,
     "metadata": {},
     "output_type": "execute_result"
    }
   ],
   "source": [
    "df.drop([\"SalaryLevel\"], axis = 1, inplace= True)\n",
    "# axis: { 0 or \"index\", 1 or \"columns\"}, default = 0\n",
    "df"
   ],
   "metadata": {
    "collapsed": false,
    "pycharm": {
     "name": "#%%\n"
    }
   }
  },
  {
   "cell_type": "markdown",
   "source": [
    "### pandas.concat\n",
    "\n",
    "pandas.concat(objs, axis=0, join='outer', ignore_index=False, keys=None, levels=None, names=None, verify_integrity=False, sort=False, copy=True)[source]\n",
    "\n",
    "Concatenate pandas objects along a particular axis with optional set logic along the other axes.\n",
    "\n",
    "Can also add a layer of hierarchical indexing on the concatenation axis, which may be useful if the labels are the same (or overlapping) on the passed axis number."
   ],
   "metadata": {
    "collapsed": false
   }
  },
  {
   "cell_type": "code",
   "execution_count": 42,
   "outputs": [],
   "source": [
    "dictionary2 = {\n",
    "    \"Name\": [\"Liam\",\"Noah\",\"Oliver\",\"Ava\"],\n",
    "    \"Age\":[25,20,27,26],\n",
    "    \"Salary\":[12000,7500,16000,14000],\n",
    "    \"Gender\":[\"Male\",\"Male\",\"Male\",\"Female\"]\n",
    "}"
   ],
   "metadata": {
    "collapsed": false,
    "pycharm": {
     "name": "#%%\n"
    }
   }
  },
  {
   "cell_type": "code",
   "execution_count": 45,
   "outputs": [
    {
     "data": {
      "text/plain": "     Name  Age  Salary  Gender\n0    Liam   25   12000    Male\n1    Noah   20    7500    Male\n2  Oliver   27   16000    Male\n3     Ava   26   14000  Female",
      "text/html": "<div>\n<style scoped>\n    .dataframe tbody tr th:only-of-type {\n        vertical-align: middle;\n    }\n\n    .dataframe tbody tr th {\n        vertical-align: top;\n    }\n\n    .dataframe thead th {\n        text-align: right;\n    }\n</style>\n<table border=\"1\" class=\"dataframe\">\n  <thead>\n    <tr style=\"text-align: right;\">\n      <th></th>\n      <th>Name</th>\n      <th>Age</th>\n      <th>Salary</th>\n      <th>Gender</th>\n    </tr>\n  </thead>\n  <tbody>\n    <tr>\n      <th>0</th>\n      <td>Liam</td>\n      <td>25</td>\n      <td>12000</td>\n      <td>Male</td>\n    </tr>\n    <tr>\n      <th>1</th>\n      <td>Noah</td>\n      <td>20</td>\n      <td>7500</td>\n      <td>Male</td>\n    </tr>\n    <tr>\n      <th>2</th>\n      <td>Oliver</td>\n      <td>27</td>\n      <td>16000</td>\n      <td>Male</td>\n    </tr>\n    <tr>\n      <th>3</th>\n      <td>Ava</td>\n      <td>26</td>\n      <td>14000</td>\n      <td>Female</td>\n    </tr>\n  </tbody>\n</table>\n</div>"
     },
     "execution_count": 45,
     "metadata": {},
     "output_type": "execute_result"
    }
   ],
   "source": [
    "df2 = pd.DataFrame(dictionary2)\n",
    "df2"
   ],
   "metadata": {
    "collapsed": false,
    "pycharm": {
     "name": "#%%\n"
    }
   }
  },
  {
   "cell_type": "code",
   "execution_count": 49,
   "outputs": [
    {
     "data": {
      "text/plain": "      Name  Age  Salary  Gender Salarylevel\n0    Laura   32   15000  Female         low\n1    Marta   45   35000  Female        high\n2  Micheal   30   25000    Male         low\n3     Alex   35   36000    Male        high\n0     Liam   25   12000    Male         NaN\n1     Noah   20    7500    Male         NaN\n2   Oliver   27   16000    Male         NaN\n3      Ava   26   14000  Female         NaN",
      "text/html": "<div>\n<style scoped>\n    .dataframe tbody tr th:only-of-type {\n        vertical-align: middle;\n    }\n\n    .dataframe tbody tr th {\n        vertical-align: top;\n    }\n\n    .dataframe thead th {\n        text-align: right;\n    }\n</style>\n<table border=\"1\" class=\"dataframe\">\n  <thead>\n    <tr style=\"text-align: right;\">\n      <th></th>\n      <th>Name</th>\n      <th>Age</th>\n      <th>Salary</th>\n      <th>Gender</th>\n      <th>Salarylevel</th>\n    </tr>\n  </thead>\n  <tbody>\n    <tr>\n      <th>0</th>\n      <td>Laura</td>\n      <td>32</td>\n      <td>15000</td>\n      <td>Female</td>\n      <td>low</td>\n    </tr>\n    <tr>\n      <th>1</th>\n      <td>Marta</td>\n      <td>45</td>\n      <td>35000</td>\n      <td>Female</td>\n      <td>high</td>\n    </tr>\n    <tr>\n      <th>2</th>\n      <td>Micheal</td>\n      <td>30</td>\n      <td>25000</td>\n      <td>Male</td>\n      <td>low</td>\n    </tr>\n    <tr>\n      <th>3</th>\n      <td>Alex</td>\n      <td>35</td>\n      <td>36000</td>\n      <td>Male</td>\n      <td>high</td>\n    </tr>\n    <tr>\n      <th>0</th>\n      <td>Liam</td>\n      <td>25</td>\n      <td>12000</td>\n      <td>Male</td>\n      <td>NaN</td>\n    </tr>\n    <tr>\n      <th>1</th>\n      <td>Noah</td>\n      <td>20</td>\n      <td>7500</td>\n      <td>Male</td>\n      <td>NaN</td>\n    </tr>\n    <tr>\n      <th>2</th>\n      <td>Oliver</td>\n      <td>27</td>\n      <td>16000</td>\n      <td>Male</td>\n      <td>NaN</td>\n    </tr>\n    <tr>\n      <th>3</th>\n      <td>Ava</td>\n      <td>26</td>\n      <td>14000</td>\n      <td>Female</td>\n      <td>NaN</td>\n    </tr>\n  </tbody>\n</table>\n</div>"
     },
     "execution_count": 49,
     "metadata": {},
     "output_type": "execute_result"
    }
   ],
   "source": [
    "df_new = pd.concat([df,df2])\n",
    "df_new"
   ],
   "metadata": {
    "collapsed": false,
    "pycharm": {
     "name": "#%%\n"
    }
   }
  },
  {
   "cell_type": "code",
   "execution_count": 50,
   "outputs": [
    {
     "data": {
      "text/plain": "      Name  Age  Salary  Gender Salarylevel\n0    Laura   32   15000  Female         low\n1    Marta   45   35000  Female        high\n2  Micheal   30   25000    Male         low\n3     Alex   35   36000    Male        high\n0     Liam   25   12000    Male         low\n1     Noah   20    7500    Male         low\n2   Oliver   27   16000    Male         low\n3      Ava   26   14000  Female         low",
      "text/html": "<div>\n<style scoped>\n    .dataframe tbody tr th:only-of-type {\n        vertical-align: middle;\n    }\n\n    .dataframe tbody tr th {\n        vertical-align: top;\n    }\n\n    .dataframe thead th {\n        text-align: right;\n    }\n</style>\n<table border=\"1\" class=\"dataframe\">\n  <thead>\n    <tr style=\"text-align: right;\">\n      <th></th>\n      <th>Name</th>\n      <th>Age</th>\n      <th>Salary</th>\n      <th>Gender</th>\n      <th>Salarylevel</th>\n    </tr>\n  </thead>\n  <tbody>\n    <tr>\n      <th>0</th>\n      <td>Laura</td>\n      <td>32</td>\n      <td>15000</td>\n      <td>Female</td>\n      <td>low</td>\n    </tr>\n    <tr>\n      <th>1</th>\n      <td>Marta</td>\n      <td>45</td>\n      <td>35000</td>\n      <td>Female</td>\n      <td>high</td>\n    </tr>\n    <tr>\n      <th>2</th>\n      <td>Micheal</td>\n      <td>30</td>\n      <td>25000</td>\n      <td>Male</td>\n      <td>low</td>\n    </tr>\n    <tr>\n      <th>3</th>\n      <td>Alex</td>\n      <td>35</td>\n      <td>36000</td>\n      <td>Male</td>\n      <td>high</td>\n    </tr>\n    <tr>\n      <th>0</th>\n      <td>Liam</td>\n      <td>25</td>\n      <td>12000</td>\n      <td>Male</td>\n      <td>low</td>\n    </tr>\n    <tr>\n      <th>1</th>\n      <td>Noah</td>\n      <td>20</td>\n      <td>7500</td>\n      <td>Male</td>\n      <td>low</td>\n    </tr>\n    <tr>\n      <th>2</th>\n      <td>Oliver</td>\n      <td>27</td>\n      <td>16000</td>\n      <td>Male</td>\n      <td>low</td>\n    </tr>\n    <tr>\n      <th>3</th>\n      <td>Ava</td>\n      <td>26</td>\n      <td>14000</td>\n      <td>Female</td>\n      <td>low</td>\n    </tr>\n  </tbody>\n</table>\n</div>"
     },
     "execution_count": 50,
     "metadata": {},
     "output_type": "execute_result"
    }
   ],
   "source": [
    "df_new[\"Salarylevel\"] = [\"high\" if average_salary < i else \"low\" for i in df_new.Salary]\n",
    "df_new"
   ],
   "metadata": {
    "collapsed": false,
    "pycharm": {
     "name": "#%%\n"
    }
   }
  },
  {
   "cell_type": "markdown",
   "source": [
    "## Transforming Data"
   ],
   "metadata": {
    "collapsed": false
   }
  },
  {
   "cell_type": "code",
   "execution_count": 61,
   "outputs": [],
   "source": [
    "# create a list of our conditions\n",
    "conditions = [\n",
    "    (0 < df_new[\"Age\"]) & (df_new[\"Age\"] <= 2),\n",
    "    (3 < df_new[\"Age\"]) & (df_new[\"Age\"] <= 39),\n",
    "    (40 < df_new[\"Age\"]) & (df_new[\"Age\"] <= 59),\n",
    "    (60 < df_new[\"Age\"]) & (df_new[\"Age\"] <= 99)\n",
    "]\n",
    "\n",
    "# create a list of the values we want to assign for each condition\n",
    "values = [\"Baby\",\"Young Adults\",\"Middle-aged Adults\",\"Old Adults\"]"
   ],
   "metadata": {
    "collapsed": false,
    "pycharm": {
     "name": "#%%\n"
    }
   }
  },
  {
   "cell_type": "code",
   "execution_count": 62,
   "outputs": [],
   "source": [
    "df_new[\"AgeGroup\"] = np.select(conditions,values)"
   ],
   "metadata": {
    "collapsed": false,
    "pycharm": {
     "name": "#%%\n"
    }
   }
  },
  {
   "cell_type": "code",
   "execution_count": 63,
   "outputs": [
    {
     "data": {
      "text/plain": "      Name  Age  Salary  Gender Salarylevel            AgeGroup\n0    Laura   32   15000  Female         low        Young Adults\n1    Marta   45   35000  Female        high  Middle-aged Adults\n2  Micheal   30   25000    Male         low        Young Adults\n3     Alex   35   36000    Male        high        Young Adults\n0     Liam   25   12000    Male         low        Young Adults\n1     Noah   20    7500    Male         low        Young Adults\n2   Oliver   27   16000    Male         low        Young Adults\n3      Ava   26   14000  Female         low        Young Adults",
      "text/html": "<div>\n<style scoped>\n    .dataframe tbody tr th:only-of-type {\n        vertical-align: middle;\n    }\n\n    .dataframe tbody tr th {\n        vertical-align: top;\n    }\n\n    .dataframe thead th {\n        text-align: right;\n    }\n</style>\n<table border=\"1\" class=\"dataframe\">\n  <thead>\n    <tr style=\"text-align: right;\">\n      <th></th>\n      <th>Name</th>\n      <th>Age</th>\n      <th>Salary</th>\n      <th>Gender</th>\n      <th>Salarylevel</th>\n      <th>AgeGroup</th>\n    </tr>\n  </thead>\n  <tbody>\n    <tr>\n      <th>0</th>\n      <td>Laura</td>\n      <td>32</td>\n      <td>15000</td>\n      <td>Female</td>\n      <td>low</td>\n      <td>Young Adults</td>\n    </tr>\n    <tr>\n      <th>1</th>\n      <td>Marta</td>\n      <td>45</td>\n      <td>35000</td>\n      <td>Female</td>\n      <td>high</td>\n      <td>Middle-aged Adults</td>\n    </tr>\n    <tr>\n      <th>2</th>\n      <td>Micheal</td>\n      <td>30</td>\n      <td>25000</td>\n      <td>Male</td>\n      <td>low</td>\n      <td>Young Adults</td>\n    </tr>\n    <tr>\n      <th>3</th>\n      <td>Alex</td>\n      <td>35</td>\n      <td>36000</td>\n      <td>Male</td>\n      <td>high</td>\n      <td>Young Adults</td>\n    </tr>\n    <tr>\n      <th>0</th>\n      <td>Liam</td>\n      <td>25</td>\n      <td>12000</td>\n      <td>Male</td>\n      <td>low</td>\n      <td>Young Adults</td>\n    </tr>\n    <tr>\n      <th>1</th>\n      <td>Noah</td>\n      <td>20</td>\n      <td>7500</td>\n      <td>Male</td>\n      <td>low</td>\n      <td>Young Adults</td>\n    </tr>\n    <tr>\n      <th>2</th>\n      <td>Oliver</td>\n      <td>27</td>\n      <td>16000</td>\n      <td>Male</td>\n      <td>low</td>\n      <td>Young Adults</td>\n    </tr>\n    <tr>\n      <th>3</th>\n      <td>Ava</td>\n      <td>26</td>\n      <td>14000</td>\n      <td>Female</td>\n      <td>low</td>\n      <td>Young Adults</td>\n    </tr>\n  </tbody>\n</table>\n</div>"
     },
     "execution_count": 63,
     "metadata": {},
     "output_type": "execute_result"
    }
   ],
   "source": [
    "df_new"
   ],
   "metadata": {
    "collapsed": false,
    "pycharm": {
     "name": "#%%\n"
    }
   }
  },
  {
   "cell_type": "code",
   "execution_count": 64,
   "outputs": [],
   "source": [
    "def increaseSalary(salary):\n",
    "    return salary * 2"
   ],
   "metadata": {
    "collapsed": false,
    "pycharm": {
     "name": "#%%\n"
    }
   }
  },
  {
   "cell_type": "code",
   "execution_count": 65,
   "outputs": [
    {
     "data": {
      "text/plain": "      Name  Age  Salary  Gender Salarylevel            AgeGroup  NewSalary\n0    Laura   32   15000  Female         low        Young Adults      30000\n1    Marta   45   35000  Female        high  Middle-aged Adults      70000\n2  Micheal   30   25000    Male         low        Young Adults      50000\n3     Alex   35   36000    Male        high        Young Adults      72000\n0     Liam   25   12000    Male         low        Young Adults      24000\n1     Noah   20    7500    Male         low        Young Adults      15000\n2   Oliver   27   16000    Male         low        Young Adults      32000\n3      Ava   26   14000  Female         low        Young Adults      28000",
      "text/html": "<div>\n<style scoped>\n    .dataframe tbody tr th:only-of-type {\n        vertical-align: middle;\n    }\n\n    .dataframe tbody tr th {\n        vertical-align: top;\n    }\n\n    .dataframe thead th {\n        text-align: right;\n    }\n</style>\n<table border=\"1\" class=\"dataframe\">\n  <thead>\n    <tr style=\"text-align: right;\">\n      <th></th>\n      <th>Name</th>\n      <th>Age</th>\n      <th>Salary</th>\n      <th>Gender</th>\n      <th>Salarylevel</th>\n      <th>AgeGroup</th>\n      <th>NewSalary</th>\n    </tr>\n  </thead>\n  <tbody>\n    <tr>\n      <th>0</th>\n      <td>Laura</td>\n      <td>32</td>\n      <td>15000</td>\n      <td>Female</td>\n      <td>low</td>\n      <td>Young Adults</td>\n      <td>30000</td>\n    </tr>\n    <tr>\n      <th>1</th>\n      <td>Marta</td>\n      <td>45</td>\n      <td>35000</td>\n      <td>Female</td>\n      <td>high</td>\n      <td>Middle-aged Adults</td>\n      <td>70000</td>\n    </tr>\n    <tr>\n      <th>2</th>\n      <td>Micheal</td>\n      <td>30</td>\n      <td>25000</td>\n      <td>Male</td>\n      <td>low</td>\n      <td>Young Adults</td>\n      <td>50000</td>\n    </tr>\n    <tr>\n      <th>3</th>\n      <td>Alex</td>\n      <td>35</td>\n      <td>36000</td>\n      <td>Male</td>\n      <td>high</td>\n      <td>Young Adults</td>\n      <td>72000</td>\n    </tr>\n    <tr>\n      <th>0</th>\n      <td>Liam</td>\n      <td>25</td>\n      <td>12000</td>\n      <td>Male</td>\n      <td>low</td>\n      <td>Young Adults</td>\n      <td>24000</td>\n    </tr>\n    <tr>\n      <th>1</th>\n      <td>Noah</td>\n      <td>20</td>\n      <td>7500</td>\n      <td>Male</td>\n      <td>low</td>\n      <td>Young Adults</td>\n      <td>15000</td>\n    </tr>\n    <tr>\n      <th>2</th>\n      <td>Oliver</td>\n      <td>27</td>\n      <td>16000</td>\n      <td>Male</td>\n      <td>low</td>\n      <td>Young Adults</td>\n      <td>32000</td>\n    </tr>\n    <tr>\n      <th>3</th>\n      <td>Ava</td>\n      <td>26</td>\n      <td>14000</td>\n      <td>Female</td>\n      <td>low</td>\n      <td>Young Adults</td>\n      <td>28000</td>\n    </tr>\n  </tbody>\n</table>\n</div>"
     },
     "execution_count": 65,
     "metadata": {},
     "output_type": "execute_result"
    }
   ],
   "source": [
    "df_new[\"NewSalary\"]= df_new.Salary.apply(increaseSalary)\n",
    "df_new"
   ],
   "metadata": {
    "collapsed": false,
    "pycharm": {
     "name": "#%%\n"
    }
   }
  },
  {
   "cell_type": "code",
   "execution_count": 66,
   "outputs": [
    {
     "data": {
      "text/plain": "      Name  Age  Salary  Gender Salarylevel            AgeGroup  NewSalary\n0    Laura   32   30000  Female         low        Young Adults      30000\n1    Marta   45   70000  Female        high  Middle-aged Adults      70000\n2  Micheal   30   50000    Male         low        Young Adults      50000\n3     Alex   35   72000    Male        high        Young Adults      72000\n0     Liam   25   24000    Male         low        Young Adults      24000\n1     Noah   20   15000    Male         low        Young Adults      15000\n2   Oliver   27   32000    Male         low        Young Adults      32000\n3      Ava   26   28000  Female         low        Young Adults      28000",
      "text/html": "<div>\n<style scoped>\n    .dataframe tbody tr th:only-of-type {\n        vertical-align: middle;\n    }\n\n    .dataframe tbody tr th {\n        vertical-align: top;\n    }\n\n    .dataframe thead th {\n        text-align: right;\n    }\n</style>\n<table border=\"1\" class=\"dataframe\">\n  <thead>\n    <tr style=\"text-align: right;\">\n      <th></th>\n      <th>Name</th>\n      <th>Age</th>\n      <th>Salary</th>\n      <th>Gender</th>\n      <th>Salarylevel</th>\n      <th>AgeGroup</th>\n      <th>NewSalary</th>\n    </tr>\n  </thead>\n  <tbody>\n    <tr>\n      <th>0</th>\n      <td>Laura</td>\n      <td>32</td>\n      <td>30000</td>\n      <td>Female</td>\n      <td>low</td>\n      <td>Young Adults</td>\n      <td>30000</td>\n    </tr>\n    <tr>\n      <th>1</th>\n      <td>Marta</td>\n      <td>45</td>\n      <td>70000</td>\n      <td>Female</td>\n      <td>high</td>\n      <td>Middle-aged Adults</td>\n      <td>70000</td>\n    </tr>\n    <tr>\n      <th>2</th>\n      <td>Micheal</td>\n      <td>30</td>\n      <td>50000</td>\n      <td>Male</td>\n      <td>low</td>\n      <td>Young Adults</td>\n      <td>50000</td>\n    </tr>\n    <tr>\n      <th>3</th>\n      <td>Alex</td>\n      <td>35</td>\n      <td>72000</td>\n      <td>Male</td>\n      <td>high</td>\n      <td>Young Adults</td>\n      <td>72000</td>\n    </tr>\n    <tr>\n      <th>0</th>\n      <td>Liam</td>\n      <td>25</td>\n      <td>24000</td>\n      <td>Male</td>\n      <td>low</td>\n      <td>Young Adults</td>\n      <td>24000</td>\n    </tr>\n    <tr>\n      <th>1</th>\n      <td>Noah</td>\n      <td>20</td>\n      <td>15000</td>\n      <td>Male</td>\n      <td>low</td>\n      <td>Young Adults</td>\n      <td>15000</td>\n    </tr>\n    <tr>\n      <th>2</th>\n      <td>Oliver</td>\n      <td>27</td>\n      <td>32000</td>\n      <td>Male</td>\n      <td>low</td>\n      <td>Young Adults</td>\n      <td>32000</td>\n    </tr>\n    <tr>\n      <th>3</th>\n      <td>Ava</td>\n      <td>26</td>\n      <td>28000</td>\n      <td>Female</td>\n      <td>low</td>\n      <td>Young Adults</td>\n      <td>28000</td>\n    </tr>\n  </tbody>\n</table>\n</div>"
     },
     "execution_count": 66,
     "metadata": {},
     "output_type": "execute_result"
    }
   ],
   "source": [
    "df_new[\"Salary\"] = df_new[\"NewSalary\"]\n",
    "df_new"
   ],
   "metadata": {
    "collapsed": false,
    "pycharm": {
     "name": "#%%\n"
    }
   }
  },
  {
   "cell_type": "code",
   "execution_count": 68,
   "outputs": [
    {
     "data": {
      "text/plain": "      Name  Age  Salary  Gender Salarylevel            AgeGroup\n0    Laura   32   30000  Female         low        Young Adults\n1    Marta   45   70000  Female        high  Middle-aged Adults\n2  Micheal   30   50000    Male         low        Young Adults\n3     Alex   35   72000    Male        high        Young Adults\n0     Liam   25   24000    Male         low        Young Adults\n1     Noah   20   15000    Male         low        Young Adults\n2   Oliver   27   32000    Male         low        Young Adults\n3      Ava   26   28000  Female         low        Young Adults",
      "text/html": "<div>\n<style scoped>\n    .dataframe tbody tr th:only-of-type {\n        vertical-align: middle;\n    }\n\n    .dataframe tbody tr th {\n        vertical-align: top;\n    }\n\n    .dataframe thead th {\n        text-align: right;\n    }\n</style>\n<table border=\"1\" class=\"dataframe\">\n  <thead>\n    <tr style=\"text-align: right;\">\n      <th></th>\n      <th>Name</th>\n      <th>Age</th>\n      <th>Salary</th>\n      <th>Gender</th>\n      <th>Salarylevel</th>\n      <th>AgeGroup</th>\n    </tr>\n  </thead>\n  <tbody>\n    <tr>\n      <th>0</th>\n      <td>Laura</td>\n      <td>32</td>\n      <td>30000</td>\n      <td>Female</td>\n      <td>low</td>\n      <td>Young Adults</td>\n    </tr>\n    <tr>\n      <th>1</th>\n      <td>Marta</td>\n      <td>45</td>\n      <td>70000</td>\n      <td>Female</td>\n      <td>high</td>\n      <td>Middle-aged Adults</td>\n    </tr>\n    <tr>\n      <th>2</th>\n      <td>Micheal</td>\n      <td>30</td>\n      <td>50000</td>\n      <td>Male</td>\n      <td>low</td>\n      <td>Young Adults</td>\n    </tr>\n    <tr>\n      <th>3</th>\n      <td>Alex</td>\n      <td>35</td>\n      <td>72000</td>\n      <td>Male</td>\n      <td>high</td>\n      <td>Young Adults</td>\n    </tr>\n    <tr>\n      <th>0</th>\n      <td>Liam</td>\n      <td>25</td>\n      <td>24000</td>\n      <td>Male</td>\n      <td>low</td>\n      <td>Young Adults</td>\n    </tr>\n    <tr>\n      <th>1</th>\n      <td>Noah</td>\n      <td>20</td>\n      <td>15000</td>\n      <td>Male</td>\n      <td>low</td>\n      <td>Young Adults</td>\n    </tr>\n    <tr>\n      <th>2</th>\n      <td>Oliver</td>\n      <td>27</td>\n      <td>32000</td>\n      <td>Male</td>\n      <td>low</td>\n      <td>Young Adults</td>\n    </tr>\n    <tr>\n      <th>3</th>\n      <td>Ava</td>\n      <td>26</td>\n      <td>28000</td>\n      <td>Female</td>\n      <td>low</td>\n      <td>Young Adults</td>\n    </tr>\n  </tbody>\n</table>\n</div>"
     },
     "execution_count": 68,
     "metadata": {},
     "output_type": "execute_result"
    }
   ],
   "source": [
    "df_new.drop(columns=\"NewSalary\",inplace=True)\n",
    "df_new"
   ],
   "metadata": {
    "collapsed": false,
    "pycharm": {
     "name": "#%%\n"
    }
   }
  },
  {
   "cell_type": "code",
   "execution_count": 70,
   "outputs": [
    {
     "data": {
      "text/plain": "      Name  Age  Salary  Gender Salarylevel            AgeGroup\n0    Laura   32   30000  Female         low        Young Adults\n1    Marta   45   70000  Female        high  Middle-aged Adults\n2  Micheal   30   50000    Male        high        Young Adults\n3     Alex   35   72000    Male        high        Young Adults\n0     Liam   25   24000    Male         low        Young Adults\n1     Noah   20   15000    Male         low        Young Adults\n2   Oliver   27   32000    Male         low        Young Adults\n3      Ava   26   28000  Female         low        Young Adults",
      "text/html": "<div>\n<style scoped>\n    .dataframe tbody tr th:only-of-type {\n        vertical-align: middle;\n    }\n\n    .dataframe tbody tr th {\n        vertical-align: top;\n    }\n\n    .dataframe thead th {\n        text-align: right;\n    }\n</style>\n<table border=\"1\" class=\"dataframe\">\n  <thead>\n    <tr style=\"text-align: right;\">\n      <th></th>\n      <th>Name</th>\n      <th>Age</th>\n      <th>Salary</th>\n      <th>Gender</th>\n      <th>Salarylevel</th>\n      <th>AgeGroup</th>\n    </tr>\n  </thead>\n  <tbody>\n    <tr>\n      <th>0</th>\n      <td>Laura</td>\n      <td>32</td>\n      <td>30000</td>\n      <td>Female</td>\n      <td>low</td>\n      <td>Young Adults</td>\n    </tr>\n    <tr>\n      <th>1</th>\n      <td>Marta</td>\n      <td>45</td>\n      <td>70000</td>\n      <td>Female</td>\n      <td>high</td>\n      <td>Middle-aged Adults</td>\n    </tr>\n    <tr>\n      <th>2</th>\n      <td>Micheal</td>\n      <td>30</td>\n      <td>50000</td>\n      <td>Male</td>\n      <td>high</td>\n      <td>Young Adults</td>\n    </tr>\n    <tr>\n      <th>3</th>\n      <td>Alex</td>\n      <td>35</td>\n      <td>72000</td>\n      <td>Male</td>\n      <td>high</td>\n      <td>Young Adults</td>\n    </tr>\n    <tr>\n      <th>0</th>\n      <td>Liam</td>\n      <td>25</td>\n      <td>24000</td>\n      <td>Male</td>\n      <td>low</td>\n      <td>Young Adults</td>\n    </tr>\n    <tr>\n      <th>1</th>\n      <td>Noah</td>\n      <td>20</td>\n      <td>15000</td>\n      <td>Male</td>\n      <td>low</td>\n      <td>Young Adults</td>\n    </tr>\n    <tr>\n      <th>2</th>\n      <td>Oliver</td>\n      <td>27</td>\n      <td>32000</td>\n      <td>Male</td>\n      <td>low</td>\n      <td>Young Adults</td>\n    </tr>\n    <tr>\n      <th>3</th>\n      <td>Ava</td>\n      <td>26</td>\n      <td>28000</td>\n      <td>Female</td>\n      <td>low</td>\n      <td>Young Adults</td>\n    </tr>\n  </tbody>\n</table>\n</div>"
     },
     "execution_count": 70,
     "metadata": {},
     "output_type": "execute_result"
    }
   ],
   "source": [
    "average_salary = df_new.Salary.mean()\n",
    "\n",
    "df_new[\"Salarylevel\"] = [\"high\" if average_salary < i else \"low\" for i in df_new.Salary]\n",
    "df_new"
   ],
   "metadata": {
    "collapsed": false,
    "pycharm": {
     "name": "#%%\n"
    }
   }
  },
  {
   "cell_type": "markdown",
   "source": [
    "# Resources\n",
    "\n",
    "- [Python: Yapay Zeka için Python Programlama (1)](https://www.udemy.com/course/python-sfrdan-uzmanlga-programlama-1/?src=sac&kw=python+i%C3%A7in+yapay+zeka)\n",
    "- [Pandas Documentation](https://pandas.pydata.org/docs/reference/index.html)\n",
    "- [NumPy Documentation](https://numpy.org/doc/stable/reference/index.html)"
   ],
   "metadata": {
    "collapsed": false,
    "pycharm": {
     "name": "#%% md\n"
    }
   }
  }
 ],
 "metadata": {
  "kernelspec": {
   "display_name": "Python 3",
   "language": "python",
   "name": "python3"
  },
  "language_info": {
   "codemirror_mode": {
    "name": "ipython",
    "version": 2
   },
   "file_extension": ".py",
   "mimetype": "text/x-python",
   "name": "python",
   "nbconvert_exporter": "python",
   "pygments_lexer": "ipython2",
   "version": "2.7.6"
  }
 },
 "nbformat": 4,
 "nbformat_minor": 0
}