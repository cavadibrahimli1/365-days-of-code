{
 "cells": [
  {
   "cell_type": "markdown",
   "metadata": {},
   "source": [
    "**Bu bölüme başlamadan önce yapılması gerekenler:**\n",
    "<br>*https://www.udemy.com/python-sfrdan-uzmanlga-programlama-1/*"
   ]
  },
  {
   "cell_type": "markdown",
   "metadata": {},
   "source": [
    "## İçerik:\n",
    "* [Algoritma](#1)\n",
    "* [Algoritma ve Code Complexity](#2)\n",
    "* [Big-O (Büyük-O) Notation](#3)\n",
    "* [Big O | Omega | Theta](#4)\n",
    "* [Big-O Örnekleri](#5)\n",
    "    * [O(1) Constant](#6)\n",
    "    * [O(n) Linear](#7)\n",
    "    * [O(n^3) Cubic](#8)\n",
    "    * [Calculating Scale of Big-O](#9)\n",
    "* [QUIZ](#10)\n",
    "* [QUIZ Cevap](#11)\n",
    "* [İş Görüşmesi Soruları](#12)\n",
    "* [Neler Öğrendik](#13)"
   ]
  },
  {
   "cell_type": "markdown",
   "metadata": {},
   "source": [
    "<a id=\"1\"></a> <br>\n",
    "## Algoritma (Algorithms)\n",
    "* Algoritma bir problemi çözmek için yazılan bir formül\n",
    "* Problem elimde x tane koyun var ve ortalama koyun fiyatı y tl. Eğer ben tüm koyunlarımı satarsam ne kadar paraya sahip olurum?"
   ]
  },
  {
   "cell_type": "code",
   "execution_count": 1,
   "metadata": {},
   "outputs": [],
   "source": [
    "def multiplication(koyun_sayisi,ortalam_fiyat):\n",
    "    sonuc = koyun_sayisi*ortalam_fiyat\n",
    "    return sonuc"
   ]
  },
  {
   "cell_type": "code",
   "execution_count": 2,
   "metadata": {},
   "outputs": [
    {
     "data": {
      "text/plain": [
       "20"
      ]
     },
     "execution_count": 2,
     "metadata": {},
     "output_type": "execute_result"
    }
   ],
   "source": [
    "multiplication(4,5)"
   ]
  },
  {
   "cell_type": "markdown",
   "metadata": {},
   "source": [
    "<a id=\"2\"></a> <br>\n",
    "## Algoritma ve Code Complexity\n",
    "* Algoritma bir problemi çözmek için yazılan bir formül\n",
    "* Bazı problemler ünlüdür mesela bir listede ki sayıları küçükten büyüğe dizmeye çalışmak. Problem ünlü olduğu için de algoritması da ünlüdür ve isimleri vardır. Mesela bir listede ki sayıları küçükten büyüğe doğru dizmek için sorting algoritması kullanılır\n",
    "    * Problem: Sayıları küçükten büyüğe dizmek\n",
    "    * Algoritma: Sorting\n",
    "* Ayrıca sorting algoritması da kendi içinde farklı algoritmalara ayrılır mesela bubble sort algoritması yada selection sort algoritması gibi.\n",
    "* Peki şimdi size bir soru benim bir problemin var. Bu problem bir liste içinde ki sayıları küçükten büyüğe dizme problemi. İki tane de seçeneğim var. Ya bubble sort algoritmasını yada selection sort algoritmasını kullanacağım. Sorum şu hangi algoritma daha iyi?\n",
    "* Sorunun daha iyi anlaşılabilmesi için gerçek bir örnek yapalım.\n",
    "* Benim bir formülüm var. Bu formül verilen n sayısına göre 1 den n sayısına kadar olan sayıların karesini alıp topluyor.\n",
    "* Mesela n = 3 için toplam = 1^2 + 2^2 + 3^2 = 14 "
   ]
  },
  {
   "cell_type": "markdown",
   "metadata": {},
   "source": [
    "![title](big_o_algoritma_karşılaştırma.jpg)"
   ]
  },
  {
   "cell_type": "code",
   "execution_count": 3,
   "metadata": {},
   "outputs": [],
   "source": [
    "def square_sum1(n):\n",
    "    '''\n",
    "    Take an input of n and return the sum of the squares of numbers from 0 to n\n",
    "    '''\n",
    "    total = 0\n",
    "    for x in range(1,n+1): \n",
    "        total += x**2\n",
    "    \n",
    "    return total"
   ]
  },
  {
   "cell_type": "code",
   "execution_count": 4,
   "metadata": {},
   "outputs": [
    {
     "data": {
      "text/plain": [
       "14"
      ]
     },
     "execution_count": 4,
     "metadata": {},
     "output_type": "execute_result"
    }
   ],
   "source": [
    "square_sum1(3)"
   ]
  },
  {
   "cell_type": "code",
   "execution_count": 5,
   "metadata": {},
   "outputs": [],
   "source": [
    "def square_sum2(n):\n",
    "    \"\"\"\n",
    "    Take an input of n and return the sum of the squares of numbers from 0 to n with formula\n",
    "    \"\"\"\n",
    "    return (n*(n+1)*(2*n+1))/6"
   ]
  },
  {
   "cell_type": "code",
   "execution_count": 6,
   "metadata": {},
   "outputs": [
    {
     "data": {
      "text/plain": [
       "14.0"
      ]
     },
     "execution_count": 6,
     "metadata": {},
     "output_type": "execute_result"
    }
   ],
   "source": [
    "square_sum2(3)"
   ]
  },
  {
   "cell_type": "markdown",
   "metadata": {},
   "source": [
    "* Farklı algoritmaları kullanmamıza rağmen sonuçlar aynı çıktı. Peki hangi algoritma daha iyi?"
   ]
  },
  {
   "cell_type": "code",
   "execution_count": 7,
   "metadata": {},
   "outputs": [
    {
     "name": "stdout",
     "output_type": "stream",
     "text": [
      "1.44 µs ± 8.31 ns per loop (mean ± std. dev. of 7 runs, 1000000 loops each)\n"
     ]
    }
   ],
   "source": [
    "%timeit square_sum1(3)"
   ]
  },
  {
   "cell_type": "code",
   "execution_count": 8,
   "metadata": {},
   "outputs": [
    {
     "name": "stdout",
     "output_type": "stream",
     "text": [
      "222 ns ± 2.15 ns per loop (mean ± std. dev. of 7 runs, 1000000 loops each)\n"
     ]
    }
   ],
   "source": [
    "%timeit square_sum2(3)"
   ]
  },
  {
   "cell_type": "markdown",
   "metadata": {},
   "source": [
    "* İkinci algoritma daha etkili diyebiliriz. Çünkü running time daha hızlı. Ama running time değerini algoritmaları karşılaştırmak için kullanamayız.\n",
    "* Görüldüğü üzere run time değerleri farklı çıktı. Hatta sizin bilgisayarınızda daha da farklı sonuçlar elde ettik.\n",
    "* Çünkü kullandığımız hardware (donanım) mesela CPU farklı.\n",
    "* Bu iki algoritmayı zamana göre karşılaştırmak doğru olmaz çünkü runtime donanıma bağlı değişiyor.\n",
    "* Bu nedenle Big O notasyonunu kullanırız."
   ]
  },
  {
   "cell_type": "markdown",
   "metadata": {},
   "source": [
    "<a id=\"3\"></a> <br>\n",
    "## Big-O (Büyük-O) Notation"
   ]
  },
  {
   "cell_type": "markdown",
   "metadata": {},
   "source": [
    "* İki algoritmayı karşılaştırırken runtime'a göre karşılaştırma!\n",
    "* Big-O (Büyük-O) kavramı bir fonksiyonun büyümesini ifade eder.\n",
    "* Biz runtime nasıl büyür bunu karşılaştırmak istiyoruz.\n",
    "* Big-O analizi asymptotic analysis olarak da adlandırılır.\n",
    "* Bazı Big-O fonksiyonları. n = input büyüklüğü (size of an input)\n",
    "![title](big_o.jpg)"
   ]
  },
  {
   "cell_type": "markdown",
   "metadata": {},
   "source": [
    "![title](plot_big_o.png)"
   ]
  },
  {
   "cell_type": "markdown",
   "metadata": {},
   "source": [
    "<a id=\"4\"></a> <br>\n",
    "## Big O | Omega | Theta"
   ]
  },
  {
   "cell_type": "markdown",
   "metadata": {},
   "source": [
    "* Big O: yazdığımız kodun **en kötü** durumda nasıl çalışıtğını test etmek için\n",
    "* Omega: yazdığımız kodun **en iyi** durumda nasıl çalıştığını test etmek için\n",
    "* Theta: mid case senaryo\n",
    "* Elimizde bir liste var listenin elemanları 2,3,4. Amacımız 2 sayısını bulmak. Liste içinde arama yaparken birinci indexten sonuncu indexe doğru arama yapılır.\n",
    "![title](big_o_omega_theta.jpg)"
   ]
  },
  {
   "cell_type": "markdown",
   "metadata": {},
   "source": [
    "<a id=\"5\"></a> <br>\n",
    "## Big-O Örnekleri"
   ]
  },
  {
   "cell_type": "markdown",
   "metadata": {},
   "source": [
    "<a id=\"6\"></a> <br>\n",
    "### O(1) Constant\n",
    "* Constant çünkü input size'dan bağımsız.\n",
    "* Eğer input size çok büyük olsaydi yine sonuç değişmeyecekti."
   ]
  },
  {
   "cell_type": "code",
   "execution_count": 9,
   "metadata": {},
   "outputs": [],
   "source": [
    "def constant_big_O(liste):\n",
    "    print(liste[0])"
   ]
  },
  {
   "cell_type": "code",
   "execution_count": 10,
   "metadata": {},
   "outputs": [
    {
     "name": "stdout",
     "output_type": "stream",
     "text": [
      "-5\n"
     ]
    }
   ],
   "source": [
    "constant_big_O([-5,0,1,2,3,4,5,6,7,8])"
   ]
  },
  {
   "cell_type": "markdown",
   "metadata": {},
   "source": [
    "<a id=\"7\"></a> <br>\n",
    "### O(n) Linear\n",
    "* Bu fonksiyon linear zamanda çalışır. Yani algoritma içerisinden ki operasyon sayısı input size ile doğru orantılı. (scale linearly with n (input size))\n",
    "* Mesela eğer input size 5 olsaydı, 5 kez print fonksiyonu çağrılacaktı. Yani input size ile doğru orantılı. \n",
    "* Yada input size 2 olsaydı, 2 kez print fonksiyonu çağrılacaktı."
   ]
  },
  {
   "cell_type": "code",
   "execution_count": 11,
   "metadata": {},
   "outputs": [],
   "source": [
    "def linear_big_O(liste):\n",
    "    for deger in liste:\n",
    "        print(deger)\n",
    "        "
   ]
  },
  {
   "cell_type": "code",
   "execution_count": 12,
   "metadata": {},
   "outputs": [
    {
     "name": "stdout",
     "output_type": "stream",
     "text": [
      "1\n",
      "3\n"
     ]
    }
   ],
   "source": [
    "linear_big_O([1,3])"
   ]
  },
  {
   "cell_type": "markdown",
   "metadata": {},
   "source": [
    "<a id=\"8\"></a> <br>\n",
    "### O(n^3) Cubic\n",
    "* Nested loop'lardan oluşan 3 tane for döngüsü kullacağız.\n",
    "* Yani n^3 işlem yapacağız.\n",
    "* Mesela input size = 3 için, 27 tane işlem yapacağız."
   ]
  },
  {
   "cell_type": "code",
   "execution_count": 13,
   "metadata": {},
   "outputs": [],
   "source": [
    "def cubic_big_O(liste):\n",
    "\n",
    "    for item_1 in liste:\n",
    "        for item_2 in liste:\n",
    "            for item_3 in liste:\n",
    "                print(item_1,item_2,item_3)\n",
    "            "
   ]
  },
  {
   "cell_type": "code",
   "execution_count": 14,
   "metadata": {},
   "outputs": [
    {
     "name": "stdout",
     "output_type": "stream",
     "text": [
      "1 1 1\n",
      "1 1 2\n",
      "1 1 3\n",
      "1 2 1\n",
      "1 2 2\n",
      "1 2 3\n",
      "1 3 1\n",
      "1 3 2\n",
      "1 3 3\n",
      "2 1 1\n",
      "2 1 2\n",
      "2 1 3\n",
      "2 2 1\n",
      "2 2 2\n",
      "2 2 3\n",
      "2 3 1\n",
      "2 3 2\n",
      "2 3 3\n",
      "3 1 1\n",
      "3 1 2\n",
      "3 1 3\n",
      "3 2 1\n",
      "3 2 2\n",
      "3 2 3\n",
      "3 3 1\n",
      "3 3 2\n",
      "3 3 3\n"
     ]
    }
   ],
   "source": [
    "cubic_big_O([1,2,3])"
   ]
  },
  {
   "cell_type": "markdown",
   "metadata": {},
   "source": [
    "<a id=\"9\"></a> <br>\n",
    "## Calculating Scale of Big-O\n",
    "* Insignificant constant\n",
    "* Linear big-O input size ile doğru orantılı\n",
    "* İlk örneğimde big-O = O(n)\n",
    "* İkinci örneğimde big-O = O(2n)\n",
    "* 2 burada insignificant constant olarak geçer ve bu sabit sayıyı ihmal edebiliriz.\n",
    "* Yani her iki durum içinde big-O = O(n)"
   ]
  },
  {
   "cell_type": "code",
   "execution_count": 15,
   "metadata": {},
   "outputs": [],
   "source": [
    "def linear_big_O(liste):\n",
    "    for deger in liste:\n",
    "        print(deger)"
   ]
  },
  {
   "cell_type": "code",
   "execution_count": 16,
   "metadata": {},
   "outputs": [
    {
     "name": "stdout",
     "output_type": "stream",
     "text": [
      "1\n",
      "3\n"
     ]
    }
   ],
   "source": [
    "linear_big_O([1,3])   # O(n)"
   ]
  },
  {
   "cell_type": "code",
   "execution_count": 17,
   "metadata": {},
   "outputs": [],
   "source": [
    "def linear_big_O_2(liste):\n",
    "    for deger in liste:\n",
    "        print(deger)\n",
    "    for deger in liste:\n",
    "        print(deger)"
   ]
  },
  {
   "cell_type": "code",
   "execution_count": 18,
   "metadata": {},
   "outputs": [
    {
     "name": "stdout",
     "output_type": "stream",
     "text": [
      "1\n",
      "3\n",
      "1\n",
      "3\n"
     ]
    }
   ],
   "source": [
    "linear_big_O_2([1,3])   # O(2n)"
   ]
  },
  {
   "cell_type": "code",
   "execution_count": 19,
   "metadata": {},
   "outputs": [],
   "source": [
    "# O(1+n)\n",
    "def example(liste):\n",
    "    \n",
    "    print(liste[0])  # O(1) constant\n",
    "    \n",
    "    for each in liste:  # O(n) linear\n",
    "        print(each)\n",
    "    "
   ]
  },
  {
   "cell_type": "code",
   "execution_count": 20,
   "metadata": {},
   "outputs": [
    {
     "name": "stdout",
     "output_type": "stream",
     "text": [
      "1\n",
      "1\n",
      "2\n",
      "3\n",
      "4\n"
     ]
    }
   ],
   "source": [
    "example([1,2,3,4])"
   ]
  },
  {
   "cell_type": "markdown",
   "metadata": {},
   "source": [
    "* Bu örnekte insignificant term 1 sayısıdır. Bu nedenle ihmal edebiliriz.\n",
    "* Insignificant olup olmadığını anlamak içinde n değerine sonsuz verip deneyelim.\n",
    "* Sonuç olarak example metodunun O(n)'dir."
   ]
  },
  {
   "cell_type": "markdown",
   "metadata": {},
   "source": [
    "<a id=\"10\"></a> <br>\n",
    "## QUIZ"
   ]
  },
  {
   "cell_type": "code",
   "execution_count": 21,
   "metadata": {},
   "outputs": [
    {
     "name": "stdout",
     "output_type": "stream",
     "text": [
      "quiz1\n",
      "quiz1\n",
      "quiz1\n",
      "quiz1\n"
     ]
    }
   ],
   "source": [
    "# Quiz 1\n",
    "# big-O performance(performance = time complexity) ??? \n",
    "n = 2\n",
    "for x in range(n):\n",
    "    for y in range(n):\n",
    "        print(\"quiz1\")\n"
   ]
  },
  {
   "cell_type": "code",
   "execution_count": 22,
   "metadata": {},
   "outputs": [
    {
     "name": "stdout",
     "output_type": "stream",
     "text": [
      "quiz2\n",
      "quiz2\n"
     ]
    }
   ],
   "source": [
    "# Quiz 2\n",
    "# big-O performance(performance = time complexity) ???\n",
    "n = 2\n",
    "for x in range(n):        \n",
    "    print(\"quiz2\")"
   ]
  },
  {
   "cell_type": "code",
   "execution_count": 23,
   "metadata": {},
   "outputs": [
    {
     "name": "stdout",
     "output_type": "stream",
     "text": [
      "1\n",
      "1\n",
      "2\n",
      "2\n",
      "3\n",
      "3\n"
     ]
    }
   ],
   "source": [
    "# Quiz 3\n",
    "# big-O performance(performance = time complexity) ???\n",
    "n = 2\n",
    "for x in range(n):        \n",
    "    print(\"1\")\n",
    "for x in range(n):        \n",
    "    print(\"2\")\n",
    "for x in range(n):        \n",
    "    print(\"3\")"
   ]
  },
  {
   "cell_type": "markdown",
   "metadata": {},
   "source": [
    "<a id=\"11\"></a> <br>\n",
    "## QUIZ Cevap\n",
    "1. O(n^2)\n",
    "2. O(n)\n",
    "3. O(n)"
   ]
  },
  {
   "cell_type": "markdown",
   "metadata": {},
   "source": [
    "<a id=\"12\"></a> <br>\n",
    "## İş Görüşmesi Soruları\n",
    "* Runtime yerine neden big-O kullanılıyor.\n",
    "    * Donanım farklılıklarından dolayı algoritmanın gerçek runtime'ını bilmemiz kolay değil\n",
    "* Big-O basitçe ne işe yarar\n",
    "    * Algo performance karşılaştırmaya\n",
    "* İnput size neden önemli?\n",
    "    * Big-O da input size kullanılıyor.\n",
    "* Asymptotic  analiz ile big-O aynı şey mi?\n",
    "    * Yes :)\n",
    "* Algoritma yazarken best case mi worst case mi önemli?\n",
    "    * Of course worst case. "
   ]
  },
  {
   "cell_type": "markdown",
   "metadata": {},
   "source": [
    "<a id=\"13\"></a> <br>\n",
    "## Neler Öğrendik\n",
    "* Algoritma\n",
    "* Algoritma ve Code Complexity\n",
    "* Big-O (Büyük-O) Notation\n",
    "* Big O | Omega | Theta\n",
    "* Big-O Örnekleri\n",
    "    * O(1) Constant\n",
    "    * O(n) Linear\n",
    "    * O(n^3) Cubic\n",
    "    * Calculating Scale of Big-O\n",
    "* QUIZ - Cevap\n",
    "* İş Görüşmesi Soruları"
   ]
  }
 ],
 "metadata": {
  "kernelspec": {
   "display_name": "Python 3",
   "language": "python",
   "name": "python3"
  },
  "language_info": {
   "codemirror_mode": {
    "name": "ipython",
    "version": 3
   },
   "file_extension": ".py",
   "mimetype": "text/x-python",
   "name": "python",
   "nbconvert_exporter": "python",
   "pygments_lexer": "ipython3",
   "version": "3.6.5"
  }
 },
 "nbformat": 4,
 "nbformat_minor": 2
}
